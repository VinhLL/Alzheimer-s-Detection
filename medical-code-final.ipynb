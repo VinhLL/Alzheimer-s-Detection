{
 "cells": [
  {
   "cell_type": "code",
   "execution_count": 1,
   "id": "9e647ede",
   "metadata": {
    "execution": {
     "iopub.execute_input": "2025-06-03T10:31:55.940207Z",
     "iopub.status.busy": "2025-06-03T10:31:55.939878Z",
     "iopub.status.idle": "2025-06-03T10:32:12.813080Z",
     "shell.execute_reply": "2025-06-03T10:32:12.812103Z"
    },
    "id": "N5Vk1fFFEGws",
    "papermill": {
     "duration": 16.881873,
     "end_time": "2025-06-03T10:32:12.814881",
     "exception": false,
     "start_time": "2025-06-03T10:31:55.933008",
     "status": "completed"
    },
    "tags": []
   },
   "outputs": [],
   "source": [
    "import os\n",
    "import cv2\n",
    "import pandas as pd\n",
    "import numpy as np\n",
    "import matplotlib.pyplot as plt\n",
    "import seaborn as sns\n",
    "from sklearn.model_selection import train_test_split\n",
    "from sklearn.preprocessing import LabelEncoder\n",
    "from torch.utils.data import Dataset, DataLoader\n",
    "import torch\n",
    "import torch.nn as nn\n",
    "import torch.optim as optim\n",
    "from torchvision import transforms\n",
    "from PIL import Image\n",
    "from tqdm import tqdm\n",
    "from sklearn.metrics import confusion_matrix, classification_report"
   ]
  },
  {
   "cell_type": "code",
   "execution_count": 2,
   "id": "44650f83",
   "metadata": {
    "execution": {
     "iopub.execute_input": "2025-06-03T10:32:12.826126Z",
     "iopub.status.busy": "2025-06-03T10:32:12.825665Z",
     "iopub.status.idle": "2025-06-03T10:32:12.891565Z",
     "shell.execute_reply": "2025-06-03T10:32:12.890655Z"
    },
    "id": "ABCy78YJ6j0x",
    "papermill": {
     "duration": 0.073356,
     "end_time": "2025-06-03T10:32:12.893307",
     "exception": false,
     "start_time": "2025-06-03T10:32:12.819951",
     "status": "completed"
    },
    "tags": []
   },
   "outputs": [],
   "source": [
    "import pandas as pd\n",
    "\n",
    "train_df = pd.read_csv('/kaggle/input/data-medical/train.csv')\n",
    "test_df = pd.read_csv('/kaggle/input/data-medical/test.csv')\n",
    "val_df = pd.read_csv('/kaggle/input/data-medical/val.csv')"
   ]
  },
  {
   "cell_type": "code",
   "execution_count": 3,
   "id": "a023c209",
   "metadata": {
    "execution": {
     "iopub.execute_input": "2025-06-03T10:32:12.904252Z",
     "iopub.status.busy": "2025-06-03T10:32:12.903946Z",
     "iopub.status.idle": "2025-06-03T10:32:17.791834Z",
     "shell.execute_reply": "2025-06-03T10:32:17.790401Z"
    },
    "id": "1a7rZ-QpkV9z",
    "outputId": "21f2c608-d9de-4d89-aaf6-61004f062452",
    "papermill": {
     "duration": 4.89554,
     "end_time": "2025-06-03T10:32:17.793728",
     "exception": false,
     "start_time": "2025-06-03T10:32:12.898188",
     "status": "completed"
    },
    "tags": []
   },
   "outputs": [
    {
     "name": "stdout",
     "output_type": "stream",
     "text": [
      "Requirement already satisfied: nibabel in /usr/local/lib/python3.11/dist-packages (5.3.2)\r\n",
      "Requirement already satisfied: importlib-resources>=5.12 in /usr/local/lib/python3.11/dist-packages (from nibabel) (6.5.2)\r\n",
      "Requirement already satisfied: numpy>=1.22 in /usr/local/lib/python3.11/dist-packages (from nibabel) (1.26.4)\r\n",
      "Requirement already satisfied: packaging>=20 in /usr/local/lib/python3.11/dist-packages (from nibabel) (25.0)\r\n",
      "Requirement already satisfied: typing-extensions>=4.6 in /usr/local/lib/python3.11/dist-packages (from nibabel) (4.13.2)\r\n",
      "Requirement already satisfied: mkl_fft in /usr/local/lib/python3.11/dist-packages (from numpy>=1.22->nibabel) (1.3.8)\r\n",
      "Requirement already satisfied: mkl_random in /usr/local/lib/python3.11/dist-packages (from numpy>=1.22->nibabel) (1.2.4)\r\n",
      "Requirement already satisfied: mkl_umath in /usr/local/lib/python3.11/dist-packages (from numpy>=1.22->nibabel) (0.1.1)\r\n",
      "Requirement already satisfied: mkl in /usr/local/lib/python3.11/dist-packages (from numpy>=1.22->nibabel) (2025.1.0)\r\n",
      "Requirement already satisfied: tbb4py in /usr/local/lib/python3.11/dist-packages (from numpy>=1.22->nibabel) (2022.1.0)\r\n",
      "Requirement already satisfied: mkl-service in /usr/local/lib/python3.11/dist-packages (from numpy>=1.22->nibabel) (2.4.1)\r\n",
      "Requirement already satisfied: intel-openmp<2026,>=2024 in /usr/local/lib/python3.11/dist-packages (from mkl->numpy>=1.22->nibabel) (2024.2.0)\r\n",
      "Requirement already satisfied: tbb==2022.* in /usr/local/lib/python3.11/dist-packages (from mkl->numpy>=1.22->nibabel) (2022.1.0)\r\n",
      "Requirement already satisfied: tcmlib==1.* in /usr/local/lib/python3.11/dist-packages (from tbb==2022.*->mkl->numpy>=1.22->nibabel) (1.3.0)\r\n",
      "Requirement already satisfied: intel-cmplr-lib-rt in /usr/local/lib/python3.11/dist-packages (from mkl_umath->numpy>=1.22->nibabel) (2024.2.0)\r\n",
      "Requirement already satisfied: intel-cmplr-lib-ur==2024.2.0 in /usr/local/lib/python3.11/dist-packages (from intel-openmp<2026,>=2024->mkl->numpy>=1.22->nibabel) (2024.2.0)\r\n"
     ]
    }
   ],
   "source": [
    "!pip install nibabel"
   ]
  },
  {
   "cell_type": "code",
   "execution_count": 4,
   "id": "d0e78806",
   "metadata": {
    "execution": {
     "iopub.execute_input": "2025-06-03T10:32:17.804992Z",
     "iopub.status.busy": "2025-06-03T10:32:17.804636Z",
     "iopub.status.idle": "2025-06-03T10:32:17.814249Z",
     "shell.execute_reply": "2025-06-03T10:32:17.813272Z"
    },
    "id": "TZ6MUEqAm-Wq",
    "papermill": {
     "duration": 0.017324,
     "end_time": "2025-06-03T10:32:17.816015",
     "exception": false,
     "start_time": "2025-06-03T10:32:17.798691",
     "status": "completed"
    },
    "tags": []
   },
   "outputs": [],
   "source": [
    "import os\n",
    "import pandas as pd\n",
    "\n",
    "def preprocessing(df):\n",
    "    # Chuẩn hóa đường dẫn\n",
    "    df['dti_link'] = df['dti_link'].str.replace(r'\\\\', '/', regex=True)\n",
    "    df['mri_link'] = df['mri_link'].str.replace(r'\\\\', '/', regex=True)\n",
    "\n",
    "    df['mri_link'] = df['mri_link'].str.replace('/data/', '/', regex=False)\n",
    "    df['dti_link'] = df['dti_link'].str.replace('/data/', '/', regex=False)\n",
    "\n",
    "\n",
    "    # Thêm base dir\n",
    "    dti_base_dir = '/kaggle/input/data-medical/DTI/'\n",
    "    mri_base_dir = '/kaggle/input/data-medical/'\n",
    "    df['dti_link'] = df['dti_link'].apply(lambda p: os.path.join(dti_base_dir, p))\n",
    "    df['mri_link'] = df['mri_link'].apply(lambda p: os.path.join(mri_base_dir, p))\n",
    "\n",
    "    # Đổi tên cột\n",
    "    df = df.rename(columns={\n",
    "        'ptgender': 'gender',\n",
    "        'diagnosis': 'label',\n",
    "        'age_at_visit': 'age'\n",
    "    })\n",
    "\n",
    "    # Chuẩn hóa nhãn nếu cần: label - 1\n",
    "    if df['label'].min() == 1:\n",
    "        df['label'] = df['label'] - 1\n",
    "    df['gender'] = df['gender'] - 1\n",
    "    return df\n",
    "\n"
   ]
  },
  {
   "cell_type": "code",
   "execution_count": 5,
   "id": "d1c58cc3",
   "metadata": {
    "execution": {
     "iopub.execute_input": "2025-06-03T10:32:17.827316Z",
     "iopub.status.busy": "2025-06-03T10:32:17.827019Z",
     "iopub.status.idle": "2025-06-03T10:32:17.855183Z",
     "shell.execute_reply": "2025-06-03T10:32:17.854211Z"
    },
    "id": "iXvUjgXeNWZh",
    "papermill": {
     "duration": 0.036129,
     "end_time": "2025-06-03T10:32:17.856963",
     "exception": false,
     "start_time": "2025-06-03T10:32:17.820834",
     "status": "completed"
    },
    "tags": []
   },
   "outputs": [],
   "source": [
    "train_df = preprocessing(train_df)\n",
    "test_df = preprocessing(test_df)\n",
    "val_df = preprocessing(val_df)"
   ]
  },
  {
   "cell_type": "code",
   "execution_count": 6,
   "id": "9cb9d78a",
   "metadata": {
    "execution": {
     "iopub.execute_input": "2025-06-03T10:32:17.867683Z",
     "iopub.status.busy": "2025-06-03T10:32:17.867270Z",
     "iopub.status.idle": "2025-06-03T10:32:17.894297Z",
     "shell.execute_reply": "2025-06-03T10:32:17.893252Z"
    },
    "id": "X2k6e51MJUiw",
    "outputId": "7c62a3c3-629d-49ac-cc38-02056891707f",
    "papermill": {
     "duration": 0.034198,
     "end_time": "2025-06-03T10:32:17.895950",
     "exception": false,
     "start_time": "2025-06-03T10:32:17.861752",
     "status": "completed"
    },
    "tags": []
   },
   "outputs": [
    {
     "data": {
      "text/html": [
       "<div>\n",
       "<style scoped>\n",
       "    .dataframe tbody tr th:only-of-type {\n",
       "        vertical-align: middle;\n",
       "    }\n",
       "\n",
       "    .dataframe tbody tr th {\n",
       "        vertical-align: top;\n",
       "    }\n",
       "\n",
       "    .dataframe thead th {\n",
       "        text-align: right;\n",
       "    }\n",
       "</style>\n",
       "<table border=\"1\" class=\"dataframe\">\n",
       "  <thead>\n",
       "    <tr style=\"text-align: right;\">\n",
       "      <th></th>\n",
       "      <th>label</th>\n",
       "      <th>gender</th>\n",
       "      <th>mri_link</th>\n",
       "      <th>dti_link</th>\n",
       "      <th>age</th>\n",
       "    </tr>\n",
       "  </thead>\n",
       "  <tbody>\n",
       "    <tr>\n",
       "      <th>0</th>\n",
       "      <td>0.0</td>\n",
       "      <td>1.0</td>\n",
       "      <td>/kaggle/input/data-medical/data/MRI/014_S_4401...</td>\n",
       "      <td>/kaggle/input/data-medical/DTI/data/DTI/014_S_...</td>\n",
       "      <td>75.0</td>\n",
       "    </tr>\n",
       "    <tr>\n",
       "      <th>1</th>\n",
       "      <td>0.0</td>\n",
       "      <td>1.0</td>\n",
       "      <td>/kaggle/input/data-medical/data/MRI/007_S_6310...</td>\n",
       "      <td>/kaggle/input/data-medical/DTI/data/DTI/007_S_...</td>\n",
       "      <td>69.0</td>\n",
       "    </tr>\n",
       "    <tr>\n",
       "      <th>2</th>\n",
       "      <td>0.0</td>\n",
       "      <td>1.0</td>\n",
       "      <td>/kaggle/input/data-medical/data/MRI/141_S_6416...</td>\n",
       "      <td>/kaggle/input/data-medical/DTI/data/DTI/141_S_...</td>\n",
       "      <td>72.0</td>\n",
       "    </tr>\n",
       "    <tr>\n",
       "      <th>3</th>\n",
       "      <td>0.0</td>\n",
       "      <td>1.0</td>\n",
       "      <td>/kaggle/input/data-medical/data/MRI/141_S_0767...</td>\n",
       "      <td>/kaggle/input/data-medical/DTI/data/DTI/141_S_...</td>\n",
       "      <td>84.0</td>\n",
       "    </tr>\n",
       "    <tr>\n",
       "      <th>4</th>\n",
       "      <td>0.0</td>\n",
       "      <td>1.0</td>\n",
       "      <td>/kaggle/input/data-medical/data/MRI/016_S_4951...</td>\n",
       "      <td>/kaggle/input/data-medical/DTI/data/DTI/016_S_...</td>\n",
       "      <td>77.0</td>\n",
       "    </tr>\n",
       "  </tbody>\n",
       "</table>\n",
       "</div>"
      ],
      "text/plain": [
       "   label  gender                                           mri_link  \\\n",
       "0    0.0     1.0  /kaggle/input/data-medical/data/MRI/014_S_4401...   \n",
       "1    0.0     1.0  /kaggle/input/data-medical/data/MRI/007_S_6310...   \n",
       "2    0.0     1.0  /kaggle/input/data-medical/data/MRI/141_S_6416...   \n",
       "3    0.0     1.0  /kaggle/input/data-medical/data/MRI/141_S_0767...   \n",
       "4    0.0     1.0  /kaggle/input/data-medical/data/MRI/016_S_4951...   \n",
       "\n",
       "                                            dti_link   age  \n",
       "0  /kaggle/input/data-medical/DTI/data/DTI/014_S_...  75.0  \n",
       "1  /kaggle/input/data-medical/DTI/data/DTI/007_S_...  69.0  \n",
       "2  /kaggle/input/data-medical/DTI/data/DTI/141_S_...  72.0  \n",
       "3  /kaggle/input/data-medical/DTI/data/DTI/141_S_...  84.0  \n",
       "4  /kaggle/input/data-medical/DTI/data/DTI/016_S_...  77.0  "
      ]
     },
     "execution_count": 6,
     "metadata": {},
     "output_type": "execute_result"
    }
   ],
   "source": [
    "train_df.head()"
   ]
  },
  {
   "cell_type": "code",
   "execution_count": 7,
   "id": "a7a3cbbc",
   "metadata": {
    "execution": {
     "iopub.execute_input": "2025-06-03T10:32:17.907684Z",
     "iopub.status.busy": "2025-06-03T10:32:17.907335Z",
     "iopub.status.idle": "2025-06-03T10:32:17.919137Z",
     "shell.execute_reply": "2025-06-03T10:32:17.918035Z"
    },
    "id": "t7q1fO3eJXEA",
    "outputId": "3f289d67-453b-4321-9f51-d56768cce9dd",
    "papermill": {
     "duration": 0.019582,
     "end_time": "2025-06-03T10:32:17.920718",
     "exception": false,
     "start_time": "2025-06-03T10:32:17.901136",
     "status": "completed"
    },
    "tags": []
   },
   "outputs": [
    {
     "data": {
      "text/html": [
       "<div>\n",
       "<style scoped>\n",
       "    .dataframe tbody tr th:only-of-type {\n",
       "        vertical-align: middle;\n",
       "    }\n",
       "\n",
       "    .dataframe tbody tr th {\n",
       "        vertical-align: top;\n",
       "    }\n",
       "\n",
       "    .dataframe thead th {\n",
       "        text-align: right;\n",
       "    }\n",
       "</style>\n",
       "<table border=\"1\" class=\"dataframe\">\n",
       "  <thead>\n",
       "    <tr style=\"text-align: right;\">\n",
       "      <th></th>\n",
       "      <th>label</th>\n",
       "      <th>gender</th>\n",
       "      <th>mri_link</th>\n",
       "      <th>dti_link</th>\n",
       "      <th>age</th>\n",
       "    </tr>\n",
       "  </thead>\n",
       "  <tbody>\n",
       "    <tr>\n",
       "      <th>0</th>\n",
       "      <td>0.0</td>\n",
       "      <td>1.0</td>\n",
       "      <td>/kaggle/input/data-medical/data/MRI/130_S_5258...</td>\n",
       "      <td>/kaggle/input/data-medical/DTI/data/DTI/130_S_...</td>\n",
       "      <td>84.0</td>\n",
       "    </tr>\n",
       "    <tr>\n",
       "      <th>1</th>\n",
       "      <td>0.0</td>\n",
       "      <td>1.0</td>\n",
       "      <td>/kaggle/input/data-medical/data/MRI/014_S_6145...</td>\n",
       "      <td>/kaggle/input/data-medical/DTI/data/DTI/014_S_...</td>\n",
       "      <td>73.0</td>\n",
       "    </tr>\n",
       "    <tr>\n",
       "      <th>2</th>\n",
       "      <td>0.0</td>\n",
       "      <td>1.0</td>\n",
       "      <td>/kaggle/input/data-medical/data/MRI/070_S_6548...</td>\n",
       "      <td>/kaggle/input/data-medical/DTI/data/DTI/070_S_...</td>\n",
       "      <td>56.0</td>\n",
       "    </tr>\n",
       "    <tr>\n",
       "      <th>3</th>\n",
       "      <td>0.0</td>\n",
       "      <td>0.0</td>\n",
       "      <td>/kaggle/input/data-medical/data/MRI/041_S_5141...</td>\n",
       "      <td>/kaggle/input/data-medical/DTI/data/DTI/041_S_...</td>\n",
       "      <td>81.0</td>\n",
       "    </tr>\n",
       "    <tr>\n",
       "      <th>4</th>\n",
       "      <td>0.0</td>\n",
       "      <td>1.0</td>\n",
       "      <td>/kaggle/input/data-medical/data/MRI/116_S_4483...</td>\n",
       "      <td>/kaggle/input/data-medical/DTI/data/DTI/116_S_...</td>\n",
       "      <td>76.0</td>\n",
       "    </tr>\n",
       "  </tbody>\n",
       "</table>\n",
       "</div>"
      ],
      "text/plain": [
       "   label  gender                                           mri_link  \\\n",
       "0    0.0     1.0  /kaggle/input/data-medical/data/MRI/130_S_5258...   \n",
       "1    0.0     1.0  /kaggle/input/data-medical/data/MRI/014_S_6145...   \n",
       "2    0.0     1.0  /kaggle/input/data-medical/data/MRI/070_S_6548...   \n",
       "3    0.0     0.0  /kaggle/input/data-medical/data/MRI/041_S_5141...   \n",
       "4    0.0     1.0  /kaggle/input/data-medical/data/MRI/116_S_4483...   \n",
       "\n",
       "                                            dti_link   age  \n",
       "0  /kaggle/input/data-medical/DTI/data/DTI/130_S_...  84.0  \n",
       "1  /kaggle/input/data-medical/DTI/data/DTI/014_S_...  73.0  \n",
       "2  /kaggle/input/data-medical/DTI/data/DTI/070_S_...  56.0  \n",
       "3  /kaggle/input/data-medical/DTI/data/DTI/041_S_...  81.0  \n",
       "4  /kaggle/input/data-medical/DTI/data/DTI/116_S_...  76.0  "
      ]
     },
     "execution_count": 7,
     "metadata": {},
     "output_type": "execute_result"
    }
   ],
   "source": [
    "val_df.head()"
   ]
  },
  {
   "cell_type": "code",
   "execution_count": 8,
   "id": "cbcbf859",
   "metadata": {
    "execution": {
     "iopub.execute_input": "2025-06-03T10:32:17.932767Z",
     "iopub.status.busy": "2025-06-03T10:32:17.932413Z",
     "iopub.status.idle": "2025-06-03T10:32:17.944324Z",
     "shell.execute_reply": "2025-06-03T10:32:17.943492Z"
    },
    "id": "xthB-KUYJbwY",
    "outputId": "0611474c-8d11-4844-d070-c1e5d8d9ddc0",
    "papermill": {
     "duration": 0.019827,
     "end_time": "2025-06-03T10:32:17.946026",
     "exception": false,
     "start_time": "2025-06-03T10:32:17.926199",
     "status": "completed"
    },
    "tags": []
   },
   "outputs": [
    {
     "data": {
      "text/html": [
       "<div>\n",
       "<style scoped>\n",
       "    .dataframe tbody tr th:only-of-type {\n",
       "        vertical-align: middle;\n",
       "    }\n",
       "\n",
       "    .dataframe tbody tr th {\n",
       "        vertical-align: top;\n",
       "    }\n",
       "\n",
       "    .dataframe thead th {\n",
       "        text-align: right;\n",
       "    }\n",
       "</style>\n",
       "<table border=\"1\" class=\"dataframe\">\n",
       "  <thead>\n",
       "    <tr style=\"text-align: right;\">\n",
       "      <th></th>\n",
       "      <th>label</th>\n",
       "      <th>gender</th>\n",
       "      <th>mri_link</th>\n",
       "      <th>dti_link</th>\n",
       "      <th>age</th>\n",
       "    </tr>\n",
       "  </thead>\n",
       "  <tbody>\n",
       "    <tr>\n",
       "      <th>0</th>\n",
       "      <td>0.0</td>\n",
       "      <td>1.0</td>\n",
       "      <td>/kaggle/input/data-medical/data/MRI/068_S_2184...</td>\n",
       "      <td>/kaggle/input/data-medical/DTI/data/DTI/068_S_...</td>\n",
       "      <td>89.0</td>\n",
       "    </tr>\n",
       "    <tr>\n",
       "      <th>1</th>\n",
       "      <td>0.0</td>\n",
       "      <td>1.0</td>\n",
       "      <td>/kaggle/input/data-medical/data/MRI/003_S_4872...</td>\n",
       "      <td>/kaggle/input/data-medical/DTI/data/DTI/003_S_...</td>\n",
       "      <td>78.0</td>\n",
       "    </tr>\n",
       "    <tr>\n",
       "      <th>2</th>\n",
       "      <td>0.0</td>\n",
       "      <td>1.0</td>\n",
       "      <td>/kaggle/input/data-medical/data/MRI/014_S_4576...</td>\n",
       "      <td>/kaggle/input/data-medical/DTI/data/DTI/014_S_...</td>\n",
       "      <td>78.0</td>\n",
       "    </tr>\n",
       "    <tr>\n",
       "      <th>3</th>\n",
       "      <td>0.0</td>\n",
       "      <td>1.0</td>\n",
       "      <td>/kaggle/input/data-medical/data/MRI/116_S_6133...</td>\n",
       "      <td>/kaggle/input/data-medical/DTI/data/DTI/116_S_...</td>\n",
       "      <td>71.0</td>\n",
       "    </tr>\n",
       "    <tr>\n",
       "      <th>4</th>\n",
       "      <td>0.0</td>\n",
       "      <td>1.0</td>\n",
       "      <td>/kaggle/input/data-medical/data/MRI/023_S_0031...</td>\n",
       "      <td>/kaggle/input/data-medical/DTI/data/DTI/023_S_...</td>\n",
       "      <td>90.0</td>\n",
       "    </tr>\n",
       "  </tbody>\n",
       "</table>\n",
       "</div>"
      ],
      "text/plain": [
       "   label  gender                                           mri_link  \\\n",
       "0    0.0     1.0  /kaggle/input/data-medical/data/MRI/068_S_2184...   \n",
       "1    0.0     1.0  /kaggle/input/data-medical/data/MRI/003_S_4872...   \n",
       "2    0.0     1.0  /kaggle/input/data-medical/data/MRI/014_S_4576...   \n",
       "3    0.0     1.0  /kaggle/input/data-medical/data/MRI/116_S_6133...   \n",
       "4    0.0     1.0  /kaggle/input/data-medical/data/MRI/023_S_0031...   \n",
       "\n",
       "                                            dti_link   age  \n",
       "0  /kaggle/input/data-medical/DTI/data/DTI/068_S_...  89.0  \n",
       "1  /kaggle/input/data-medical/DTI/data/DTI/003_S_...  78.0  \n",
       "2  /kaggle/input/data-medical/DTI/data/DTI/014_S_...  78.0  \n",
       "3  /kaggle/input/data-medical/DTI/data/DTI/116_S_...  71.0  \n",
       "4  /kaggle/input/data-medical/DTI/data/DTI/023_S_...  90.0  "
      ]
     },
     "execution_count": 8,
     "metadata": {},
     "output_type": "execute_result"
    }
   ],
   "source": [
    "test_df.head()"
   ]
  },
  {
   "cell_type": "code",
   "execution_count": 9,
   "id": "58872b7c",
   "metadata": {
    "execution": {
     "iopub.execute_input": "2025-06-03T10:32:17.957662Z",
     "iopub.status.busy": "2025-06-03T10:32:17.957317Z",
     "iopub.status.idle": "2025-06-03T10:32:17.972099Z",
     "shell.execute_reply": "2025-06-03T10:32:17.970881Z"
    },
    "id": "gFUnhR3OJe2Q",
    "outputId": "e6bf26c4-b772-4534-e7fc-37abd6cd94e0",
    "papermill": {
     "duration": 0.022545,
     "end_time": "2025-06-03T10:32:17.973842",
     "exception": false,
     "start_time": "2025-06-03T10:32:17.951297",
     "status": "completed"
    },
    "tags": []
   },
   "outputs": [
    {
     "name": "stdout",
     "output_type": "stream",
     "text": [
      "label\n",
      "0.0    413\n",
      "1.0    357\n",
      "2.0    241\n",
      "Name: count, dtype: int64\n",
      "label\n",
      "1.0    97\n",
      "0.0    73\n",
      "2.0    39\n",
      "Name: count, dtype: int64\n",
      "label\n",
      "1.0    83\n",
      "0.0    79\n",
      "2.0    36\n",
      "Name: count, dtype: int64\n"
     ]
    }
   ],
   "source": [
    "print(train_df['label'].value_counts())\n",
    "print(test_df['label'].value_counts())\n",
    "print(val_df['label'].value_counts())"
   ]
  },
  {
   "cell_type": "code",
   "execution_count": 10,
   "id": "305226ea",
   "metadata": {
    "execution": {
     "iopub.execute_input": "2025-06-03T10:32:17.987024Z",
     "iopub.status.busy": "2025-06-03T10:32:17.986460Z",
     "iopub.status.idle": "2025-06-03T10:32:17.995908Z",
     "shell.execute_reply": "2025-06-03T10:32:17.994961Z"
    },
    "papermill": {
     "duration": 0.01782,
     "end_time": "2025-06-03T10:32:17.997209",
     "exception": false,
     "start_time": "2025-06-03T10:32:17.979389",
     "status": "completed"
    },
    "tags": []
   },
   "outputs": [
    {
     "name": "stdout",
     "output_type": "stream",
     "text": [
      "gender\n",
      "0.0    520\n",
      "1.0    491\n",
      "Name: count, dtype: int64\n",
      "gender\n",
      "1.0    106\n",
      "0.0    103\n",
      "Name: count, dtype: int64\n",
      "gender\n",
      "0.0    115\n",
      "1.0     83\n",
      "Name: count, dtype: int64\n"
     ]
    }
   ],
   "source": [
    "print(train_df['gender'].value_counts())\n",
    "print(test_df['gender'].value_counts())\n",
    "print(val_df['gender'].value_counts())"
   ]
  },
  {
   "cell_type": "code",
   "execution_count": 11,
   "id": "5225b76a",
   "metadata": {
    "execution": {
     "iopub.execute_input": "2025-06-03T10:32:18.009719Z",
     "iopub.status.busy": "2025-06-03T10:32:18.009412Z",
     "iopub.status.idle": "2025-06-03T10:32:19.066912Z",
     "shell.execute_reply": "2025-06-03T10:32:19.065744Z"
    },
    "id": "rKqewkju_4O7",
    "papermill": {
     "duration": 1.066905,
     "end_time": "2025-06-03T10:32:19.069527",
     "exception": false,
     "start_time": "2025-06-03T10:32:18.002622",
     "status": "completed"
    },
    "tags": []
   },
   "outputs": [],
   "source": [
    "import os\n",
    "import glob\n",
    "import nibabel as nib\n",
    "import numpy as np\n",
    "import torch\n",
    "from torch.utils.data import Dataset\n",
    "\n",
    "class CustomDataset(Dataset):\n",
    "    def __init__(self, df, target_shape=(6, 182, 182)):\n",
    "        super().__init__()\n",
    "        self.df = df.reset_index(drop=True)\n",
    "        self.target_shape = target_shape\n",
    "\n",
    "    def __len__(self):\n",
    "        return len(self.df)\n",
    "\n",
    "    def __getitem__(self, idx):\n",
    "        row = self.df.iloc[idx]\n",
    "\n",
    "        def load_nifti(path):\n",
    "            # Nếu path là thư mục, tìm file .nii hoặc .nii.gz bên trong\n",
    "            if os.path.isdir(path):\n",
    "               nii_files = glob.glob(os.path.join(path, \"*.nii*\"))\n",
    "               if not nii_files:\n",
    "                  raise FileNotFoundError(f\"No NIfTI file found in folder {path}\")\n",
    "               path = nii_files[0]\n",
    "\n",
    "            arr = nib.load(path).get_fdata().astype(np.float32)\n",
    "            return (arr - arr.mean()) / (arr.std() + 1e-8)\n",
    "\n",
    "        mri_vol = load_nifti(row['mri_link'])\n",
    "        dti_vol = load_nifti(row['dti_link'])\n",
    "\n",
    "        # Resize bằng crop/pad\n",
    "        def resize_vol(vol, shape):\n",
    "            tz, ty, tx = shape\n",
    "            z, y, x = vol.shape\n",
    "            cz, cy, cx = min(z, tz), min(y, ty), min(x, tx)\n",
    "            sz, sy, sx = (z-cz)//2, (y-cy)//2, (x-cx)//2\n",
    "            dz, dy, dx = (tz-cz)//2, (ty-cy)//2, (tx-cx)//2\n",
    "            out = np.zeros((tz, ty, tx), dtype=vol.dtype)\n",
    "            out[dz:dz+cz, dy:dy+cy, dx:dx+cx] = vol[sz:sz+cz, sy:sy+cy, sx:sx+cx]\n",
    "            return out\n",
    "\n",
    "        mri_vol = resize_vol(mri_vol, self.target_shape)\n",
    "        dti_vol = resize_vol(dti_vol, self.target_shape)\n",
    "\n",
    "        # Chuyển thành tensor 5D: [C=1, D, H, W] mỗi modality\n",
    "        mri_tensor = torch.from_numpy(mri_vol).unsqueeze(0)  # (1, D, H, W)\n",
    "        dti_tensor = torch.from_numpy(dti_vol).unsqueeze(0)  # (1, D, H, W)\n",
    "\n",
    "        # Demo và label\n",
    "        age    = torch.tensor(row['age'], dtype=torch.float32)\n",
    "        gender = torch.tensor(row['gender'], dtype=torch.float32)\n",
    "        label  = torch.tensor(row['label'], dtype=torch.long)\n",
    "\n",
    "        return {\n",
    "            'mri':    mri_tensor,\n",
    "            'dti':    dti_tensor,\n",
    "            'age':    age,\n",
    "            'gender': gender,\n",
    "            'label':  label\n",
    "        }\n"
   ]
  },
  {
   "cell_type": "code",
   "execution_count": 12,
   "id": "322b19b7",
   "metadata": {
    "execution": {
     "iopub.execute_input": "2025-06-03T10:32:19.086013Z",
     "iopub.status.busy": "2025-06-03T10:32:19.085706Z",
     "iopub.status.idle": "2025-06-03T10:32:19.093072Z",
     "shell.execute_reply": "2025-06-03T10:32:19.092196Z"
    },
    "papermill": {
     "duration": 0.016486,
     "end_time": "2025-06-03T10:32:19.095041",
     "exception": false,
     "start_time": "2025-06-03T10:32:19.078555",
     "status": "completed"
    },
    "tags": []
   },
   "outputs": [],
   "source": [
    "from torch.utils.data import DataLoader, Subset\n",
    "from collections import defaultdict\n",
    "import numpy as np\n",
    "import random\n",
    "\n",
    "def balance_train_dataset(train_dataset, batch_size=16, seed=42, num_workers=4):\n",
    "    random.seed(seed)\n",
    "    label_to_indices = defaultdict(list)\n",
    "\n",
    "    for idx in range(len(train_dataset)):\n",
    "        label = int(train_dataset[idx]['label']) \n",
    "        label_to_indices[label].append(idx)\n",
    "\n",
    "    min_class_size = min(len(idxs) for idxs in label_to_indices.values())\n",
    "    print(f\"Undersampling to {min_class_size} samples per class\")\n",
    "\n",
    "    balanced_indices = []\n",
    "    for label, indices in label_to_indices.items():\n",
    "        sampled = random.sample(indices, min_class_size)\n",
    "        balanced_indices.extend(sampled)\n",
    "\n",
    "    random.shuffle(balanced_indices)\n",
    "\n",
    "    balanced_subset = Subset(train_dataset, balanced_indices)\n",
    "    balanced_loader = DataLoader(balanced_subset, batch_size=batch_size, shuffle=True, num_workers=num_workers)\n",
    "\n",
    "    return balanced_loader\n"
   ]
  },
  {
   "cell_type": "code",
   "execution_count": 13,
   "id": "221c4f9a",
   "metadata": {
    "execution": {
     "iopub.execute_input": "2025-06-03T10:32:19.111215Z",
     "iopub.status.busy": "2025-06-03T10:32:19.110896Z",
     "iopub.status.idle": "2025-06-03T10:32:19.119045Z",
     "shell.execute_reply": "2025-06-03T10:32:19.118105Z"
    },
    "id": "yWbWKUkiEz36",
    "papermill": {
     "duration": 0.017757,
     "end_time": "2025-06-03T10:32:19.120515",
     "exception": false,
     "start_time": "2025-06-03T10:32:19.102758",
     "status": "completed"
    },
    "tags": []
   },
   "outputs": [],
   "source": [
    "# Create datasets\n",
    "train_dataset = CustomDataset(train_df)\n",
    "val_dataset = CustomDataset(val_df)\n",
    "test_dataset = CustomDataset(test_df)\n",
    "\n",
    "# Create dataloaders\n",
    "train_loader = DataLoader(train_dataset, batch_size=16, shuffle=True, num_workers = 4)\n",
    "val_loader = DataLoader(val_dataset, batch_size=16, shuffle=False, num_workers = 4)\n",
    "test_loader = DataLoader(test_dataset, batch_size=16, shuffle=False, num_workers = 4)"
   ]
  },
  {
   "cell_type": "code",
   "execution_count": 14,
   "id": "01ee2bc0",
   "metadata": {
    "execution": {
     "iopub.execute_input": "2025-06-03T10:32:19.132762Z",
     "iopub.status.busy": "2025-06-03T10:32:19.132439Z",
     "iopub.status.idle": "2025-06-03T10:32:19.227311Z",
     "shell.execute_reply": "2025-06-03T10:32:19.225914Z"
    },
    "papermill": {
     "duration": 0.103049,
     "end_time": "2025-06-03T10:32:19.228892",
     "exception": true,
     "start_time": "2025-06-03T10:32:19.125843",
     "status": "failed"
    },
    "tags": []
   },
   "outputs": [
    {
     "ename": "FileNotFoundError",
     "evalue": "No such file or no access: '/kaggle/input/data-medical/data/MRI/014_S_4401/Accelerated_Sagittal_MPRAGE_ND/2019-09-09_08_18_44.0/I1224466'",
     "output_type": "error",
     "traceback": [
      "\u001b[0;31m---------------------------------------------------------------------------\u001b[0m",
      "\u001b[0;31mFileNotFoundError\u001b[0m                         Traceback (most recent call last)",
      "\u001b[0;32m/usr/local/lib/python3.11/dist-packages/nibabel/loadsave.py\u001b[0m in \u001b[0;36mload\u001b[0;34m(filename, **kwargs)\u001b[0m\n\u001b[1;32m    100\u001b[0m     \u001b[0;32mtry\u001b[0m\u001b[0;34m:\u001b[0m\u001b[0;34m\u001b[0m\u001b[0;34m\u001b[0m\u001b[0m\n\u001b[0;32m--> 101\u001b[0;31m         \u001b[0mstat_result\u001b[0m \u001b[0;34m=\u001b[0m \u001b[0mos\u001b[0m\u001b[0;34m.\u001b[0m\u001b[0mstat\u001b[0m\u001b[0;34m(\u001b[0m\u001b[0mfilename\u001b[0m\u001b[0;34m)\u001b[0m\u001b[0;34m\u001b[0m\u001b[0;34m\u001b[0m\u001b[0m\n\u001b[0m\u001b[1;32m    102\u001b[0m     \u001b[0;32mexcept\u001b[0m \u001b[0mOSError\u001b[0m\u001b[0;34m:\u001b[0m\u001b[0;34m\u001b[0m\u001b[0;34m\u001b[0m\u001b[0m\n",
      "\u001b[0;31mFileNotFoundError\u001b[0m: [Errno 2] No such file or directory: '/kaggle/input/data-medical/data/MRI/014_S_4401/Accelerated_Sagittal_MPRAGE_ND/2019-09-09_08_18_44.0/I1224466'",
      "\nDuring handling of the above exception, another exception occurred:\n",
      "\u001b[0;31mFileNotFoundError\u001b[0m                         Traceback (most recent call last)",
      "\u001b[0;32m/tmp/ipykernel_13/2139749507.py\u001b[0m in \u001b[0;36m<cell line: 0>\u001b[0;34m()\u001b[0m\n\u001b[1;32m      5\u001b[0m \u001b[0;34m\u001b[0m\u001b[0m\n\u001b[1;32m      6\u001b[0m \u001b[0;31m# Create dataloaders\u001b[0m\u001b[0;34m\u001b[0m\u001b[0;34m\u001b[0m\u001b[0m\n\u001b[0;32m----> 7\u001b[0;31m \u001b[0mtrain_loader\u001b[0m \u001b[0;34m=\u001b[0m \u001b[0mbalance_train_dataset\u001b[0m\u001b[0;34m(\u001b[0m\u001b[0mtrain_dataset\u001b[0m\u001b[0;34m,\u001b[0m \u001b[0mbatch_size\u001b[0m\u001b[0;34m=\u001b[0m\u001b[0;36m16\u001b[0m\u001b[0;34m,\u001b[0m  \u001b[0mnum_workers\u001b[0m \u001b[0;34m=\u001b[0m \u001b[0;36m4\u001b[0m\u001b[0;34m)\u001b[0m\u001b[0;34m\u001b[0m\u001b[0;34m\u001b[0m\u001b[0m\n\u001b[0m\u001b[1;32m      8\u001b[0m \u001b[0mval_loader\u001b[0m \u001b[0;34m=\u001b[0m \u001b[0mDataLoader\u001b[0m\u001b[0;34m(\u001b[0m\u001b[0mval_dataset\u001b[0m\u001b[0;34m,\u001b[0m \u001b[0mbatch_size\u001b[0m\u001b[0;34m=\u001b[0m\u001b[0;36m16\u001b[0m\u001b[0;34m,\u001b[0m \u001b[0mshuffle\u001b[0m\u001b[0;34m=\u001b[0m\u001b[0;32mFalse\u001b[0m\u001b[0;34m,\u001b[0m \u001b[0mnum_workers\u001b[0m \u001b[0;34m=\u001b[0m \u001b[0;36m4\u001b[0m\u001b[0;34m)\u001b[0m\u001b[0;34m\u001b[0m\u001b[0;34m\u001b[0m\u001b[0m\n\u001b[1;32m      9\u001b[0m \u001b[0mtest_loader\u001b[0m \u001b[0;34m=\u001b[0m \u001b[0mDataLoader\u001b[0m\u001b[0;34m(\u001b[0m\u001b[0mtest_dataset\u001b[0m\u001b[0;34m,\u001b[0m \u001b[0mbatch_size\u001b[0m\u001b[0;34m=\u001b[0m\u001b[0;36m16\u001b[0m\u001b[0;34m,\u001b[0m \u001b[0mshuffle\u001b[0m\u001b[0;34m=\u001b[0m\u001b[0;32mFalse\u001b[0m\u001b[0;34m,\u001b[0m \u001b[0mnum_workers\u001b[0m \u001b[0;34m=\u001b[0m \u001b[0;36m4\u001b[0m\u001b[0;34m)\u001b[0m\u001b[0;34m\u001b[0m\u001b[0;34m\u001b[0m\u001b[0m\n",
      "\u001b[0;32m/tmp/ipykernel_13/3329109636.py\u001b[0m in \u001b[0;36mbalance_train_dataset\u001b[0;34m(train_dataset, batch_size, seed, num_workers)\u001b[0m\n\u001b[1;32m      9\u001b[0m \u001b[0;34m\u001b[0m\u001b[0m\n\u001b[1;32m     10\u001b[0m     \u001b[0;32mfor\u001b[0m \u001b[0midx\u001b[0m \u001b[0;32min\u001b[0m \u001b[0mrange\u001b[0m\u001b[0;34m(\u001b[0m\u001b[0mlen\u001b[0m\u001b[0;34m(\u001b[0m\u001b[0mtrain_dataset\u001b[0m\u001b[0;34m)\u001b[0m\u001b[0;34m)\u001b[0m\u001b[0;34m:\u001b[0m\u001b[0;34m\u001b[0m\u001b[0;34m\u001b[0m\u001b[0m\n\u001b[0;32m---> 11\u001b[0;31m         \u001b[0mlabel\u001b[0m \u001b[0;34m=\u001b[0m \u001b[0mint\u001b[0m\u001b[0;34m(\u001b[0m\u001b[0mtrain_dataset\u001b[0m\u001b[0;34m[\u001b[0m\u001b[0midx\u001b[0m\u001b[0;34m]\u001b[0m\u001b[0;34m[\u001b[0m\u001b[0;34m'label'\u001b[0m\u001b[0;34m]\u001b[0m\u001b[0;34m)\u001b[0m\u001b[0;34m\u001b[0m\u001b[0;34m\u001b[0m\u001b[0m\n\u001b[0m\u001b[1;32m     12\u001b[0m         \u001b[0mlabel_to_indices\u001b[0m\u001b[0;34m[\u001b[0m\u001b[0mlabel\u001b[0m\u001b[0;34m]\u001b[0m\u001b[0;34m.\u001b[0m\u001b[0mappend\u001b[0m\u001b[0;34m(\u001b[0m\u001b[0midx\u001b[0m\u001b[0;34m)\u001b[0m\u001b[0;34m\u001b[0m\u001b[0;34m\u001b[0m\u001b[0m\n\u001b[1;32m     13\u001b[0m \u001b[0;34m\u001b[0m\u001b[0m\n",
      "\u001b[0;32m/tmp/ipykernel_13/2216618127.py\u001b[0m in \u001b[0;36m__getitem__\u001b[0;34m(self, idx)\u001b[0m\n\u001b[1;32m     29\u001b[0m             \u001b[0;32mreturn\u001b[0m \u001b[0;34m(\u001b[0m\u001b[0marr\u001b[0m \u001b[0;34m-\u001b[0m \u001b[0marr\u001b[0m\u001b[0;34m.\u001b[0m\u001b[0mmean\u001b[0m\u001b[0;34m(\u001b[0m\u001b[0;34m)\u001b[0m\u001b[0;34m)\u001b[0m \u001b[0;34m/\u001b[0m \u001b[0;34m(\u001b[0m\u001b[0marr\u001b[0m\u001b[0;34m.\u001b[0m\u001b[0mstd\u001b[0m\u001b[0;34m(\u001b[0m\u001b[0;34m)\u001b[0m \u001b[0;34m+\u001b[0m \u001b[0;36m1e-8\u001b[0m\u001b[0;34m)\u001b[0m\u001b[0;34m\u001b[0m\u001b[0;34m\u001b[0m\u001b[0m\n\u001b[1;32m     30\u001b[0m \u001b[0;34m\u001b[0m\u001b[0m\n\u001b[0;32m---> 31\u001b[0;31m         \u001b[0mmri_vol\u001b[0m \u001b[0;34m=\u001b[0m \u001b[0mload_nifti\u001b[0m\u001b[0;34m(\u001b[0m\u001b[0mrow\u001b[0m\u001b[0;34m[\u001b[0m\u001b[0;34m'mri_link'\u001b[0m\u001b[0;34m]\u001b[0m\u001b[0;34m)\u001b[0m\u001b[0;34m\u001b[0m\u001b[0;34m\u001b[0m\u001b[0m\n\u001b[0m\u001b[1;32m     32\u001b[0m         \u001b[0mdti_vol\u001b[0m \u001b[0;34m=\u001b[0m \u001b[0mload_nifti\u001b[0m\u001b[0;34m(\u001b[0m\u001b[0mrow\u001b[0m\u001b[0;34m[\u001b[0m\u001b[0;34m'dti_link'\u001b[0m\u001b[0;34m]\u001b[0m\u001b[0;34m)\u001b[0m\u001b[0;34m\u001b[0m\u001b[0;34m\u001b[0m\u001b[0m\n\u001b[1;32m     33\u001b[0m \u001b[0;34m\u001b[0m\u001b[0m\n",
      "\u001b[0;32m/tmp/ipykernel_13/2216618127.py\u001b[0m in \u001b[0;36mload_nifti\u001b[0;34m(path)\u001b[0m\n\u001b[1;32m     26\u001b[0m                \u001b[0mpath\u001b[0m \u001b[0;34m=\u001b[0m \u001b[0mnii_files\u001b[0m\u001b[0;34m[\u001b[0m\u001b[0;36m0\u001b[0m\u001b[0;34m]\u001b[0m\u001b[0;34m\u001b[0m\u001b[0;34m\u001b[0m\u001b[0m\n\u001b[1;32m     27\u001b[0m \u001b[0;34m\u001b[0m\u001b[0m\n\u001b[0;32m---> 28\u001b[0;31m             \u001b[0marr\u001b[0m \u001b[0;34m=\u001b[0m \u001b[0mnib\u001b[0m\u001b[0;34m.\u001b[0m\u001b[0mload\u001b[0m\u001b[0;34m(\u001b[0m\u001b[0mpath\u001b[0m\u001b[0;34m)\u001b[0m\u001b[0;34m.\u001b[0m\u001b[0mget_fdata\u001b[0m\u001b[0;34m(\u001b[0m\u001b[0;34m)\u001b[0m\u001b[0;34m.\u001b[0m\u001b[0mastype\u001b[0m\u001b[0;34m(\u001b[0m\u001b[0mnp\u001b[0m\u001b[0;34m.\u001b[0m\u001b[0mfloat32\u001b[0m\u001b[0;34m)\u001b[0m\u001b[0;34m\u001b[0m\u001b[0;34m\u001b[0m\u001b[0m\n\u001b[0m\u001b[1;32m     29\u001b[0m             \u001b[0;32mreturn\u001b[0m \u001b[0;34m(\u001b[0m\u001b[0marr\u001b[0m \u001b[0;34m-\u001b[0m \u001b[0marr\u001b[0m\u001b[0;34m.\u001b[0m\u001b[0mmean\u001b[0m\u001b[0;34m(\u001b[0m\u001b[0;34m)\u001b[0m\u001b[0;34m)\u001b[0m \u001b[0;34m/\u001b[0m \u001b[0;34m(\u001b[0m\u001b[0marr\u001b[0m\u001b[0;34m.\u001b[0m\u001b[0mstd\u001b[0m\u001b[0;34m(\u001b[0m\u001b[0;34m)\u001b[0m \u001b[0;34m+\u001b[0m \u001b[0;36m1e-8\u001b[0m\u001b[0;34m)\u001b[0m\u001b[0;34m\u001b[0m\u001b[0;34m\u001b[0m\u001b[0m\n\u001b[1;32m     30\u001b[0m \u001b[0;34m\u001b[0m\u001b[0m\n",
      "\u001b[0;32m/usr/local/lib/python3.11/dist-packages/nibabel/loadsave.py\u001b[0m in \u001b[0;36mload\u001b[0;34m(filename, **kwargs)\u001b[0m\n\u001b[1;32m    101\u001b[0m         \u001b[0mstat_result\u001b[0m \u001b[0;34m=\u001b[0m \u001b[0mos\u001b[0m\u001b[0;34m.\u001b[0m\u001b[0mstat\u001b[0m\u001b[0;34m(\u001b[0m\u001b[0mfilename\u001b[0m\u001b[0;34m)\u001b[0m\u001b[0;34m\u001b[0m\u001b[0;34m\u001b[0m\u001b[0m\n\u001b[1;32m    102\u001b[0m     \u001b[0;32mexcept\u001b[0m \u001b[0mOSError\u001b[0m\u001b[0;34m:\u001b[0m\u001b[0;34m\u001b[0m\u001b[0;34m\u001b[0m\u001b[0m\n\u001b[0;32m--> 103\u001b[0;31m         \u001b[0;32mraise\u001b[0m \u001b[0mFileNotFoundError\u001b[0m\u001b[0;34m(\u001b[0m\u001b[0;34mf\"No such file or no access: '{filename}'\"\u001b[0m\u001b[0;34m)\u001b[0m\u001b[0;34m\u001b[0m\u001b[0;34m\u001b[0m\u001b[0m\n\u001b[0m\u001b[1;32m    104\u001b[0m     \u001b[0;32mif\u001b[0m \u001b[0mstat_result\u001b[0m\u001b[0;34m.\u001b[0m\u001b[0mst_size\u001b[0m \u001b[0;34m<=\u001b[0m \u001b[0;36m0\u001b[0m\u001b[0;34m:\u001b[0m\u001b[0;34m\u001b[0m\u001b[0;34m\u001b[0m\u001b[0m\n\u001b[1;32m    105\u001b[0m         \u001b[0;32mraise\u001b[0m \u001b[0mImageFileError\u001b[0m\u001b[0;34m(\u001b[0m\u001b[0;34mf\"Empty file: '{filename}'\"\u001b[0m\u001b[0;34m)\u001b[0m\u001b[0;34m\u001b[0m\u001b[0;34m\u001b[0m\u001b[0m\n",
      "\u001b[0;31mFileNotFoundError\u001b[0m: No such file or no access: '/kaggle/input/data-medical/data/MRI/014_S_4401/Accelerated_Sagittal_MPRAGE_ND/2019-09-09_08_18_44.0/I1224466'"
     ]
    }
   ],
   "source": [
    "# Create datasets\n",
    "train_dataset = CustomDataset(train_df)\n",
    "val_dataset = CustomDataset(val_df)\n",
    "test_dataset = CustomDataset(test_df)\n",
    "\n",
    "# Create dataloaders\n",
    "train_loader = balance_train_dataset(train_dataset, batch_size=16,  num_workers = 4)\n",
    "val_loader = DataLoader(val_dataset, batch_size=16, shuffle=False, num_workers = 4)\n",
    "test_loader = DataLoader(test_dataset, batch_size=16, shuffle=False, num_workers = 4)"
   ]
  },
  {
   "cell_type": "code",
   "execution_count": null,
   "id": "fff4eae1",
   "metadata": {
    "execution": {
     "iopub.execute_input": "2025-06-03T05:41:12.684277Z",
     "iopub.status.busy": "2025-06-03T05:41:12.683834Z",
     "iopub.status.idle": "2025-06-03T05:41:12.698833Z",
     "shell.execute_reply": "2025-06-03T05:41:12.698206Z",
     "shell.execute_reply.started": "2025-06-03T05:41:12.684231Z"
    },
    "papermill": {
     "duration": null,
     "end_time": null,
     "exception": null,
     "start_time": null,
     "status": "pending"
    },
    "tags": []
   },
   "outputs": [],
   "source": [
    "import torch\n",
    "import torch.nn as nn\n",
    "import torchvision.models.video as models\n",
    "\n",
    "\n",
    "class TabularMLP(nn.Module):\n",
    "    def __init__(self, in_features=2, hidden_dim=64):\n",
    "        super().__init__()\n",
    "        self.model = nn.Sequential(\n",
    "            nn.Linear(in_features, hidden_dim),\n",
    "            nn.BatchNorm1d(hidden_dim),\n",
    "            nn.ReLU(),\n",
    "            nn.Dropout(0.3),\n",
    "            nn.Linear(hidden_dim, hidden_dim),\n",
    "            nn.ReLU()\n",
    "        )\n",
    "\n",
    "    def forward(self, x):\n",
    "        return self.model(x)\n",
    "\n",
    "\n",
    "class AttentionFusion(nn.Module):\n",
    "    def __init__(self, input_dim):\n",
    "        super().__init__()\n",
    "        self.attn_layer = nn.Sequential(\n",
    "            nn.Linear(input_dim, input_dim),\n",
    "            nn.Tanh(),\n",
    "            nn.Linear(input_dim, input_dim),\n",
    "            nn.Sigmoid()\n",
    "        )\n",
    "\n",
    "    def forward(self, x):\n",
    "        alpha = self.attn_layer(x)\n",
    "        return x * alpha\n",
    "\n",
    "\n",
    "class MultimodalAlzheimerClassifier(nn.Module):\n",
    "    def __init__(self, num_classes=3, tabular_dim=2, backbone_out_dim=512, freeze_backbone=True):\n",
    "        super().__init__()\n",
    "\n",
    "        # MRI backbone\n",
    "        self.mri_backbone = models.r3d_18(pretrained=True)\n",
    "        self.mri_backbone.stem[0] = nn.Conv3d(1, 64, kernel_size=(3,7,7), stride=(1,2,2), padding=(1,3,3), bias=False)\n",
    "        self.mri_backbone.fc = nn.Identity()\n",
    "\n",
    "        # DTI backbone\n",
    "        self.dti_backbone = models.r3d_18(pretrained=True)\n",
    "        self.dti_backbone.stem[0] = nn.Conv3d(1, 64, kernel_size=(3,7,7), stride=(1,2,2), padding=(1,3,3), bias=False)\n",
    "        self.dti_backbone.fc = nn.Identity()\n",
    "\n",
    "        if freeze_backbone:\n",
    "            for param in self.mri_backbone.parameters():\n",
    "                param.requires_grad = False\n",
    "            for param in self.dti_backbone.parameters():\n",
    "                param.requires_grad = False\n",
    "\n",
    "        self.tabular_branch = TabularMLP(in_features=tabular_dim, hidden_dim=64)\n",
    "\n",
    "        self.fusion_dim = 2 * backbone_out_dim + 64\n",
    "        self.attn_fusion = AttentionFusion(self.fusion_dim)\n",
    "\n",
    "        self.classifier = nn.Sequential(\n",
    "            nn.Linear(self.fusion_dim, 256),\n",
    "            nn.BatchNorm1d(256),\n",
    "            nn.ReLU(),\n",
    "            nn.Dropout(0.5),\n",
    "            nn.Linear(256, num_classes)\n",
    "        )\n",
    "\n",
    "    def forward(self, mri, dti, age, gender):\n",
    "        tabular = torch.stack([age, gender], dim=1)\n",
    "\n",
    "        mri_feat = self.mri_backbone(mri)      # (B, 512)\n",
    "        dti_feat = self.dti_backbone(dti)      # (B, 512)\n",
    "        tab_feat = self.tabular_branch(tabular)  # (B, 64)\n",
    "\n",
    "        fused = torch.cat([mri_feat, dti_feat, tab_feat], dim=1)  # (B, 1088)\n",
    "        fused = self.attn_fusion(fused)\n",
    "\n",
    "        out = self.classifier(fused)\n",
    "        return out\n",
    "\n",
    "    def unfreeze_backbones(self):\n",
    "        for param in self.mri_backbone.parameters():\n",
    "            param.requires_grad = True\n",
    "        for param in self.dti_backbone.parameters():\n",
    "            param.requires_grad = True\n",
    "\n"
   ]
  },
  {
   "cell_type": "code",
   "execution_count": null,
   "id": "1e7b6b64",
   "metadata": {
    "execution": {
     "iopub.execute_input": "2025-06-03T04:51:55.988532Z",
     "iopub.status.busy": "2025-06-03T04:51:55.987727Z",
     "iopub.status.idle": "2025-06-03T04:52:00.463328Z",
     "shell.execute_reply": "2025-06-03T04:52:00.462756Z",
     "shell.execute_reply.started": "2025-06-03T04:51:55.988507Z"
    },
    "id": "KYfINGfhF8Si",
    "papermill": {
     "duration": null,
     "end_time": null,
     "exception": null,
     "start_time": null,
     "status": "pending"
    },
    "tags": []
   },
   "outputs": [],
   "source": [
    "device = torch.device('cuda' if torch.cuda.is_available() else 'cpu')"
   ]
  },
  {
   "cell_type": "code",
   "execution_count": null,
   "id": "125a9de9",
   "metadata": {
    "execution": {
     "iopub.execute_input": "2025-06-03T05:41:21.277957Z",
     "iopub.status.busy": "2025-06-03T05:41:21.277677Z",
     "iopub.status.idle": "2025-06-03T05:41:23.045272Z",
     "shell.execute_reply": "2025-06-03T05:41:23.044305Z",
     "shell.execute_reply.started": "2025-06-03T05:41:21.277937Z"
    },
    "papermill": {
     "duration": null,
     "end_time": null,
     "exception": null,
     "start_time": null,
     "status": "pending"
    },
    "tags": []
   },
   "outputs": [],
   "source": [
    "model = MultimodalAlzheimerClassifier(num_classes=3, freeze_backbone=True).to(device)\n",
    "criterion = nn.CrossEntropyLoss(label_smoothing=0.2)\n",
    "optimizer = torch.optim.AdamW(model.parameters(), lr=1e-4, weight_decay=1e-5)\n",
    "scheduler = torch.optim.lr_scheduler.ReduceLROnPlateau(optimizer, mode='min', factor=0.5, patience=3)\n"
   ]
  },
  {
   "cell_type": "code",
   "execution_count": null,
   "id": "79a4347d",
   "metadata": {
    "execution": {
     "iopub.execute_input": "2025-06-03T05:41:25.938727Z",
     "iopub.status.busy": "2025-06-03T05:41:25.938442Z",
     "iopub.status.idle": "2025-06-03T05:41:25.946558Z",
     "shell.execute_reply": "2025-06-03T05:41:25.945736Z",
     "shell.execute_reply.started": "2025-06-03T05:41:25.938707Z"
    },
    "id": "ldIkvYoC38OV",
    "papermill": {
     "duration": null,
     "end_time": null,
     "exception": null,
     "start_time": null,
     "status": "pending"
    },
    "tags": []
   },
   "outputs": [],
   "source": [
    "import numpy as np\n",
    "import torch\n",
    "\n",
    "class EarlyStopping:\n",
    "    def __init__(self, patience=7, verbose=False, delta=0, path='/kaggle/working/checkpoint.pt', trace_func=print):\n",
    " \n",
    "        self.patience = patience\n",
    "        self.verbose = verbose\n",
    "        self.counter = 0\n",
    "        self.best_score = None\n",
    "        self.early_stop = False\n",
    "        self.val_loss_min = np.inf\n",
    "        self.delta = delta\n",
    "        self.path = path\n",
    "        self.trace_func = trace_func\n",
    "\n",
    "    def __call__(self, val_loss, model):\n",
    "        score = -val_loss  # lower val_loss is better\n",
    "\n",
    "        if self.best_score is None:\n",
    "            self.best_score = score\n",
    "            self.save_checkpoint(val_loss, model)\n",
    "\n",
    "        elif score < self.best_score + self.delta:\n",
    "            self.counter += 1\n",
    "            if self.verbose:\n",
    "                self.trace_func(f'EarlyStopping counter: {self.counter} / {self.patience}')\n",
    "            if self.counter >= self.patience:\n",
    "                self.early_stop = True\n",
    "\n",
    "        else:\n",
    "            self.best_score = score\n",
    "            self.save_checkpoint(val_loss, model)\n",
    "            self.counter = 0\n",
    "\n",
    "    def save_checkpoint(self, val_loss, model):\n",
    "        '''Lưu model khi validation loss giảm'''\n",
    "        if self.verbose:\n",
    "            self.trace_func(f'Validation loss decreased ({self.val_loss_min:.6f} --> {val_loss:.6f}). Saving model ...')\n",
    "        torch.save(model.state_dict(), self.path)\n",
    "        self.val_loss_min = val_loss\n"
   ]
  },
  {
   "cell_type": "code",
   "execution_count": null,
   "id": "6f7a8c7c",
   "metadata": {
    "execution": {
     "iopub.execute_input": "2025-06-03T05:41:34.324864Z",
     "iopub.status.busy": "2025-06-03T05:41:34.324129Z",
     "iopub.status.idle": "2025-06-03T05:41:34.336190Z",
     "shell.execute_reply": "2025-06-03T05:41:34.335539Z",
     "shell.execute_reply.started": "2025-06-03T05:41:34.324839Z"
    },
    "papermill": {
     "duration": null,
     "end_time": null,
     "exception": null,
     "start_time": null,
     "status": "pending"
    },
    "tags": []
   },
   "outputs": [],
   "source": [
    "from tqdm import tqdm\n",
    "import torch\n",
    "import numpy as np\n",
    "from sklearn.metrics import confusion_matrix\n",
    "\n",
    "def train_model(model, train_loader, val_loader, criterion, optimizer, scheduler, device, num_epochs=50, patience=15):\n",
    "    best_val_acc = 0.0\n",
    "    early_stopping = EarlyStopping(patience=patience, verbose=True)\n",
    "\n",
    "    train_losses = []\n",
    "    train_accuracies = []\n",
    "    val_losses = []\n",
    "    val_accuracies = []\n",
    "\n",
    "    y_true_best = []\n",
    "    y_pred_best = []\n",
    "\n",
    "    for epoch in range(num_epochs):\n",
    "        model.train()\n",
    "        running_loss = 0.0\n",
    "        correct = 0\n",
    "        total = 0\n",
    "\n",
    "        for batch in tqdm(train_loader, desc=f\"Epoch {epoch+1}/{num_epochs} - Training\"):\n",
    "            mri    = batch['mri'].to(device).float()\n",
    "            dti    = batch['dti'].to(device).float()\n",
    "            age    = batch['age'].to(device).float()\n",
    "            gender = batch['gender'].to(device).float()\n",
    "            label  = batch['label'].to(device).long()\n",
    "\n",
    "            optimizer.zero_grad()\n",
    "            outputs = model(mri, dti, age, gender)\n",
    "            loss = criterion(outputs, label)\n",
    "            loss.backward()\n",
    "            optimizer.step()\n",
    "\n",
    "            running_loss += loss.item()\n",
    "            _, predicted = torch.max(outputs, 1)\n",
    "            total += label.size(0)\n",
    "            correct += (predicted == label).sum().item()\n",
    "\n",
    "        train_loss = running_loss / len(train_loader)\n",
    "        train_acc = correct / total\n",
    "        train_losses.append(train_loss)\n",
    "        train_accuracies.append(train_acc)\n",
    "\n",
    "        print(f\"\\nEpoch [{epoch+1}/{num_epochs}]\")\n",
    "        print(f\"Train Loss: {train_loss:.4f} | Train Accuracy: {train_acc:.4f}\")\n",
    "\n",
    "        # Validation\n",
    "        model.eval()\n",
    "        val_loss_total = 0.0\n",
    "        val_correct = 0\n",
    "        val_total = 0\n",
    "        y_true = []\n",
    "        y_pred = []\n",
    "\n",
    "        with torch.no_grad():\n",
    "            for batch in tqdm(val_loader, desc=f\"Epoch {epoch+1}/{num_epochs} - Validation\"):\n",
    "                mri    = batch['mri'].to(device).float()\n",
    "                dti    = batch['dti'].to(device).float()\n",
    "                age    = batch['age'].to(device).float()\n",
    "                gender = batch['gender'].to(device).float()\n",
    "                label  = batch['label'].to(device).long()\n",
    "\n",
    "                outputs = model(mri, dti, age, gender)\n",
    "                loss = criterion(outputs, label)\n",
    "                val_loss_total += loss.item()\n",
    "\n",
    "                _, predicted = torch.max(outputs, 1)\n",
    "                val_total += label.size(0)\n",
    "                val_correct += (predicted == label).sum().item()\n",
    "\n",
    "                y_true.extend(label.cpu().numpy())\n",
    "                y_pred.extend(predicted.cpu().numpy())\n",
    "\n",
    "        val_loss = val_loss_total / len(val_loader)\n",
    "        val_acc = val_correct / val_total\n",
    "        val_losses.append(val_loss)\n",
    "        val_accuracies.append(val_acc)\n",
    "\n",
    "        print(f\"Val Loss: {val_loss:.4f} | Val Accuracy: {val_acc:.4f}\")\n",
    "\n",
    "        scheduler.step(val_loss)  \n",
    "\n",
    "        # Lưu mô hình tốt nhất\n",
    "        if val_acc > best_val_acc:\n",
    "            best_val_acc = val_acc\n",
    "            y_true_best = y_true\n",
    "            y_pred_best = y_pred\n",
    "            torch.save(model.state_dict(), \"/kaggle/working/best_model.pth\")\n",
    "\n",
    "\n",
    "        early_stopping(val_loss, model)\n",
    "        if early_stopping.early_stop:\n",
    "            print(\" Early stopping!\")\n",
    "            break\n",
    "\n",
    "        torch.cuda.empty_cache()  \n",
    "\n",
    "    return train_losses, train_accuracies, val_losses, val_accuracies, y_true_best, y_pred_best\n"
   ]
  },
  {
   "cell_type": "code",
   "execution_count": null,
   "id": "61258d8c",
   "metadata": {
    "execution": {
     "iopub.execute_input": "2025-06-03T05:41:40.209042Z",
     "iopub.status.busy": "2025-06-03T05:41:40.208364Z",
     "iopub.status.idle": "2025-06-03T05:41:40.216620Z",
     "shell.execute_reply": "2025-06-03T05:41:40.215750Z",
     "shell.execute_reply.started": "2025-06-03T05:41:40.209021Z"
    },
    "id": "MaDYi8fpg5gj",
    "papermill": {
     "duration": null,
     "end_time": null,
     "exception": null,
     "start_time": null,
     "status": "pending"
    },
    "tags": []
   },
   "outputs": [],
   "source": [
    "import matplotlib.pyplot as plt\n",
    "from sklearn.metrics import confusion_matrix, ConfusionMatrixDisplay, classification_report\n",
    "import numpy as np\n",
    "\n",
    "def plot_results(train_losses, train_accuracies, val_losses, val_accuracies, y_true, y_pred, class_names=None):\n",
    "    epochs = range(1, len(train_losses) + 1)\n",
    "\n",
    "    plt.figure(figsize=(14, 6))\n",
    "\n",
    "    # Plot loss\n",
    "    plt.subplot(1, 2, 1)\n",
    "    plt.plot(epochs, train_losses, label=\"Train Loss\")\n",
    "    plt.plot(epochs, val_losses, label=\"Val Loss\")\n",
    "    plt.xlabel(\"Epoch\")\n",
    "    plt.ylabel(\"Loss\")\n",
    "    plt.title(\"Training & Validation Loss\")\n",
    "    plt.legend()\n",
    "    plt.grid(True)\n",
    "\n",
    "    # Plot accuracy\n",
    "    plt.subplot(1, 2, 2)\n",
    "    plt.plot(epochs, train_accuracies, label=\"Train Acc\")\n",
    "    plt.plot(epochs, val_accuracies, label=\"Val Acc\")\n",
    "    plt.xlabel(\"Epoch\")\n",
    "    plt.ylabel(\"Accuracy\")\n",
    "    plt.title(\"Training & Validation Accuracy\")\n",
    "    plt.legend()\n",
    "    plt.grid(True)\n",
    "\n",
    "    plt.tight_layout()\n",
    "    plt.show()\n",
    "\n",
    "    # Confusion Matrix\n",
    "    cm = confusion_matrix(y_true, y_pred)\n",
    "\n",
    "    if class_names is None:\n",
    "        class_names = [str(c) for c in np.unique(y_true)]\n",
    "\n",
    "    disp = ConfusionMatrixDisplay(confusion_matrix=cm, display_labels=class_names)\n",
    "    fig, ax = plt.subplots(figsize=(6, 6))\n",
    "    disp.plot(cmap=plt.cm.Blues, ax=ax, values_format='d')\n",
    "    plt.title(\"Confusion Matrix\")\n",
    "    plt.grid(False)\n",
    "    plt.show()\n",
    "\n",
    "    # Classification report\n",
    "    print(\"Classification Report:\")\n",
    "    print(classification_report(y_true, y_pred, target_names=class_names))"
   ]
  },
  {
   "cell_type": "code",
   "execution_count": null,
   "id": "78d7d001",
   "metadata": {
    "execution": {
     "iopub.execute_input": "2025-06-03T05:41:46.297515Z",
     "iopub.status.busy": "2025-06-03T05:41:46.296906Z",
     "iopub.status.idle": "2025-06-03T06:10:54.996964Z",
     "shell.execute_reply": "2025-06-03T06:10:54.994413Z",
     "shell.execute_reply.started": "2025-06-03T05:41:46.297492Z"
    },
    "papermill": {
     "duration": null,
     "end_time": null,
     "exception": null,
     "start_time": null,
     "status": "pending"
    },
    "tags": []
   },
   "outputs": [],
   "source": [
    "train_losses, train_accs, val_losses, val_accs, y_true, y_pred = train_model(\n",
    "    model, train_loader, val_loader, criterion, optimizer, scheduler, device, num_epochs=50, patience=15\n",
    ")"
   ]
  },
  {
   "cell_type": "code",
   "execution_count": null,
   "id": "51e02951",
   "metadata": {
    "execution": {
     "iopub.execute_input": "2025-06-03T06:10:59.199075Z",
     "iopub.status.busy": "2025-06-03T06:10:59.198784Z",
     "iopub.status.idle": "2025-06-03T06:10:59.804428Z",
     "shell.execute_reply": "2025-06-03T06:10:59.803781Z",
     "shell.execute_reply.started": "2025-06-03T06:10:59.199048Z"
    },
    "id": "j1Kb1QTBhTRL",
    "outputId": "429eb697-3e44-4bf8-a14f-64bf12ba06c2",
    "papermill": {
     "duration": null,
     "end_time": null,
     "exception": null,
     "start_time": null,
     "status": "pending"
    },
    "tags": []
   },
   "outputs": [],
   "source": [
    "class_names = ['CN', 'MCI', 'AD']\n",
    "plot_results(train_losses, train_accs, val_losses, val_accs, y_true, y_pred, class_names)"
   ]
  }
 ],
 "metadata": {
  "accelerator": "GPU",
  "colab": {
   "gpuType": "T4",
   "provenance": []
  },
  "kaggle": {
   "accelerator": "none",
   "dataSources": [
    {
     "datasetId": 7554195,
     "sourceId": 12007805,
     "sourceType": "datasetVersion"
    }
   ],
   "dockerImageVersionId": 31040,
   "isGpuEnabled": false,
   "isInternetEnabled": true,
   "language": "python",
   "sourceType": "notebook"
  },
  "kernelspec": {
   "display_name": "Python 3",
   "language": "python",
   "name": "python3"
  },
  "language_info": {
   "codemirror_mode": {
    "name": "ipython",
    "version": 3
   },
   "file_extension": ".py",
   "mimetype": "text/x-python",
   "name": "python",
   "nbconvert_exporter": "python",
   "pygments_lexer": "ipython3",
   "version": "3.11.11"
  },
  "papermill": {
   "default_parameters": {},
   "duration": 31.180879,
   "end_time": "2025-06-03T10:32:22.120677",
   "environment_variables": {},
   "exception": true,
   "input_path": "__notebook__.ipynb",
   "output_path": "__notebook__.ipynb",
   "parameters": {},
   "start_time": "2025-06-03T10:31:50.939798",
   "version": "2.6.0"
  }
 },
 "nbformat": 4,
 "nbformat_minor": 5
}

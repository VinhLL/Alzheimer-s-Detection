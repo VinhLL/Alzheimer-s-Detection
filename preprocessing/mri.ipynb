{
 "cells": [
  {
   "cell_type": "code",
   "execution_count": 1,
   "id": "e073742f",
   "metadata": {},
   "outputs": [],
   "source": [
    "import os\n",
    "import pandas as pd"
   ]
  },
  {
   "cell_type": "code",
   "execution_count": 2,
   "id": "6583643c",
   "metadata": {},
   "outputs": [
    {
     "data": {
      "text/html": [
       "<div>\n",
       "<style scoped>\n",
       "    .dataframe tbody tr th:only-of-type {\n",
       "        vertical-align: middle;\n",
       "    }\n",
       "\n",
       "    .dataframe tbody tr th {\n",
       "        vertical-align: top;\n",
       "    }\n",
       "\n",
       "    .dataframe thead th {\n",
       "        text-align: right;\n",
       "    }\n",
       "</style>\n",
       "<table border=\"1\" class=\"dataframe\">\n",
       "  <thead>\n",
       "    <tr style=\"text-align: right;\">\n",
       "      <th></th>\n",
       "      <th>subject_id</th>\n",
       "      <th>VISCODE</th>\n",
       "      <th>VISCODE2</th>\n",
       "      <th>EXAMDATE</th>\n",
       "      <th>DIAGNOSIS</th>\n",
       "      <th>image_id</th>\n",
       "      <th>mri_visit</th>\n",
       "      <th>mri_date</th>\n",
       "      <th>mri_description</th>\n",
       "      <th>image_type</th>\n",
       "      <th>mri_type</th>\n",
       "      <th>days_between_exams_and_mri_scan</th>\n",
       "    </tr>\n",
       "  </thead>\n",
       "  <tbody>\n",
       "    <tr>\n",
       "      <th>0</th>\n",
       "      <td>002_S_0413</td>\n",
       "      <td>init</td>\n",
       "      <td>m132</td>\n",
       "      <td>2017-06-15</td>\n",
       "      <td>1.0</td>\n",
       "      <td>863056</td>\n",
       "      <td>init</td>\n",
       "      <td>2017-06-21</td>\n",
       "      <td>Accelerated Sagittal MPRAGE</td>\n",
       "      <td>Original</td>\n",
       "      <td>3D</td>\n",
       "      <td>6</td>\n",
       "    </tr>\n",
       "    <tr>\n",
       "      <th>1</th>\n",
       "      <td>002_S_1155</td>\n",
       "      <td>init</td>\n",
       "      <td>m126</td>\n",
       "      <td>2017-04-20</td>\n",
       "      <td>2.0</td>\n",
       "      <td>843510</td>\n",
       "      <td>init</td>\n",
       "      <td>2017-04-24</td>\n",
       "      <td>Accelerated Sagittal MPRAGE</td>\n",
       "      <td>Original</td>\n",
       "      <td>3D</td>\n",
       "      <td>4</td>\n",
       "    </tr>\n",
       "    <tr>\n",
       "      <th>2</th>\n",
       "      <td>002_S_1261</td>\n",
       "      <td>init</td>\n",
       "      <td>m120</td>\n",
       "      <td>2017-03-14</td>\n",
       "      <td>2.0</td>\n",
       "      <td>831065</td>\n",
       "      <td>init</td>\n",
       "      <td>2017-03-15</td>\n",
       "      <td>Accelerated Sagittal MPRAGE</td>\n",
       "      <td>Original</td>\n",
       "      <td>3D</td>\n",
       "      <td>1</td>\n",
       "    </tr>\n",
       "    <tr>\n",
       "      <th>3</th>\n",
       "      <td>002_S_1280</td>\n",
       "      <td>init</td>\n",
       "      <td>m120</td>\n",
       "      <td>2017-03-02</td>\n",
       "      <td>1.0</td>\n",
       "      <td>829296</td>\n",
       "      <td>init</td>\n",
       "      <td>2017-03-13</td>\n",
       "      <td>Accelerated Sagittal MPRAGE</td>\n",
       "      <td>Original</td>\n",
       "      <td>3D</td>\n",
       "      <td>11</td>\n",
       "    </tr>\n",
       "    <tr>\n",
       "      <th>4</th>\n",
       "      <td>002_S_4225</td>\n",
       "      <td>init</td>\n",
       "      <td>m84</td>\n",
       "      <td>2018-11-08</td>\n",
       "      <td>3.0</td>\n",
       "      <td>1075136</td>\n",
       "      <td>init</td>\n",
       "      <td>2018-11-12</td>\n",
       "      <td>Accelerated Sagittal MPRAGE</td>\n",
       "      <td>Original</td>\n",
       "      <td>3D</td>\n",
       "      <td>4</td>\n",
       "    </tr>\n",
       "  </tbody>\n",
       "</table>\n",
       "</div>"
      ],
      "text/plain": [
       "   subject_id VISCODE VISCODE2    EXAMDATE  DIAGNOSIS  image_id mri_visit  \\\n",
       "0  002_S_0413    init     m132  2017-06-15        1.0    863056      init   \n",
       "1  002_S_1155    init     m126  2017-04-20        2.0    843510      init   \n",
       "2  002_S_1261    init     m120  2017-03-14        2.0    831065      init   \n",
       "3  002_S_1280    init     m120  2017-03-02        1.0    829296      init   \n",
       "4  002_S_4225    init      m84  2018-11-08        3.0   1075136      init   \n",
       "\n",
       "     mri_date              mri_description image_type mri_type  \\\n",
       "0  2017-06-21  Accelerated Sagittal MPRAGE   Original       3D   \n",
       "1  2017-04-24  Accelerated Sagittal MPRAGE   Original       3D   \n",
       "2  2017-03-15  Accelerated Sagittal MPRAGE   Original       3D   \n",
       "3  2017-03-13  Accelerated Sagittal MPRAGE   Original       3D   \n",
       "4  2018-11-12  Accelerated Sagittal MPRAGE   Original       3D   \n",
       "\n",
       "   days_between_exams_and_mri_scan  \n",
       "0                                6  \n",
       "1                                4  \n",
       "2                                1  \n",
       "3                               11  \n",
       "4                                4  "
      ]
     },
     "execution_count": 2,
     "metadata": {},
     "output_type": "execute_result"
    }
   ],
   "source": [
    "df = pd.read_csv('data\\c4_cognitive_score_mri.csv')\n",
    "df.head()"
   ]
  },
  {
   "cell_type": "code",
   "execution_count": 3,
   "id": "c2e1bf5f",
   "metadata": {},
   "outputs": [],
   "source": [
    "df = df[~(df['VISCODE'] == 'sc')]"
   ]
  },
  {
   "cell_type": "code",
   "execution_count": 4,
   "id": "b3d92988",
   "metadata": {},
   "outputs": [],
   "source": [
    "# df = df[df['days_between_exams_and_mri_scan'] <= 30]"
   ]
  },
  {
   "cell_type": "code",
   "execution_count": 5,
   "id": "22918f81",
   "metadata": {},
   "outputs": [
    {
     "data": {
      "text/plain": [
       "array(['Original'], dtype=object)"
      ]
     },
     "execution_count": 5,
     "metadata": {},
     "output_type": "execute_result"
    }
   ],
   "source": [
    "df.image_type.unique()"
   ]
  },
  {
   "cell_type": "code",
   "execution_count": 6,
   "id": "92561c7b",
   "metadata": {},
   "outputs": [
    {
     "data": {
      "text/plain": [
       "array(['3D'], dtype=object)"
      ]
     },
     "execution_count": 6,
     "metadata": {},
     "output_type": "execute_result"
    }
   ],
   "source": [
    "df.mri_type.unique()"
   ]
  },
  {
   "cell_type": "code",
   "execution_count": 7,
   "id": "f9c1af6b",
   "metadata": {},
   "outputs": [
    {
     "data": {
      "text/plain": [
       "array(['init', 'sc', 'y4', 'y2', 'y1', 'y3', 'y5', 'v31'], dtype=object)"
      ]
     },
     "execution_count": 7,
     "metadata": {},
     "output_type": "execute_result"
    }
   ],
   "source": [
    "df.mri_visit.unique()"
   ]
  },
  {
   "cell_type": "code",
   "execution_count": 8,
   "id": "2d1f0da3",
   "metadata": {},
   "outputs": [],
   "source": [
    "# Xóa các cột thừa gây nhiễu\n",
    "df = df.drop(columns=['VISCODE', 'VISCODE2', 'EXAMDATE', 'days_between_exams_and_mri_scan', 'image_type', 'mri_type', 'mri_visit'])"
   ]
  },
  {
   "cell_type": "code",
   "execution_count": 9,
   "id": "7c794af1",
   "metadata": {},
   "outputs": [],
   "source": [
    "df = df.drop_duplicates('image_id')"
   ]
  },
  {
   "cell_type": "code",
   "execution_count": 10,
   "id": "5e8e59fa",
   "metadata": {},
   "outputs": [
    {
     "name": "stdout",
     "output_type": "stream",
     "text": [
      "<class 'pandas.core.frame.DataFrame'>\n",
      "Index: 205 entries, 0 to 291\n",
      "Data columns (total 5 columns):\n",
      " #   Column           Non-Null Count  Dtype  \n",
      "---  ------           --------------  -----  \n",
      " 0   subject_id       205 non-null    object \n",
      " 1   DIAGNOSIS        205 non-null    float64\n",
      " 2   image_id         205 non-null    int64  \n",
      " 3   mri_date         205 non-null    object \n",
      " 4   mri_description  205 non-null    object \n",
      "dtypes: float64(1), int64(1), object(3)\n",
      "memory usage: 9.6+ KB\n"
     ]
    }
   ],
   "source": [
    "df.info()"
   ]
  },
  {
   "cell_type": "code",
   "execution_count": 11,
   "id": "0eb3f6cc",
   "metadata": {},
   "outputs": [
    {
     "data": {
      "text/plain": [
       "subject_id         205\n",
       "DIAGNOSIS          205\n",
       "image_id           205\n",
       "mri_date           205\n",
       "mri_description    205\n",
       "dtype: int64"
      ]
     },
     "execution_count": 11,
     "metadata": {},
     "output_type": "execute_result"
    }
   ],
   "source": [
    "df.count()"
   ]
  },
  {
   "cell_type": "code",
   "execution_count": 12,
   "id": "7c8d9ec2",
   "metadata": {},
   "outputs": [
    {
     "data": {
      "text/plain": [
       "Index(['subject_id', 'DIAGNOSIS', 'image_id', 'mri_date', 'mri_description'], dtype='object')"
      ]
     },
     "execution_count": 12,
     "metadata": {},
     "output_type": "execute_result"
    }
   ],
   "source": [
    "df.columns"
   ]
  },
  {
   "cell_type": "code",
   "execution_count": 13,
   "id": "c4ad49e8",
   "metadata": {},
   "outputs": [
    {
     "data": {
      "text/plain": [
       "array(['Accelerated Sagittal MPRAGE', 'Accelerated Sagittal MPRAGE_ND',\n",
       "       'Sagittal 3D Accelerated MPRAGE', 'MPRAGE SAG', 'MPRAGE',\n",
       "       'MPRAGE GRAPPA2', 'Accelerated Sagittal MPRAGE REPEAT'],\n",
       "      dtype=object)"
      ]
     },
     "execution_count": 13,
     "metadata": {},
     "output_type": "execute_result"
    }
   ],
   "source": [
    "df.mri_description.unique()"
   ]
  },
  {
   "cell_type": "code",
   "execution_count": 14,
   "id": "6e945443",
   "metadata": {},
   "outputs": [
    {
     "data": {
      "text/plain": [
       "mri_description\n",
       "Accelerated Sagittal MPRAGE           191\n",
       "Sagittal 3D Accelerated MPRAGE          6\n",
       "Accelerated Sagittal MPRAGE_ND          4\n",
       "MPRAGE SAG                              1\n",
       "MPRAGE                                  1\n",
       "MPRAGE GRAPPA2                          1\n",
       "Accelerated Sagittal MPRAGE REPEAT      1\n",
       "Name: count, dtype: int64"
      ]
     },
     "execution_count": 14,
     "metadata": {},
     "output_type": "execute_result"
    }
   ],
   "source": [
    "df.mri_description.value_counts()"
   ]
  },
  {
   "cell_type": "code",
   "execution_count": 15,
   "id": "5dc8d4a8",
   "metadata": {},
   "outputs": [
    {
     "data": {
      "text/html": [
       "<div>\n",
       "<style scoped>\n",
       "    .dataframe tbody tr th:only-of-type {\n",
       "        vertical-align: middle;\n",
       "    }\n",
       "\n",
       "    .dataframe tbody tr th {\n",
       "        vertical-align: top;\n",
       "    }\n",
       "\n",
       "    .dataframe thead th {\n",
       "        text-align: right;\n",
       "    }\n",
       "</style>\n",
       "<table border=\"1\" class=\"dataframe\">\n",
       "  <thead>\n",
       "    <tr style=\"text-align: right;\">\n",
       "      <th></th>\n",
       "      <th>subject_id</th>\n",
       "      <th>DIAGNOSIS</th>\n",
       "      <th>image_id</th>\n",
       "      <th>mri_date</th>\n",
       "      <th>mri_description</th>\n",
       "    </tr>\n",
       "  </thead>\n",
       "  <tbody>\n",
       "    <tr>\n",
       "      <th>250</th>\n",
       "      <td>137_S_4631</td>\n",
       "      <td>3.0</td>\n",
       "      <td>1116492</td>\n",
       "      <td>2019-01-15</td>\n",
       "      <td>Accelerated Sagittal MPRAGE REPEAT</td>\n",
       "    </tr>\n",
       "  </tbody>\n",
       "</table>\n",
       "</div>"
      ],
      "text/plain": [
       "     subject_id  DIAGNOSIS  image_id    mri_date  \\\n",
       "250  137_S_4631        3.0   1116492  2019-01-15   \n",
       "\n",
       "                        mri_description  \n",
       "250  Accelerated Sagittal MPRAGE REPEAT  "
      ]
     },
     "execution_count": 15,
     "metadata": {},
     "output_type": "execute_result"
    }
   ],
   "source": [
    "# danh sách các mẫu dữ liệu chụp lại\n",
    "df1 = df[df['mri_description'].isin(['Accelerated Sagittal MPRAGE repeat', 'Accelerated Sagittal MPRAGE REPEAT'])]\n",
    "df1"
   ]
  },
  {
   "cell_type": "code",
   "execution_count": 16,
   "id": "6e232fb3",
   "metadata": {},
   "outputs": [
    {
     "data": {
      "text/html": [
       "<div>\n",
       "<style scoped>\n",
       "    .dataframe tbody tr th:only-of-type {\n",
       "        vertical-align: middle;\n",
       "    }\n",
       "\n",
       "    .dataframe tbody tr th {\n",
       "        vertical-align: top;\n",
       "    }\n",
       "\n",
       "    .dataframe thead th {\n",
       "        text-align: right;\n",
       "    }\n",
       "</style>\n",
       "<table border=\"1\" class=\"dataframe\">\n",
       "  <thead>\n",
       "    <tr style=\"text-align: right;\">\n",
       "      <th></th>\n",
       "      <th>subject_id</th>\n",
       "      <th>DIAGNOSIS</th>\n",
       "      <th>image_id</th>\n",
       "      <th>mri_date</th>\n",
       "      <th>mri_description</th>\n",
       "    </tr>\n",
       "  </thead>\n",
       "  <tbody>\n",
       "    <tr>\n",
       "      <th>249</th>\n",
       "      <td>137_S_4631</td>\n",
       "      <td>3.0</td>\n",
       "      <td>1116491</td>\n",
       "      <td>2019-01-15</td>\n",
       "      <td>Accelerated Sagittal MPRAGE</td>\n",
       "    </tr>\n",
       "  </tbody>\n",
       "</table>\n",
       "</div>"
      ],
      "text/plain": [
       "     subject_id  DIAGNOSIS  image_id    mri_date              mri_description\n",
       "249  137_S_4631        3.0   1116491  2019-01-15  Accelerated Sagittal MPRAGE"
      ]
     },
     "execution_count": 16,
     "metadata": {},
     "output_type": "execute_result"
    }
   ],
   "source": [
    "# lấy những ảnh bị lỗi phải chụp lại\n",
    "df2 = df[(df['subject_id'].isin(df1['subject_id']))]\n",
    "df2 = df2[~df2['mri_description'].isin(['Accelerated Sagittal MPRAGE repeat', 'Accelerated Sagittal MPRAGE REPEAT'])]\n",
    "df2"
   ]
  },
  {
   "cell_type": "code",
   "execution_count": 17,
   "id": "2028019a",
   "metadata": {},
   "outputs": [],
   "source": [
    "# lấy những ảnh loại axial dti_fa không bị lỗi\n",
    "df3 = df[df['mri_description'].isin(['Accelerated Sagittal MPRAGE', 'Sagittal 3D Accelerated MPRAGE',\n",
    "                                     'Accelerated Sagittal MPRAGE REPEAT', 'Accelerated Sagittal MPRAGE repeat' ])]\n",
    "df3 = df3[~df3['image_id'].isin(df2['image_id'])]"
   ]
  },
  {
   "cell_type": "code",
   "execution_count": 18,
   "id": "ff2c7dfd",
   "metadata": {},
   "outputs": [
    {
     "data": {
      "text/plain": [
       "subject_id         197\n",
       "DIAGNOSIS          197\n",
       "image_id           197\n",
       "mri_date           197\n",
       "mri_description    197\n",
       "dtype: int64"
      ]
     },
     "execution_count": 18,
     "metadata": {},
     "output_type": "execute_result"
    }
   ],
   "source": [
    "df3.count()"
   ]
  },
  {
   "cell_type": "code",
   "execution_count": null,
   "id": "486ae792",
   "metadata": {},
   "outputs": [],
   "source": []
  },
  {
   "cell_type": "code",
   "execution_count": 19,
   "id": "e8bae77b",
   "metadata": {},
   "outputs": [],
   "source": [
    "# Tạo 1 df trống gồm các cột: subject_id, mri_description, mri_time, image_id\n",
    "mri_df = pd.DataFrame(columns=['subject_id', 'mri_description', 'mri_time', 'image_id'])"
   ]
  },
  {
   "cell_type": "code",
   "execution_count": 20,
   "id": "8feb41a3",
   "metadata": {},
   "outputs": [],
   "source": [
    "data_dir = 'data/MRI' \n",
    "\n",
    "for f1 in os.listdir(data_dir):\n",
    "    if os.path.isdir(os.path.join(data_dir, f1)):\n",
    "        # print(f1)\n",
    "        for f2 in os.listdir(os.path.join(data_dir, f1)):\n",
    "            if os.path.isdir(os.path.join(data_dir, f1, f2)):\n",
    "                # print(f2)\n",
    "                for f3 in os.listdir(os.path.join(data_dir, f1, f2)):\n",
    "                    if os.path.isdir(os.path.join(data_dir, f1, f2, f3)):\n",
    "                        for f4 in os.listdir(os.path.join(data_dir, f1, f2, f3)):\n",
    "                            if os.path.isdir(os.path.join(data_dir, f1, f2, f3, f4)):\n",
    "                                mri_df = pd.concat([mri_df, pd.DataFrame({'subject_id': [f1], 'mri_description': [f2], 'mri_time': [f3], 'image_id': [f4]})], ignore_index=True)"
   ]
  },
  {
   "cell_type": "code",
   "execution_count": 21,
   "id": "6d996f45",
   "metadata": {},
   "outputs": [
    {
     "data": {
      "text/html": [
       "<div>\n",
       "<style scoped>\n",
       "    .dataframe tbody tr th:only-of-type {\n",
       "        vertical-align: middle;\n",
       "    }\n",
       "\n",
       "    .dataframe tbody tr th {\n",
       "        vertical-align: top;\n",
       "    }\n",
       "\n",
       "    .dataframe thead th {\n",
       "        text-align: right;\n",
       "    }\n",
       "</style>\n",
       "<table border=\"1\" class=\"dataframe\">\n",
       "  <thead>\n",
       "    <tr style=\"text-align: right;\">\n",
       "      <th></th>\n",
       "      <th>subject_id</th>\n",
       "      <th>mri_description</th>\n",
       "      <th>mri_time</th>\n",
       "      <th>image_id</th>\n",
       "    </tr>\n",
       "  </thead>\n",
       "  <tbody>\n",
       "    <tr>\n",
       "      <th>0</th>\n",
       "      <td>002_S_0413</td>\n",
       "      <td>Accelerated_Sagittal_MPRAGE</td>\n",
       "      <td>2017-06-21_13_23_38.0</td>\n",
       "      <td>I863056</td>\n",
       "    </tr>\n",
       "    <tr>\n",
       "      <th>1</th>\n",
       "      <td>002_S_1155</td>\n",
       "      <td>Accelerated_Sagittal_MPRAGE</td>\n",
       "      <td>2017-04-24_13_21_32.0</td>\n",
       "      <td>I843510</td>\n",
       "    </tr>\n",
       "    <tr>\n",
       "      <th>2</th>\n",
       "      <td>002_S_1261</td>\n",
       "      <td>Accelerated_Sagittal_MPRAGE</td>\n",
       "      <td>2017-03-15_11_23_54.0</td>\n",
       "      <td>I831065</td>\n",
       "    </tr>\n",
       "    <tr>\n",
       "      <th>3</th>\n",
       "      <td>002_S_1280</td>\n",
       "      <td>Accelerated_Sagittal_MPRAGE</td>\n",
       "      <td>2017-03-13_13_38_31.0</td>\n",
       "      <td>I829296</td>\n",
       "    </tr>\n",
       "    <tr>\n",
       "      <th>4</th>\n",
       "      <td>002_S_4225</td>\n",
       "      <td>Accelerated_Sagittal_MPRAGE</td>\n",
       "      <td>2018-11-12_10_09_12.0</td>\n",
       "      <td>I1075136</td>\n",
       "    </tr>\n",
       "  </tbody>\n",
       "</table>\n",
       "</div>"
      ],
      "text/plain": [
       "   subject_id              mri_description               mri_time  image_id\n",
       "0  002_S_0413  Accelerated_Sagittal_MPRAGE  2017-06-21_13_23_38.0   I863056\n",
       "1  002_S_1155  Accelerated_Sagittal_MPRAGE  2017-04-24_13_21_32.0   I843510\n",
       "2  002_S_1261  Accelerated_Sagittal_MPRAGE  2017-03-15_11_23_54.0   I831065\n",
       "3  002_S_1280  Accelerated_Sagittal_MPRAGE  2017-03-13_13_38_31.0   I829296\n",
       "4  002_S_4225  Accelerated_Sagittal_MPRAGE  2018-11-12_10_09_12.0  I1075136"
      ]
     },
     "execution_count": 21,
     "metadata": {},
     "output_type": "execute_result"
    }
   ],
   "source": [
    "mri_df.head()"
   ]
  },
  {
   "cell_type": "code",
   "execution_count": 22,
   "id": "ef10b4f6",
   "metadata": {},
   "outputs": [
    {
     "data": {
      "text/plain": [
       "subject_id         243\n",
       "mri_description    243\n",
       "mri_time           243\n",
       "image_id           243\n",
       "dtype: int64"
      ]
     },
     "execution_count": 22,
     "metadata": {},
     "output_type": "execute_result"
    }
   ],
   "source": [
    "mri_df.count()"
   ]
  },
  {
   "cell_type": "code",
   "execution_count": 23,
   "id": "1a1e5e45",
   "metadata": {},
   "outputs": [
    {
     "data": {
      "text/plain": [
       "mri_description\n",
       "Accelerated_Sagittal_MPRAGE           226\n",
       "Sagittal_3D_Accelerated_MPRAGE          8\n",
       "Accelerated_Sagittal_MPRAGE_ND          4\n",
       "MPRAGE                                  1\n",
       "MPRAGE_GRAPPA2                          1\n",
       "MPRAGE_SAG                              1\n",
       "Accelerated_Sagittal_MPRAGE_REPEAT      1\n",
       "Accelerated_Sagittal_MPRAGE_repeat      1\n",
       "Name: count, dtype: int64"
      ]
     },
     "execution_count": 23,
     "metadata": {},
     "output_type": "execute_result"
    }
   ],
   "source": [
    "mri_df.mri_description.value_counts()"
   ]
  },
  {
   "cell_type": "code",
   "execution_count": null,
   "id": "f083c137",
   "metadata": {},
   "outputs": [],
   "source": []
  },
  {
   "cell_type": "code",
   "execution_count": 24,
   "id": "88da8221",
   "metadata": {},
   "outputs": [],
   "source": [
    "df3['image_id'] = 'I' + df3['image_id'].astype(str)"
   ]
  },
  {
   "cell_type": "code",
   "execution_count": 25,
   "id": "95602044",
   "metadata": {},
   "outputs": [
    {
     "data": {
      "text/html": [
       "<div>\n",
       "<style scoped>\n",
       "    .dataframe tbody tr th:only-of-type {\n",
       "        vertical-align: middle;\n",
       "    }\n",
       "\n",
       "    .dataframe tbody tr th {\n",
       "        vertical-align: top;\n",
       "    }\n",
       "\n",
       "    .dataframe thead th {\n",
       "        text-align: right;\n",
       "    }\n",
       "</style>\n",
       "<table border=\"1\" class=\"dataframe\">\n",
       "  <thead>\n",
       "    <tr style=\"text-align: right;\">\n",
       "      <th></th>\n",
       "      <th>subject_id_x</th>\n",
       "      <th>mri_description_x</th>\n",
       "      <th>mri_time</th>\n",
       "      <th>image_id</th>\n",
       "      <th>subject_id_y</th>\n",
       "      <th>DIAGNOSIS</th>\n",
       "      <th>mri_date</th>\n",
       "      <th>mri_description_y</th>\n",
       "    </tr>\n",
       "  </thead>\n",
       "  <tbody>\n",
       "    <tr>\n",
       "      <th>0</th>\n",
       "      <td>002_S_0413</td>\n",
       "      <td>Accelerated_Sagittal_MPRAGE</td>\n",
       "      <td>2017-06-21_13_23_38.0</td>\n",
       "      <td>I863056</td>\n",
       "      <td>002_S_0413</td>\n",
       "      <td>1.0</td>\n",
       "      <td>2017-06-21</td>\n",
       "      <td>Accelerated Sagittal MPRAGE</td>\n",
       "    </tr>\n",
       "    <tr>\n",
       "      <th>1</th>\n",
       "      <td>002_S_1155</td>\n",
       "      <td>Accelerated_Sagittal_MPRAGE</td>\n",
       "      <td>2017-04-24_13_21_32.0</td>\n",
       "      <td>I843510</td>\n",
       "      <td>002_S_1155</td>\n",
       "      <td>2.0</td>\n",
       "      <td>2017-04-24</td>\n",
       "      <td>Accelerated Sagittal MPRAGE</td>\n",
       "    </tr>\n",
       "    <tr>\n",
       "      <th>2</th>\n",
       "      <td>002_S_1261</td>\n",
       "      <td>Accelerated_Sagittal_MPRAGE</td>\n",
       "      <td>2017-03-15_11_23_54.0</td>\n",
       "      <td>I831065</td>\n",
       "      <td>002_S_1261</td>\n",
       "      <td>2.0</td>\n",
       "      <td>2017-03-15</td>\n",
       "      <td>Accelerated Sagittal MPRAGE</td>\n",
       "    </tr>\n",
       "    <tr>\n",
       "      <th>3</th>\n",
       "      <td>002_S_1280</td>\n",
       "      <td>Accelerated_Sagittal_MPRAGE</td>\n",
       "      <td>2017-03-13_13_38_31.0</td>\n",
       "      <td>I829296</td>\n",
       "      <td>002_S_1280</td>\n",
       "      <td>1.0</td>\n",
       "      <td>2017-03-13</td>\n",
       "      <td>Accelerated Sagittal MPRAGE</td>\n",
       "    </tr>\n",
       "    <tr>\n",
       "      <th>4</th>\n",
       "      <td>002_S_4225</td>\n",
       "      <td>Accelerated_Sagittal_MPRAGE</td>\n",
       "      <td>2018-11-12_10_09_12.0</td>\n",
       "      <td>I1075136</td>\n",
       "      <td>002_S_4225</td>\n",
       "      <td>3.0</td>\n",
       "      <td>2018-11-12</td>\n",
       "      <td>Accelerated Sagittal MPRAGE</td>\n",
       "    </tr>\n",
       "  </tbody>\n",
       "</table>\n",
       "</div>"
      ],
      "text/plain": [
       "  subject_id_x            mri_description_x               mri_time  image_id  \\\n",
       "0   002_S_0413  Accelerated_Sagittal_MPRAGE  2017-06-21_13_23_38.0   I863056   \n",
       "1   002_S_1155  Accelerated_Sagittal_MPRAGE  2017-04-24_13_21_32.0   I843510   \n",
       "2   002_S_1261  Accelerated_Sagittal_MPRAGE  2017-03-15_11_23_54.0   I831065   \n",
       "3   002_S_1280  Accelerated_Sagittal_MPRAGE  2017-03-13_13_38_31.0   I829296   \n",
       "4   002_S_4225  Accelerated_Sagittal_MPRAGE  2018-11-12_10_09_12.0  I1075136   \n",
       "\n",
       "  subject_id_y  DIAGNOSIS    mri_date            mri_description_y  \n",
       "0   002_S_0413        1.0  2017-06-21  Accelerated Sagittal MPRAGE  \n",
       "1   002_S_1155        2.0  2017-04-24  Accelerated Sagittal MPRAGE  \n",
       "2   002_S_1261        2.0  2017-03-15  Accelerated Sagittal MPRAGE  \n",
       "3   002_S_1280        1.0  2017-03-13  Accelerated Sagittal MPRAGE  \n",
       "4   002_S_4225        3.0  2018-11-12  Accelerated Sagittal MPRAGE  "
      ]
     },
     "execution_count": 25,
     "metadata": {},
     "output_type": "execute_result"
    }
   ],
   "source": [
    "# chỉ lấy các mẫu dữ liệu thực sự tồn tại:\n",
    "\n",
    "df4 = pd.merge(mri_df, df3, on=['image_id'], how='inner')\n",
    "df4.head()"
   ]
  },
  {
   "cell_type": "code",
   "execution_count": 26,
   "id": "7743e07c",
   "metadata": {},
   "outputs": [
    {
     "data": {
      "text/plain": [
       "subject_id_x         197\n",
       "mri_description_x    197\n",
       "mri_time             197\n",
       "image_id             197\n",
       "subject_id_y         197\n",
       "DIAGNOSIS            197\n",
       "mri_date             197\n",
       "mri_description_y    197\n",
       "dtype: int64"
      ]
     },
     "execution_count": 26,
     "metadata": {},
     "output_type": "execute_result"
    }
   ],
   "source": [
    "df4.count()"
   ]
  },
  {
   "cell_type": "code",
   "execution_count": null,
   "id": "8dfc0792",
   "metadata": {},
   "outputs": [],
   "source": []
  },
  {
   "cell_type": "code",
   "execution_count": 27,
   "id": "439e70e3",
   "metadata": {},
   "outputs": [],
   "source": [
    "# đổi tên cột:\n",
    "df4 = df4.rename(columns={'subject_id_x': 'subject_id'})"
   ]
  },
  {
   "cell_type": "code",
   "execution_count": 28,
   "id": "e493e12d",
   "metadata": {},
   "outputs": [],
   "source": [
    "df4['mri_link'] =  \"data\" + \"\\\\\" + \"MRI\" + \"\\\\\" + df4['subject_id'] + \"\\\\\" + df4['mri_description_x'] + \"\\\\\" + df4['mri_time'] + \"\\\\\" + df4['image_id']"
   ]
  },
  {
   "cell_type": "code",
   "execution_count": 29,
   "id": "492595f8",
   "metadata": {},
   "outputs": [],
   "source": [
    "# xóa cột thừa:\n",
    "df4 = df4.drop(columns=['subject_id_y', 'mri_description_y', 'mri_description_x', 'image_id', 'mri_time'])"
   ]
  },
  {
   "cell_type": "code",
   "execution_count": 30,
   "id": "a28211eb",
   "metadata": {},
   "outputs": [
    {
     "data": {
      "text/html": [
       "<div>\n",
       "<style scoped>\n",
       "    .dataframe tbody tr th:only-of-type {\n",
       "        vertical-align: middle;\n",
       "    }\n",
       "\n",
       "    .dataframe tbody tr th {\n",
       "        vertical-align: top;\n",
       "    }\n",
       "\n",
       "    .dataframe thead th {\n",
       "        text-align: right;\n",
       "    }\n",
       "</style>\n",
       "<table border=\"1\" class=\"dataframe\">\n",
       "  <thead>\n",
       "    <tr style=\"text-align: right;\">\n",
       "      <th></th>\n",
       "      <th>subject_id</th>\n",
       "      <th>DIAGNOSIS</th>\n",
       "      <th>mri_date</th>\n",
       "      <th>mri_link</th>\n",
       "    </tr>\n",
       "  </thead>\n",
       "  <tbody>\n",
       "    <tr>\n",
       "      <th>0</th>\n",
       "      <td>002_S_0413</td>\n",
       "      <td>1.0</td>\n",
       "      <td>2017-06-21</td>\n",
       "      <td>data\\MRI\\002_S_0413\\Accelerated_Sagittal_MPRAG...</td>\n",
       "    </tr>\n",
       "    <tr>\n",
       "      <th>1</th>\n",
       "      <td>002_S_1155</td>\n",
       "      <td>2.0</td>\n",
       "      <td>2017-04-24</td>\n",
       "      <td>data\\MRI\\002_S_1155\\Accelerated_Sagittal_MPRAG...</td>\n",
       "    </tr>\n",
       "    <tr>\n",
       "      <th>2</th>\n",
       "      <td>002_S_1261</td>\n",
       "      <td>2.0</td>\n",
       "      <td>2017-03-15</td>\n",
       "      <td>data\\MRI\\002_S_1261\\Accelerated_Sagittal_MPRAG...</td>\n",
       "    </tr>\n",
       "    <tr>\n",
       "      <th>3</th>\n",
       "      <td>002_S_1280</td>\n",
       "      <td>1.0</td>\n",
       "      <td>2017-03-13</td>\n",
       "      <td>data\\MRI\\002_S_1280\\Accelerated_Sagittal_MPRAG...</td>\n",
       "    </tr>\n",
       "    <tr>\n",
       "      <th>4</th>\n",
       "      <td>002_S_4225</td>\n",
       "      <td>3.0</td>\n",
       "      <td>2018-11-12</td>\n",
       "      <td>data\\MRI\\002_S_4225\\Accelerated_Sagittal_MPRAG...</td>\n",
       "    </tr>\n",
       "  </tbody>\n",
       "</table>\n",
       "</div>"
      ],
      "text/plain": [
       "   subject_id  DIAGNOSIS    mri_date  \\\n",
       "0  002_S_0413        1.0  2017-06-21   \n",
       "1  002_S_1155        2.0  2017-04-24   \n",
       "2  002_S_1261        2.0  2017-03-15   \n",
       "3  002_S_1280        1.0  2017-03-13   \n",
       "4  002_S_4225        3.0  2018-11-12   \n",
       "\n",
       "                                            mri_link  \n",
       "0  data\\MRI\\002_S_0413\\Accelerated_Sagittal_MPRAG...  \n",
       "1  data\\MRI\\002_S_1155\\Accelerated_Sagittal_MPRAG...  \n",
       "2  data\\MRI\\002_S_1261\\Accelerated_Sagittal_MPRAG...  \n",
       "3  data\\MRI\\002_S_1280\\Accelerated_Sagittal_MPRAG...  \n",
       "4  data\\MRI\\002_S_4225\\Accelerated_Sagittal_MPRAG...  "
      ]
     },
     "execution_count": 30,
     "metadata": {},
     "output_type": "execute_result"
    }
   ],
   "source": [
    "df4.head()"
   ]
  },
  {
   "cell_type": "code",
   "execution_count": 31,
   "id": "9690e46f",
   "metadata": {},
   "outputs": [
    {
     "data": {
      "text/plain": [
       "DIAGNOSIS\n",
       "1.0    124\n",
       "2.0     52\n",
       "3.0     21\n",
       "Name: count, dtype: int64"
      ]
     },
     "execution_count": 31,
     "metadata": {},
     "output_type": "execute_result"
    }
   ],
   "source": [
    "df4.DIAGNOSIS.value_counts()"
   ]
  },
  {
   "cell_type": "code",
   "execution_count": 32,
   "id": "13fde92e",
   "metadata": {},
   "outputs": [],
   "source": [
    "# lưu lại df1 vào file csv\n",
    "df4.to_csv('data/mri.csv', index=False)"
   ]
  },
  {
   "cell_type": "code",
   "execution_count": null,
   "id": "3cecd35e",
   "metadata": {},
   "outputs": [],
   "source": []
  },
  {
   "cell_type": "code",
   "execution_count": null,
   "id": "a21de258",
   "metadata": {},
   "outputs": [],
   "source": []
  },
  {
   "cell_type": "code",
   "execution_count": null,
   "id": "d6b25408",
   "metadata": {},
   "outputs": [],
   "source": []
  },
  {
   "cell_type": "code",
   "execution_count": null,
   "id": "7e9f9c8a",
   "metadata": {},
   "outputs": [],
   "source": []
  },
  {
   "cell_type": "code",
   "execution_count": null,
   "id": "12dce972",
   "metadata": {},
   "outputs": [],
   "source": []
  },
  {
   "cell_type": "code",
   "execution_count": null,
   "id": "92043687",
   "metadata": {},
   "outputs": [],
   "source": []
  },
  {
   "cell_type": "code",
   "execution_count": null,
   "id": "7ca86d36",
   "metadata": {},
   "outputs": [],
   "source": []
  }
 ],
 "metadata": {
  "kernelspec": {
   "display_name": "py310",
   "language": "python",
   "name": "python3"
  },
  "language_info": {
   "codemirror_mode": {
    "name": "ipython",
    "version": 3
   },
   "file_extension": ".py",
   "mimetype": "text/x-python",
   "name": "python",
   "nbconvert_exporter": "python",
   "pygments_lexer": "ipython3",
   "version": "3.10.16"
  }
 },
 "nbformat": 4,
 "nbformat_minor": 5
}

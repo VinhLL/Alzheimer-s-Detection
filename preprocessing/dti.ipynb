{
 "cells": [
  {
   "cell_type": "code",
   "execution_count": 8,
   "id": "d38f8f6f",
   "metadata": {},
   "outputs": [],
   "source": [
    "import os\n",
    "import pandas as pd"
   ]
  },
  {
   "cell_type": "code",
   "execution_count": 9,
   "id": "6583643c",
   "metadata": {},
   "outputs": [
    {
     "data": {
      "text/html": [
       "<div>\n",
       "<style scoped>\n",
       "    .dataframe tbody tr th:only-of-type {\n",
       "        vertical-align: middle;\n",
       "    }\n",
       "\n",
       "    .dataframe tbody tr th {\n",
       "        vertical-align: top;\n",
       "    }\n",
       "\n",
       "    .dataframe thead th {\n",
       "        text-align: right;\n",
       "    }\n",
       "</style>\n",
       "<table border=\"1\" class=\"dataframe\">\n",
       "  <thead>\n",
       "    <tr style=\"text-align: right;\">\n",
       "      <th></th>\n",
       "      <th>subject_id</th>\n",
       "      <th>VISCODE</th>\n",
       "      <th>VISCODE2</th>\n",
       "      <th>EXAMDATE</th>\n",
       "      <th>DIAGNOSIS</th>\n",
       "      <th>image_id</th>\n",
       "      <th>dti_visit</th>\n",
       "      <th>dti_date</th>\n",
       "      <th>dti_description</th>\n",
       "      <th>image_type</th>\n",
       "      <th>days_between_exams_and_dti_scan</th>\n",
       "    </tr>\n",
       "  </thead>\n",
       "  <tbody>\n",
       "    <tr>\n",
       "      <th>0</th>\n",
       "      <td>002_S_0413</td>\n",
       "      <td>init</td>\n",
       "      <td>m132</td>\n",
       "      <td>2017-06-15</td>\n",
       "      <td>1.0</td>\n",
       "      <td>863065</td>\n",
       "      <td>init</td>\n",
       "      <td>2017-06-21</td>\n",
       "      <td>axial dti_fa</td>\n",
       "      <td>Original</td>\n",
       "      <td>6</td>\n",
       "    </tr>\n",
       "    <tr>\n",
       "      <th>1</th>\n",
       "      <td>002_S_1155</td>\n",
       "      <td>init</td>\n",
       "      <td>m126</td>\n",
       "      <td>2017-04-20</td>\n",
       "      <td>2.0</td>\n",
       "      <td>843518</td>\n",
       "      <td>init</td>\n",
       "      <td>2017-04-24</td>\n",
       "      <td>axial dti_fa</td>\n",
       "      <td>Original</td>\n",
       "      <td>4</td>\n",
       "    </tr>\n",
       "    <tr>\n",
       "      <th>2</th>\n",
       "      <td>002_S_1261</td>\n",
       "      <td>init</td>\n",
       "      <td>m120</td>\n",
       "      <td>2017-03-14</td>\n",
       "      <td>2.0</td>\n",
       "      <td>831090</td>\n",
       "      <td>init</td>\n",
       "      <td>2017-03-15</td>\n",
       "      <td>axial dti_ap_phase_fa</td>\n",
       "      <td>Original</td>\n",
       "      <td>1</td>\n",
       "    </tr>\n",
       "    <tr>\n",
       "      <th>3</th>\n",
       "      <td>002_S_1280</td>\n",
       "      <td>init</td>\n",
       "      <td>m120</td>\n",
       "      <td>2017-03-02</td>\n",
       "      <td>1.0</td>\n",
       "      <td>829305</td>\n",
       "      <td>init</td>\n",
       "      <td>2017-03-13</td>\n",
       "      <td>axial dti_fa</td>\n",
       "      <td>Original</td>\n",
       "      <td>11</td>\n",
       "    </tr>\n",
       "    <tr>\n",
       "      <th>4</th>\n",
       "      <td>002_S_1280</td>\n",
       "      <td>init</td>\n",
       "      <td>m120</td>\n",
       "      <td>2017-03-02</td>\n",
       "      <td>1.0</td>\n",
       "      <td>829309</td>\n",
       "      <td>init</td>\n",
       "      <td>2017-03-13</td>\n",
       "      <td>axial dti(phaseap)_fa</td>\n",
       "      <td>Original</td>\n",
       "      <td>11</td>\n",
       "    </tr>\n",
       "  </tbody>\n",
       "</table>\n",
       "</div>"
      ],
      "text/plain": [
       "   subject_id VISCODE VISCODE2    EXAMDATE  DIAGNOSIS  image_id dti_visit  \\\n",
       "0  002_S_0413    init     m132  2017-06-15        1.0    863065      init   \n",
       "1  002_S_1155    init     m126  2017-04-20        2.0    843518      init   \n",
       "2  002_S_1261    init     m120  2017-03-14        2.0    831090      init   \n",
       "3  002_S_1280    init     m120  2017-03-02        1.0    829305      init   \n",
       "4  002_S_1280    init     m120  2017-03-02        1.0    829309      init   \n",
       "\n",
       "     dti_date        dti_description image_type  \\\n",
       "0  2017-06-21           axial dti_fa   Original   \n",
       "1  2017-04-24           axial dti_fa   Original   \n",
       "2  2017-03-15  axial dti_ap_phase_fa   Original   \n",
       "3  2017-03-13           axial dti_fa   Original   \n",
       "4  2017-03-13  axial dti(phaseap)_fa   Original   \n",
       "\n",
       "   days_between_exams_and_dti_scan  \n",
       "0                                6  \n",
       "1                                4  \n",
       "2                                1  \n",
       "3                               11  \n",
       "4                               11  "
      ]
     },
     "execution_count": 9,
     "metadata": {},
     "output_type": "execute_result"
    }
   ],
   "source": [
    "df = pd.read_csv('data\\c4_cognitive_score_dti.csv')\n",
    "df.head()"
   ]
  },
  {
   "cell_type": "code",
   "execution_count": 10,
   "id": "a3adfe9c",
   "metadata": {},
   "outputs": [
    {
     "data": {
      "text/plain": [
       "dti_description\n",
       "axial dti_fa                        245\n",
       "axial mb dti_fa                      16\n",
       "axial mb dti_colfa                   13\n",
       "axial dti phase direction p>a_fa      7\n",
       "axial mb dti phase_nofatsata          7\n",
       "axial dti repeat_fa                   2\n",
       "axial dti_ap_phase_fa                 1\n",
       "axial dti(phaseap)_fa                 1\n",
       "ep2d_dki1_fa                          1\n",
       "Name: count, dtype: int64"
      ]
     },
     "execution_count": 10,
     "metadata": {},
     "output_type": "execute_result"
    }
   ],
   "source": [
    "df['dti_description'].value_counts()"
   ]
  },
  {
   "cell_type": "code",
   "execution_count": 11,
   "id": "e79d662d",
   "metadata": {},
   "outputs": [
    {
     "name": "stdout",
     "output_type": "stream",
     "text": [
      "<class 'pandas.core.frame.DataFrame'>\n",
      "RangeIndex: 293 entries, 0 to 292\n",
      "Data columns (total 11 columns):\n",
      " #   Column                           Non-Null Count  Dtype  \n",
      "---  ------                           --------------  -----  \n",
      " 0   subject_id                       293 non-null    object \n",
      " 1   VISCODE                          293 non-null    object \n",
      " 2   VISCODE2                         293 non-null    object \n",
      " 3   EXAMDATE                         293 non-null    object \n",
      " 4   DIAGNOSIS                        293 non-null    float64\n",
      " 5   image_id                         293 non-null    int64  \n",
      " 6   dti_visit                        293 non-null    object \n",
      " 7   dti_date                         293 non-null    object \n",
      " 8   dti_description                  293 non-null    object \n",
      " 9   image_type                       293 non-null    object \n",
      " 10  days_between_exams_and_dti_scan  293 non-null    int64  \n",
      "dtypes: float64(1), int64(2), object(8)\n",
      "memory usage: 25.3+ KB\n"
     ]
    }
   ],
   "source": [
    "df.info()"
   ]
  },
  {
   "cell_type": "code",
   "execution_count": null,
   "id": "4e488336",
   "metadata": {},
   "outputs": [],
   "source": []
  },
  {
   "cell_type": "code",
   "execution_count": 12,
   "id": "3e79ce4e",
   "metadata": {},
   "outputs": [],
   "source": [
    "df10 = pd.read_csv('data\\c4_demographics.csv')"
   ]
  },
  {
   "cell_type": "code",
   "execution_count": 13,
   "id": "305c5a53",
   "metadata": {},
   "outputs": [
    {
     "data": {
      "text/html": [
       "<div>\n",
       "<style scoped>\n",
       "    .dataframe tbody tr th:only-of-type {\n",
       "        vertical-align: middle;\n",
       "    }\n",
       "\n",
       "    .dataframe tbody tr th {\n",
       "        vertical-align: top;\n",
       "    }\n",
       "\n",
       "    .dataframe thead th {\n",
       "        text-align: right;\n",
       "    }\n",
       "</style>\n",
       "<table border=\"1\" class=\"dataframe\">\n",
       "  <thead>\n",
       "    <tr style=\"text-align: right;\">\n",
       "      <th></th>\n",
       "      <th>PTID</th>\n",
       "      <th>PTGENDER</th>\n",
       "      <th>PTDOBYY</th>\n",
       "      <th>PTEDUCAT</th>\n",
       "    </tr>\n",
       "  </thead>\n",
       "  <tbody>\n",
       "    <tr>\n",
       "      <th>0</th>\n",
       "      <td>002_S_0413</td>\n",
       "      <td>2.0</td>\n",
       "      <td>1929.0</td>\n",
       "      <td>16.0</td>\n",
       "    </tr>\n",
       "    <tr>\n",
       "      <th>1</th>\n",
       "      <td>002_S_0413</td>\n",
       "      <td>2.0</td>\n",
       "      <td>1929.0</td>\n",
       "      <td>18.0</td>\n",
       "    </tr>\n",
       "    <tr>\n",
       "      <th>2</th>\n",
       "      <td>002_S_0413</td>\n",
       "      <td>2.0</td>\n",
       "      <td>1929.0</td>\n",
       "      <td>16.0</td>\n",
       "    </tr>\n",
       "    <tr>\n",
       "      <th>3</th>\n",
       "      <td>002_S_1155</td>\n",
       "      <td>1.0</td>\n",
       "      <td>1949.0</td>\n",
       "      <td>20.0</td>\n",
       "    </tr>\n",
       "    <tr>\n",
       "      <th>4</th>\n",
       "      <td>002_S_1155</td>\n",
       "      <td>1.0</td>\n",
       "      <td>1949.0</td>\n",
       "      <td>20.0</td>\n",
       "    </tr>\n",
       "  </tbody>\n",
       "</table>\n",
       "</div>"
      ],
      "text/plain": [
       "         PTID  PTGENDER  PTDOBYY  PTEDUCAT\n",
       "0  002_S_0413       2.0   1929.0      16.0\n",
       "1  002_S_0413       2.0   1929.0      18.0\n",
       "2  002_S_0413       2.0   1929.0      16.0\n",
       "3  002_S_1155       1.0   1949.0      20.0\n",
       "4  002_S_1155       1.0   1949.0      20.0"
      ]
     },
     "execution_count": 13,
     "metadata": {},
     "output_type": "execute_result"
    }
   ],
   "source": [
    "df10.head()"
   ]
  },
  {
   "cell_type": "code",
   "execution_count": 14,
   "id": "6e6c0124",
   "metadata": {},
   "outputs": [],
   "source": [
    "df1 = df10.drop_duplicates(keep='first')"
   ]
  },
  {
   "cell_type": "code",
   "execution_count": 15,
   "id": "3f055f32",
   "metadata": {},
   "outputs": [
    {
     "name": "stdout",
     "output_type": "stream",
     "text": [
      "{'002_S_0413': 2.0, '002_S_1155': 1.0, '002_S_1261': 2.0, '002_S_1280': 2.0, '002_S_4225': 1.0, '002_S_4473': 1.0, '002_S_4654': 2.0, '002_S_4799': 1.0, '002_S_5178': 1.0, '002_S_6007': 2.0, '002_S_6009': 1.0, '002_S_6030': 2.0, '003_S_4288': 2.0, '012_S_4094': 2.0, '012_S_4643': 2.0, '012_S_6073': 1.0, '012_S_6760': 1.0, '016_S_4902': 2.0, '016_S_4951': 2.0, '016_S_4952': 2.0, '016_S_5057': 1.0, '016_S_6381': 1.0, '016_S_6708': 1.0, '016_S_6771': 1.0, '016_S_6773': 2.0, '016_S_6789': 2.0, '016_S_6790': 1.0, '016_S_6800': 2.0, '016_S_6802': 2.0, '016_S_6809': 1.0, '016_S_6816': 2.0, '016_S_6834': 2.0, '016_S_6836': 2.0, '016_S_6839': 2.0, '016_S_6853': 2.0, '016_S_6892': 2.0, '016_S_6904': 1.0, '016_S_6926': 2.0, '016_S_6931': 1.0, '016_S_6934': 1.0, '016_S_6939': 1.0, '016_S_6941': 1.0, '016_S_6943': 1.0, '016_S_6949': 2.0, '016_S_6971': 1.0, '016_S_7002': 1.0, '016_S_7039': 2.0, '022_S_2263': 1.0, '022_S_5004': 1.0, '023_S_4115': 1.0, '023_S_4164': 1.0, '023_S_4448': 2.0, '023_S_6334': 1.0, '023_S_6346': 1.0, '023_S_6369': 1.0, '023_S_6374': 2.0, '023_S_6399': 2.0, '023_S_6400': 2.0, '023_S_6535': 1.0, '023_S_6547': 2.0, '023_S_6702': 2.0, '024_S_2239': 2.0, '024_S_4084': 2.0, '024_S_4674': 1.0, '024_S_5290': 2.0, '024_S_6005': 2.0, '024_S_6033': 2.0, '024_S_6184': 2.0, '024_S_6202': 2.0, '024_S_6385': 2.0, '036_S_4389': 1.0, '036_S_4430': 1.0, '036_S_4538': 2.0, '036_S_4715': 2.0, '036_S_6088': 2.0, '036_S_6099': 1.0, '036_S_6134': 2.0, '036_S_6179': 1.0, '036_S_6189': 2.0, '041_S_0679': 1.0, '041_S_1418': 1.0, '041_S_4037': 1.0, '041_S_4051': 1.0, '041_S_4143': 2.0, '041_S_4200': 2.0, '041_S_4271': 1.0, '041_S_4427': 1.0, '041_S_4513': 1.0, '041_S_4874': 2.0, '041_S_4876': 1.0, '041_S_5078': 2.0, '041_S_5097': 1.0, '041_S_5100': 1.0, '041_S_5141': 1.0, '041_S_5253': 1.0, '041_S_6136': 1.0, '041_S_6159': 1.0, '041_S_6192': 2.0, '041_S_6226': 2.0, '041_S_6292': 1.0, '041_S_6314': 1.0, '041_S_6354': 2.0, '041_S_6401': 1.0, '041_S_6731': 2.0, '041_S_6785': 2.0, '041_S_6786': 2.0, '041_S_6801': 2.0, '053_S_4578': 2.0, '053_S_4813': 1.0, '053_S_5296': 1.0, '053_S_6861': 1.0, '053_S_7086': 1.0, '053_S_7109': 2.0, '068_S_4340': 2.0, '094_S_2201': 2.0, '094_S_2238': 1.0, '094_S_4649': 1.0, '094_S_6250': 2.0, '094_S_6269': 2.0, '094_S_6275': 2.0, '094_S_6278': 2.0, '094_S_6417': 1.0, '094_S_6419': 1.0, '094_S_6440': 2.0, '094_S_6468': 1.0, '094_S_6736': 1.0, '114_S_6113': 1.0, '114_S_6347': 1.0, '114_S_6429': 2.0, '114_S_6462': 1.0, '114_S_6524': 2.0, '114_S_6597': 2.0, '114_S_6917': 2.0, '116_S_6133': 2.0, '137_S_4351': 2.0, '137_S_4482': 2.0, '137_S_4520': 1.0, '137_S_4536': 2.0, '137_S_4631': 1.0, '137_S_4862': 1.0, '137_S_6557': 1.0, '137_S_6576': 2.0, '137_S_6654': 1.0, '137_S_6659': 2.0, '137_S_6685': 1.0, '137_S_6693': 1.0, '137_S_6794': 2.0, '137_S_6812': 2.0, '137_S_6826': 1.0, '137_S_6880': 1.0, '137_S_6883': 2.0, '137_S_6906': 2.0, '137_S_6919': 1.0, '153_S_6755': 1.0, '941_S_4036': 1.0, '941_S_4100': 2.0, '941_S_4187': 1.0, '941_S_4292': 1.0, '941_S_4365': 1.0, '941_S_5193': 2.0, '941_S_6017': 1.0, '941_S_6044': 2.0, '941_S_6052': 2.0, '941_S_6054': 2.0, '941_S_6058': 2.0, '941_S_6068': 1.0, '941_S_6080': 2.0, '941_S_6094': 2.0}\n"
     ]
    }
   ],
   "source": [
    "PTGENDER = {}\n",
    "for index, row in df10.iterrows():\n",
    "    # lấy giá trị của cột subject_id\n",
    "    subject_id = row['PTID']\n",
    "    PTGENDER[subject_id] = row['PTGENDER']\n",
    "print(PTGENDER)"
   ]
  },
  {
   "cell_type": "code",
   "execution_count": 16,
   "id": "008b030a",
   "metadata": {},
   "outputs": [
    {
     "name": "stdout",
     "output_type": "stream",
     "text": [
      "{'002_S_0413': 1929.0, '002_S_1155': 1949.0, '002_S_1261': 1935.0, '002_S_1280': 1936.0, '002_S_4225': 1941.0, '002_S_4473': 1937.0, '002_S_4654': 1936.0, '002_S_4799': 1944.0, '002_S_5178': 1944.0, '002_S_6007': 1940.0, '002_S_6009': 1949.0, '002_S_6030': 1952.0, '003_S_4288': 1939.0, '012_S_4094': 1951.0, '012_S_4643': 1947.0, '012_S_6073': 1954.0, '012_S_6760': 1948.0, '016_S_4902': 1937.0, '016_S_4951': 1940.0, '016_S_4952': 1943.0, '016_S_5057': 1937.0, '016_S_6381': 1945.0, '016_S_6708': 1963.0, '016_S_6771': 1952.0, '016_S_6773': 1964.0, '016_S_6789': 1940.0, '016_S_6790': 1941.0, '016_S_6800': 1932.0, '016_S_6802': 1956.0, '016_S_6809': 1943.0, '016_S_6816': 1944.0, '016_S_6834': 1937.0, '016_S_6836': 1944.0, '016_S_6839': 1949.0, '016_S_6853': 1953.0, '016_S_6892': 1955.0, '016_S_6904': 1954.0, '016_S_6926': 1942.0, '016_S_6931': 1948.0, '016_S_6934': 1954.0, '016_S_6939': 1947.0, '016_S_6941': 1959.0, '016_S_6943': 1946.0, '016_S_6949': 1951.0, '016_S_6971': 1948.0, '016_S_7002': 1960.0, '016_S_7039': 1960.0, '022_S_2263': 1948.0, '022_S_5004': 1948.0, '023_S_4115': 1944.0, '023_S_4164': 1938.0, '023_S_4448': 1948.0, '023_S_6334': 1945.0, '023_S_6346': 1951.0, '023_S_6369': 1941.0, '023_S_6374': 1954.0, '023_S_6399': 1954.0, '023_S_6400': 1954.0, '023_S_6535': 1940.0, '023_S_6547': 1951.0, '023_S_6702': 1954.0, '024_S_2239': 1937.0, '024_S_4084': 1943.0, '024_S_4674': 1934.0, '024_S_5290': 1946.0, '024_S_6005': 1949.0, '024_S_6033': 1959.0, '024_S_6184': 1947.0, '024_S_6202': 1948.0, '024_S_6385': 1951.0, '036_S_4389': 1930.0, '036_S_4430': 1931.0, '036_S_4538': 1933.0, '036_S_4715': 1955.0, '036_S_6088': 1948.0, '036_S_6099': 1935.0, '036_S_6134': 1955.0, '036_S_6179': 1938.0, '036_S_6189': 1948.0, '041_S_0679': 1943.0, '041_S_1418': 1926.0, '041_S_4037': 1935.0, '041_S_4051': 1940.0, '041_S_4143': 1947.0, '041_S_4200': 1941.0, '041_S_4271': 1949.0, '041_S_4427': 1940.0, '041_S_4513': 1951.0, '041_S_4874': 1954.0, '041_S_4876': 1938.0, '041_S_5078': 1945.0, '041_S_5097': 1945.0, '041_S_5100': 1941.0, '041_S_5141': 1936.0, '041_S_5253': 1945.0, '041_S_6136': 1956.0, '041_S_6159': 1941.0, '041_S_6192': 1934.0, '041_S_6226': 1952.0, '041_S_6292': 1941.0, '041_S_6314': 1944.0, '041_S_6354': 1947.0, '041_S_6401': 1942.0, '041_S_6731': 1952.0, '041_S_6785': 1954.0, '041_S_6786': 1932.0, '041_S_6801': 1958.0, '053_S_4578': 1942.0, '053_S_4813': 1944.0, '053_S_5296': 1944.0, '053_S_6861': 1953.0, '053_S_7086': 1961.0, '053_S_7109': 1946.0, '068_S_4340': 1945.0, '094_S_2201': 1947.0, '094_S_2238': 1942.0, '094_S_4649': 1946.0, '094_S_6250': 1946.0, '094_S_6269': 1947.0, '094_S_6275': 1959.0, '094_S_6278': 1937.0, '094_S_6417': 1940.0, '094_S_6419': 1942.0, '094_S_6440': 1950.0, '094_S_6468': 1949.0, '094_S_6736': 1937.0, '114_S_6113': 1941.0, '114_S_6347': 1932.0, '114_S_6429': 1949.0, '114_S_6462': 1948.0, '114_S_6524': 1952.0, '114_S_6597': 1955.0, '114_S_6917': 1956.0, '116_S_6133': 1948.0, '137_S_4351': 1944.0, '137_S_4482': 1934.0, '137_S_4520': 1944.0, '137_S_4536': 1934.0, '137_S_4631': 1942.0, '137_S_4862': 1936.0, '137_S_6557': 1942.0, '137_S_6576': 1946.0, '137_S_6654': 1946.0, '137_S_6659': 1939.0, '137_S_6685': 1948.0, '137_S_6693': 1944.0, '137_S_6794': 1952.0, '137_S_6812': 1946.0, '137_S_6826': 1951.0, '137_S_6880': 1954.0, '137_S_6883': 1956.0, '137_S_6906': 1965.0, '137_S_6919': 1942.0, '153_S_6755': 1951.0, '941_S_4036': 1937.0, '941_S_4100': 1932.0, '941_S_4187': 1949.0, '941_S_4292': 1940.0, '941_S_4365': 1931.0, '941_S_5193': 1940.0, '941_S_6017': 1940.0, '941_S_6044': 1942.0, '941_S_6052': 1929.0, '941_S_6054': 1938.0, '941_S_6058': 1949.0, '941_S_6068': 1941.0, '941_S_6080': 1940.0, '941_S_6094': 1948.0}\n"
     ]
    }
   ],
   "source": [
    "PTDOBYY = {}\n",
    "for index, row in df10.iterrows():\n",
    "    # lấy giá trị của cột subject_id\n",
    "    subject_id = row['PTID']\n",
    "    PTDOBYY[subject_id] = row['PTDOBYY']\n",
    "print(PTDOBYY)"
   ]
  },
  {
   "cell_type": "code",
   "execution_count": 17,
   "id": "efe4aae8",
   "metadata": {},
   "outputs": [],
   "source": [
    "df[\"PTDOBYY\"] = None\n",
    "df[\"PTGENDER\"] = None"
   ]
  },
  {
   "cell_type": "code",
   "execution_count": 18,
   "id": "538fb9c8",
   "metadata": {},
   "outputs": [
    {
     "data": {
      "text/html": [
       "<div>\n",
       "<style scoped>\n",
       "    .dataframe tbody tr th:only-of-type {\n",
       "        vertical-align: middle;\n",
       "    }\n",
       "\n",
       "    .dataframe tbody tr th {\n",
       "        vertical-align: top;\n",
       "    }\n",
       "\n",
       "    .dataframe thead th {\n",
       "        text-align: right;\n",
       "    }\n",
       "</style>\n",
       "<table border=\"1\" class=\"dataframe\">\n",
       "  <thead>\n",
       "    <tr style=\"text-align: right;\">\n",
       "      <th></th>\n",
       "      <th>subject_id</th>\n",
       "      <th>VISCODE</th>\n",
       "      <th>VISCODE2</th>\n",
       "      <th>EXAMDATE</th>\n",
       "      <th>DIAGNOSIS</th>\n",
       "      <th>image_id</th>\n",
       "      <th>dti_visit</th>\n",
       "      <th>dti_date</th>\n",
       "      <th>dti_description</th>\n",
       "      <th>image_type</th>\n",
       "      <th>days_between_exams_and_dti_scan</th>\n",
       "      <th>PTDOBYY</th>\n",
       "      <th>PTGENDER</th>\n",
       "    </tr>\n",
       "  </thead>\n",
       "  <tbody>\n",
       "    <tr>\n",
       "      <th>0</th>\n",
       "      <td>002_S_0413</td>\n",
       "      <td>init</td>\n",
       "      <td>m132</td>\n",
       "      <td>2017-06-15</td>\n",
       "      <td>1.0</td>\n",
       "      <td>863065</td>\n",
       "      <td>init</td>\n",
       "      <td>2017-06-21</td>\n",
       "      <td>axial dti_fa</td>\n",
       "      <td>Original</td>\n",
       "      <td>6</td>\n",
       "      <td>None</td>\n",
       "      <td>2.0</td>\n",
       "    </tr>\n",
       "    <tr>\n",
       "      <th>1</th>\n",
       "      <td>002_S_1155</td>\n",
       "      <td>init</td>\n",
       "      <td>m126</td>\n",
       "      <td>2017-04-20</td>\n",
       "      <td>2.0</td>\n",
       "      <td>843518</td>\n",
       "      <td>init</td>\n",
       "      <td>2017-04-24</td>\n",
       "      <td>axial dti_fa</td>\n",
       "      <td>Original</td>\n",
       "      <td>4</td>\n",
       "      <td>None</td>\n",
       "      <td>1.0</td>\n",
       "    </tr>\n",
       "    <tr>\n",
       "      <th>2</th>\n",
       "      <td>002_S_1261</td>\n",
       "      <td>init</td>\n",
       "      <td>m120</td>\n",
       "      <td>2017-03-14</td>\n",
       "      <td>2.0</td>\n",
       "      <td>831090</td>\n",
       "      <td>init</td>\n",
       "      <td>2017-03-15</td>\n",
       "      <td>axial dti_ap_phase_fa</td>\n",
       "      <td>Original</td>\n",
       "      <td>1</td>\n",
       "      <td>None</td>\n",
       "      <td>2.0</td>\n",
       "    </tr>\n",
       "    <tr>\n",
       "      <th>3</th>\n",
       "      <td>002_S_1280</td>\n",
       "      <td>init</td>\n",
       "      <td>m120</td>\n",
       "      <td>2017-03-02</td>\n",
       "      <td>1.0</td>\n",
       "      <td>829305</td>\n",
       "      <td>init</td>\n",
       "      <td>2017-03-13</td>\n",
       "      <td>axial dti_fa</td>\n",
       "      <td>Original</td>\n",
       "      <td>11</td>\n",
       "      <td>None</td>\n",
       "      <td>2.0</td>\n",
       "    </tr>\n",
       "    <tr>\n",
       "      <th>4</th>\n",
       "      <td>002_S_1280</td>\n",
       "      <td>init</td>\n",
       "      <td>m120</td>\n",
       "      <td>2017-03-02</td>\n",
       "      <td>1.0</td>\n",
       "      <td>829309</td>\n",
       "      <td>init</td>\n",
       "      <td>2017-03-13</td>\n",
       "      <td>axial dti(phaseap)_fa</td>\n",
       "      <td>Original</td>\n",
       "      <td>11</td>\n",
       "      <td>None</td>\n",
       "      <td>2.0</td>\n",
       "    </tr>\n",
       "  </tbody>\n",
       "</table>\n",
       "</div>"
      ],
      "text/plain": [
       "   subject_id VISCODE VISCODE2    EXAMDATE  DIAGNOSIS  image_id dti_visit  \\\n",
       "0  002_S_0413    init     m132  2017-06-15        1.0    863065      init   \n",
       "1  002_S_1155    init     m126  2017-04-20        2.0    843518      init   \n",
       "2  002_S_1261    init     m120  2017-03-14        2.0    831090      init   \n",
       "3  002_S_1280    init     m120  2017-03-02        1.0    829305      init   \n",
       "4  002_S_1280    init     m120  2017-03-02        1.0    829309      init   \n",
       "\n",
       "     dti_date        dti_description image_type  \\\n",
       "0  2017-06-21           axial dti_fa   Original   \n",
       "1  2017-04-24           axial dti_fa   Original   \n",
       "2  2017-03-15  axial dti_ap_phase_fa   Original   \n",
       "3  2017-03-13           axial dti_fa   Original   \n",
       "4  2017-03-13  axial dti(phaseap)_fa   Original   \n",
       "\n",
       "   days_between_exams_and_dti_scan PTDOBYY PTGENDER  \n",
       "0                                6    None      2.0  \n",
       "1                                4    None      1.0  \n",
       "2                                1    None      2.0  \n",
       "3                               11    None      2.0  \n",
       "4                               11    None      2.0  "
      ]
     },
     "execution_count": 18,
     "metadata": {},
     "output_type": "execute_result"
    }
   ],
   "source": [
    "for k, v in PTGENDER.items():\n",
    "    df.loc[df['subject_id'] == k, 'PTGENDER'] = v\n",
    "df.head()"
   ]
  },
  {
   "cell_type": "code",
   "execution_count": 19,
   "id": "08c425d5",
   "metadata": {},
   "outputs": [
    {
     "data": {
      "text/html": [
       "<div>\n",
       "<style scoped>\n",
       "    .dataframe tbody tr th:only-of-type {\n",
       "        vertical-align: middle;\n",
       "    }\n",
       "\n",
       "    .dataframe tbody tr th {\n",
       "        vertical-align: top;\n",
       "    }\n",
       "\n",
       "    .dataframe thead th {\n",
       "        text-align: right;\n",
       "    }\n",
       "</style>\n",
       "<table border=\"1\" class=\"dataframe\">\n",
       "  <thead>\n",
       "    <tr style=\"text-align: right;\">\n",
       "      <th></th>\n",
       "      <th>subject_id</th>\n",
       "      <th>VISCODE</th>\n",
       "      <th>VISCODE2</th>\n",
       "      <th>EXAMDATE</th>\n",
       "      <th>DIAGNOSIS</th>\n",
       "      <th>image_id</th>\n",
       "      <th>dti_visit</th>\n",
       "      <th>dti_date</th>\n",
       "      <th>dti_description</th>\n",
       "      <th>image_type</th>\n",
       "      <th>days_between_exams_and_dti_scan</th>\n",
       "      <th>PTDOBYY</th>\n",
       "      <th>PTGENDER</th>\n",
       "    </tr>\n",
       "  </thead>\n",
       "  <tbody>\n",
       "    <tr>\n",
       "      <th>0</th>\n",
       "      <td>002_S_0413</td>\n",
       "      <td>init</td>\n",
       "      <td>m132</td>\n",
       "      <td>2017-06-15</td>\n",
       "      <td>1.0</td>\n",
       "      <td>863065</td>\n",
       "      <td>init</td>\n",
       "      <td>2017-06-21</td>\n",
       "      <td>axial dti_fa</td>\n",
       "      <td>Original</td>\n",
       "      <td>6</td>\n",
       "      <td>1929.0</td>\n",
       "      <td>2.0</td>\n",
       "    </tr>\n",
       "    <tr>\n",
       "      <th>1</th>\n",
       "      <td>002_S_1155</td>\n",
       "      <td>init</td>\n",
       "      <td>m126</td>\n",
       "      <td>2017-04-20</td>\n",
       "      <td>2.0</td>\n",
       "      <td>843518</td>\n",
       "      <td>init</td>\n",
       "      <td>2017-04-24</td>\n",
       "      <td>axial dti_fa</td>\n",
       "      <td>Original</td>\n",
       "      <td>4</td>\n",
       "      <td>1949.0</td>\n",
       "      <td>1.0</td>\n",
       "    </tr>\n",
       "    <tr>\n",
       "      <th>2</th>\n",
       "      <td>002_S_1261</td>\n",
       "      <td>init</td>\n",
       "      <td>m120</td>\n",
       "      <td>2017-03-14</td>\n",
       "      <td>2.0</td>\n",
       "      <td>831090</td>\n",
       "      <td>init</td>\n",
       "      <td>2017-03-15</td>\n",
       "      <td>axial dti_ap_phase_fa</td>\n",
       "      <td>Original</td>\n",
       "      <td>1</td>\n",
       "      <td>1935.0</td>\n",
       "      <td>2.0</td>\n",
       "    </tr>\n",
       "    <tr>\n",
       "      <th>3</th>\n",
       "      <td>002_S_1280</td>\n",
       "      <td>init</td>\n",
       "      <td>m120</td>\n",
       "      <td>2017-03-02</td>\n",
       "      <td>1.0</td>\n",
       "      <td>829305</td>\n",
       "      <td>init</td>\n",
       "      <td>2017-03-13</td>\n",
       "      <td>axial dti_fa</td>\n",
       "      <td>Original</td>\n",
       "      <td>11</td>\n",
       "      <td>1936.0</td>\n",
       "      <td>2.0</td>\n",
       "    </tr>\n",
       "    <tr>\n",
       "      <th>4</th>\n",
       "      <td>002_S_1280</td>\n",
       "      <td>init</td>\n",
       "      <td>m120</td>\n",
       "      <td>2017-03-02</td>\n",
       "      <td>1.0</td>\n",
       "      <td>829309</td>\n",
       "      <td>init</td>\n",
       "      <td>2017-03-13</td>\n",
       "      <td>axial dti(phaseap)_fa</td>\n",
       "      <td>Original</td>\n",
       "      <td>11</td>\n",
       "      <td>1936.0</td>\n",
       "      <td>2.0</td>\n",
       "    </tr>\n",
       "  </tbody>\n",
       "</table>\n",
       "</div>"
      ],
      "text/plain": [
       "   subject_id VISCODE VISCODE2    EXAMDATE  DIAGNOSIS  image_id dti_visit  \\\n",
       "0  002_S_0413    init     m132  2017-06-15        1.0    863065      init   \n",
       "1  002_S_1155    init     m126  2017-04-20        2.0    843518      init   \n",
       "2  002_S_1261    init     m120  2017-03-14        2.0    831090      init   \n",
       "3  002_S_1280    init     m120  2017-03-02        1.0    829305      init   \n",
       "4  002_S_1280    init     m120  2017-03-02        1.0    829309      init   \n",
       "\n",
       "     dti_date        dti_description image_type  \\\n",
       "0  2017-06-21           axial dti_fa   Original   \n",
       "1  2017-04-24           axial dti_fa   Original   \n",
       "2  2017-03-15  axial dti_ap_phase_fa   Original   \n",
       "3  2017-03-13           axial dti_fa   Original   \n",
       "4  2017-03-13  axial dti(phaseap)_fa   Original   \n",
       "\n",
       "   days_between_exams_and_dti_scan PTDOBYY PTGENDER  \n",
       "0                                6  1929.0      2.0  \n",
       "1                                4  1949.0      1.0  \n",
       "2                                1  1935.0      2.0  \n",
       "3                               11  1936.0      2.0  \n",
       "4                               11  1936.0      2.0  "
      ]
     },
     "execution_count": 19,
     "metadata": {},
     "output_type": "execute_result"
    }
   ],
   "source": [
    "for k, v in PTDOBYY.items():\n",
    "    df.loc[df['subject_id'] == k, 'PTDOBYY'] = v\n",
    "df.head()"
   ]
  },
  {
   "cell_type": "code",
   "execution_count": 20,
   "id": "1d622ff9",
   "metadata": {},
   "outputs": [
    {
     "name": "stdout",
     "output_type": "stream",
     "text": [
      "<class 'pandas.core.frame.DataFrame'>\n",
      "RangeIndex: 293 entries, 0 to 292\n",
      "Data columns (total 13 columns):\n",
      " #   Column                           Non-Null Count  Dtype  \n",
      "---  ------                           --------------  -----  \n",
      " 0   subject_id                       293 non-null    object \n",
      " 1   VISCODE                          293 non-null    object \n",
      " 2   VISCODE2                         293 non-null    object \n",
      " 3   EXAMDATE                         293 non-null    object \n",
      " 4   DIAGNOSIS                        293 non-null    float64\n",
      " 5   image_id                         293 non-null    int64  \n",
      " 6   dti_visit                        293 non-null    object \n",
      " 7   dti_date                         293 non-null    object \n",
      " 8   dti_description                  293 non-null    object \n",
      " 9   image_type                       293 non-null    object \n",
      " 10  days_between_exams_and_dti_scan  293 non-null    int64  \n",
      " 11  PTDOBYY                          293 non-null    object \n",
      " 12  PTGENDER                         293 non-null    object \n",
      "dtypes: float64(1), int64(2), object(10)\n",
      "memory usage: 29.9+ KB\n"
     ]
    }
   ],
   "source": [
    "df.info()"
   ]
  },
  {
   "cell_type": "code",
   "execution_count": 21,
   "id": "bc31bc0b",
   "metadata": {},
   "outputs": [
    {
     "data": {
      "text/html": [
       "<div>\n",
       "<style scoped>\n",
       "    .dataframe tbody tr th:only-of-type {\n",
       "        vertical-align: middle;\n",
       "    }\n",
       "\n",
       "    .dataframe tbody tr th {\n",
       "        vertical-align: top;\n",
       "    }\n",
       "\n",
       "    .dataframe thead th {\n",
       "        text-align: right;\n",
       "    }\n",
       "</style>\n",
       "<table border=\"1\" class=\"dataframe\">\n",
       "  <thead>\n",
       "    <tr style=\"text-align: right;\">\n",
       "      <th></th>\n",
       "      <th>subject_id</th>\n",
       "      <th>VISCODE</th>\n",
       "      <th>VISCODE2</th>\n",
       "      <th>EXAMDATE</th>\n",
       "      <th>DIAGNOSIS</th>\n",
       "      <th>image_id</th>\n",
       "      <th>dti_visit</th>\n",
       "      <th>dti_date</th>\n",
       "      <th>dti_description</th>\n",
       "      <th>image_type</th>\n",
       "      <th>days_between_exams_and_dti_scan</th>\n",
       "      <th>PTDOBYY</th>\n",
       "      <th>PTGENDER</th>\n",
       "    </tr>\n",
       "  </thead>\n",
       "  <tbody>\n",
       "    <tr>\n",
       "      <th>0</th>\n",
       "      <td>002_S_0413</td>\n",
       "      <td>init</td>\n",
       "      <td>m132</td>\n",
       "      <td>2017-06-15</td>\n",
       "      <td>1.0</td>\n",
       "      <td>863065</td>\n",
       "      <td>init</td>\n",
       "      <td>2017-06-21</td>\n",
       "      <td>axial dti_fa</td>\n",
       "      <td>Original</td>\n",
       "      <td>6</td>\n",
       "      <td>1929.0</td>\n",
       "      <td>2.0</td>\n",
       "    </tr>\n",
       "    <tr>\n",
       "      <th>1</th>\n",
       "      <td>002_S_1155</td>\n",
       "      <td>init</td>\n",
       "      <td>m126</td>\n",
       "      <td>2017-04-20</td>\n",
       "      <td>2.0</td>\n",
       "      <td>843518</td>\n",
       "      <td>init</td>\n",
       "      <td>2017-04-24</td>\n",
       "      <td>axial dti_fa</td>\n",
       "      <td>Original</td>\n",
       "      <td>4</td>\n",
       "      <td>1949.0</td>\n",
       "      <td>1.0</td>\n",
       "    </tr>\n",
       "    <tr>\n",
       "      <th>2</th>\n",
       "      <td>002_S_1261</td>\n",
       "      <td>init</td>\n",
       "      <td>m120</td>\n",
       "      <td>2017-03-14</td>\n",
       "      <td>2.0</td>\n",
       "      <td>831090</td>\n",
       "      <td>init</td>\n",
       "      <td>2017-03-15</td>\n",
       "      <td>axial dti_ap_phase_fa</td>\n",
       "      <td>Original</td>\n",
       "      <td>1</td>\n",
       "      <td>1935.0</td>\n",
       "      <td>2.0</td>\n",
       "    </tr>\n",
       "    <tr>\n",
       "      <th>3</th>\n",
       "      <td>002_S_1280</td>\n",
       "      <td>init</td>\n",
       "      <td>m120</td>\n",
       "      <td>2017-03-02</td>\n",
       "      <td>1.0</td>\n",
       "      <td>829305</td>\n",
       "      <td>init</td>\n",
       "      <td>2017-03-13</td>\n",
       "      <td>axial dti_fa</td>\n",
       "      <td>Original</td>\n",
       "      <td>11</td>\n",
       "      <td>1936.0</td>\n",
       "      <td>2.0</td>\n",
       "    </tr>\n",
       "    <tr>\n",
       "      <th>4</th>\n",
       "      <td>002_S_1280</td>\n",
       "      <td>init</td>\n",
       "      <td>m120</td>\n",
       "      <td>2017-03-02</td>\n",
       "      <td>1.0</td>\n",
       "      <td>829309</td>\n",
       "      <td>init</td>\n",
       "      <td>2017-03-13</td>\n",
       "      <td>axial dti(phaseap)_fa</td>\n",
       "      <td>Original</td>\n",
       "      <td>11</td>\n",
       "      <td>1936.0</td>\n",
       "      <td>2.0</td>\n",
       "    </tr>\n",
       "  </tbody>\n",
       "</table>\n",
       "</div>"
      ],
      "text/plain": [
       "   subject_id VISCODE VISCODE2    EXAMDATE  DIAGNOSIS  image_id dti_visit  \\\n",
       "0  002_S_0413    init     m132  2017-06-15        1.0    863065      init   \n",
       "1  002_S_1155    init     m126  2017-04-20        2.0    843518      init   \n",
       "2  002_S_1261    init     m120  2017-03-14        2.0    831090      init   \n",
       "3  002_S_1280    init     m120  2017-03-02        1.0    829305      init   \n",
       "4  002_S_1280    init     m120  2017-03-02        1.0    829309      init   \n",
       "\n",
       "     dti_date        dti_description image_type  \\\n",
       "0  2017-06-21           axial dti_fa   Original   \n",
       "1  2017-04-24           axial dti_fa   Original   \n",
       "2  2017-03-15  axial dti_ap_phase_fa   Original   \n",
       "3  2017-03-13           axial dti_fa   Original   \n",
       "4  2017-03-13  axial dti(phaseap)_fa   Original   \n",
       "\n",
       "   days_between_exams_and_dti_scan PTDOBYY PTGENDER  \n",
       "0                                6  1929.0      2.0  \n",
       "1                                4  1949.0      1.0  \n",
       "2                                1  1935.0      2.0  \n",
       "3                               11  1936.0      2.0  \n",
       "4                               11  1936.0      2.0  "
      ]
     },
     "execution_count": 21,
     "metadata": {},
     "output_type": "execute_result"
    }
   ],
   "source": [
    "df.head()"
   ]
  },
  {
   "cell_type": "code",
   "execution_count": null,
   "id": "60e32bac",
   "metadata": {},
   "outputs": [],
   "source": []
  },
  {
   "cell_type": "code",
   "execution_count": null,
   "id": "421c5447",
   "metadata": {},
   "outputs": [],
   "source": []
  },
  {
   "cell_type": "code",
   "execution_count": null,
   "id": "2cbd5130",
   "metadata": {},
   "outputs": [],
   "source": []
  },
  {
   "cell_type": "code",
   "execution_count": 22,
   "id": "53809682",
   "metadata": {},
   "outputs": [],
   "source": [
    "df = df[~(df['VISCODE'] == 'sc')]"
   ]
  },
  {
   "cell_type": "code",
   "execution_count": 23,
   "id": "c9c839da",
   "metadata": {},
   "outputs": [
    {
     "name": "stdout",
     "output_type": "stream",
     "text": [
      "<class 'pandas.core.frame.DataFrame'>\n",
      "Index: 206 entries, 0 to 291\n",
      "Data columns (total 13 columns):\n",
      " #   Column                           Non-Null Count  Dtype  \n",
      "---  ------                           --------------  -----  \n",
      " 0   subject_id                       206 non-null    object \n",
      " 1   VISCODE                          206 non-null    object \n",
      " 2   VISCODE2                         206 non-null    object \n",
      " 3   EXAMDATE                         206 non-null    object \n",
      " 4   DIAGNOSIS                        206 non-null    float64\n",
      " 5   image_id                         206 non-null    int64  \n",
      " 6   dti_visit                        206 non-null    object \n",
      " 7   dti_date                         206 non-null    object \n",
      " 8   dti_description                  206 non-null    object \n",
      " 9   image_type                       206 non-null    object \n",
      " 10  days_between_exams_and_dti_scan  206 non-null    int64  \n",
      " 11  PTDOBYY                          206 non-null    object \n",
      " 12  PTGENDER                         206 non-null    object \n",
      "dtypes: float64(1), int64(2), object(10)\n",
      "memory usage: 22.5+ KB\n"
     ]
    }
   ],
   "source": [
    "df.info()"
   ]
  },
  {
   "cell_type": "code",
   "execution_count": 24,
   "id": "fed59468",
   "metadata": {},
   "outputs": [],
   "source": [
    "# df = df[df['days_between_exams_and_dti_scan'] <= 30]"
   ]
  },
  {
   "cell_type": "code",
   "execution_count": 25,
   "id": "5322f289",
   "metadata": {},
   "outputs": [
    {
     "name": "stdout",
     "output_type": "stream",
     "text": [
      "<class 'pandas.core.frame.DataFrame'>\n",
      "Index: 206 entries, 0 to 291\n",
      "Data columns (total 13 columns):\n",
      " #   Column                           Non-Null Count  Dtype  \n",
      "---  ------                           --------------  -----  \n",
      " 0   subject_id                       206 non-null    object \n",
      " 1   VISCODE                          206 non-null    object \n",
      " 2   VISCODE2                         206 non-null    object \n",
      " 3   EXAMDATE                         206 non-null    object \n",
      " 4   DIAGNOSIS                        206 non-null    float64\n",
      " 5   image_id                         206 non-null    int64  \n",
      " 6   dti_visit                        206 non-null    object \n",
      " 7   dti_date                         206 non-null    object \n",
      " 8   dti_description                  206 non-null    object \n",
      " 9   image_type                       206 non-null    object \n",
      " 10  days_between_exams_and_dti_scan  206 non-null    int64  \n",
      " 11  PTDOBYY                          206 non-null    object \n",
      " 12  PTGENDER                         206 non-null    object \n",
      "dtypes: float64(1), int64(2), object(10)\n",
      "memory usage: 22.5+ KB\n"
     ]
    }
   ],
   "source": [
    "df.info()"
   ]
  },
  {
   "cell_type": "code",
   "execution_count": 26,
   "id": "7562ab35",
   "metadata": {},
   "outputs": [
    {
     "data": {
      "text/plain": [
       "array(['Original'], dtype=object)"
      ]
     },
     "execution_count": 26,
     "metadata": {},
     "output_type": "execute_result"
    }
   ],
   "source": [
    "df.image_type.unique()"
   ]
  },
  {
   "cell_type": "code",
   "execution_count": 27,
   "id": "6ca8fc78",
   "metadata": {},
   "outputs": [
    {
     "data": {
      "text/plain": [
       "array(['init', 'sc', 'y4', 'y2', 'y1', 'y3', 'y5', 'v31'], dtype=object)"
      ]
     },
     "execution_count": 27,
     "metadata": {},
     "output_type": "execute_result"
    }
   ],
   "source": [
    "df.dti_visit.unique()"
   ]
  },
  {
   "cell_type": "code",
   "execution_count": 28,
   "id": "ea0a9ae7",
   "metadata": {},
   "outputs": [],
   "source": [
    "# Xóa các cột thừa gây nhiễu\n",
    "df = df.drop(columns=['VISCODE', 'VISCODE2', 'EXAMDATE', 'days_between_exams_and_dti_scan', 'image_type', 'dti_visit'])"
   ]
  },
  {
   "cell_type": "code",
   "execution_count": 29,
   "id": "91bd089f",
   "metadata": {},
   "outputs": [],
   "source": [
    "df = df.drop_duplicates('image_id')"
   ]
  },
  {
   "cell_type": "code",
   "execution_count": 30,
   "id": "d49dae50",
   "metadata": {},
   "outputs": [
    {
     "name": "stdout",
     "output_type": "stream",
     "text": [
      "<class 'pandas.core.frame.DataFrame'>\n",
      "Index: 205 entries, 0 to 291\n",
      "Data columns (total 7 columns):\n",
      " #   Column           Non-Null Count  Dtype  \n",
      "---  ------           --------------  -----  \n",
      " 0   subject_id       205 non-null    object \n",
      " 1   DIAGNOSIS        205 non-null    float64\n",
      " 2   image_id         205 non-null    int64  \n",
      " 3   dti_date         205 non-null    object \n",
      " 4   dti_description  205 non-null    object \n",
      " 5   PTDOBYY          205 non-null    object \n",
      " 6   PTGENDER         205 non-null    object \n",
      "dtypes: float64(1), int64(1), object(5)\n",
      "memory usage: 12.8+ KB\n"
     ]
    }
   ],
   "source": [
    "df.info()"
   ]
  },
  {
   "cell_type": "code",
   "execution_count": 31,
   "id": "08c44854",
   "metadata": {},
   "outputs": [
    {
     "data": {
      "text/plain": [
       "subject_id         205\n",
       "DIAGNOSIS          205\n",
       "image_id           205\n",
       "dti_date           205\n",
       "dti_description    205\n",
       "PTDOBYY            205\n",
       "PTGENDER           205\n",
       "dtype: int64"
      ]
     },
     "execution_count": 31,
     "metadata": {},
     "output_type": "execute_result"
    }
   ],
   "source": [
    "df.count()"
   ]
  },
  {
   "cell_type": "code",
   "execution_count": 32,
   "id": "7c8d9ec2",
   "metadata": {},
   "outputs": [
    {
     "data": {
      "text/plain": [
       "Index(['subject_id', 'DIAGNOSIS', 'image_id', 'dti_date', 'dti_description',\n",
       "       'PTDOBYY', 'PTGENDER'],\n",
       "      dtype='object')"
      ]
     },
     "execution_count": 32,
     "metadata": {},
     "output_type": "execute_result"
    }
   ],
   "source": [
    "df.columns"
   ]
  },
  {
   "cell_type": "code",
   "execution_count": 33,
   "id": "c4ad49e8",
   "metadata": {},
   "outputs": [
    {
     "data": {
      "text/plain": [
       "array(['axial dti_fa', 'axial dti_ap_phase_fa', 'axial dti(phaseap)_fa',\n",
       "       'axial mb dti_fa', 'axial dti repeat_fa', 'axial mb dti_colfa',\n",
       "       'axial dti phase direction p>a_fa', 'axial mb dti phase_nofatsata',\n",
       "       'ep2d_dki1_fa'], dtype=object)"
      ]
     },
     "execution_count": 33,
     "metadata": {},
     "output_type": "execute_result"
    }
   ],
   "source": [
    "df.dti_description.unique()"
   ]
  },
  {
   "cell_type": "code",
   "execution_count": 34,
   "id": "fcfe1389",
   "metadata": {},
   "outputs": [
    {
     "data": {
      "text/plain": [
       "dti_description\n",
       "axial dti_fa                        163\n",
       "axial mb dti_fa                      15\n",
       "axial mb dti_colfa                   13\n",
       "axial dti phase direction p>a_fa      5\n",
       "axial mb dti phase_nofatsata          5\n",
       "axial dti_ap_phase_fa                 1\n",
       "axial dti(phaseap)_fa                 1\n",
       "axial dti repeat_fa                   1\n",
       "ep2d_dki1_fa                          1\n",
       "Name: count, dtype: int64"
      ]
     },
     "execution_count": 34,
     "metadata": {},
     "output_type": "execute_result"
    }
   ],
   "source": [
    "df['dti_description'].value_counts()\n"
   ]
  },
  {
   "cell_type": "code",
   "execution_count": 35,
   "id": "a393ddf8",
   "metadata": {},
   "outputs": [
    {
     "data": {
      "text/html": [
       "<div>\n",
       "<style scoped>\n",
       "    .dataframe tbody tr th:only-of-type {\n",
       "        vertical-align: middle;\n",
       "    }\n",
       "\n",
       "    .dataframe tbody tr th {\n",
       "        vertical-align: top;\n",
       "    }\n",
       "\n",
       "    .dataframe thead th {\n",
       "        text-align: right;\n",
       "    }\n",
       "</style>\n",
       "<table border=\"1\" class=\"dataframe\">\n",
       "  <thead>\n",
       "    <tr style=\"text-align: right;\">\n",
       "      <th></th>\n",
       "      <th>subject_id</th>\n",
       "      <th>DIAGNOSIS</th>\n",
       "      <th>image_id</th>\n",
       "      <th>dti_date</th>\n",
       "      <th>dti_description</th>\n",
       "      <th>PTDOBYY</th>\n",
       "      <th>PTGENDER</th>\n",
       "    </tr>\n",
       "  </thead>\n",
       "  <tbody>\n",
       "    <tr>\n",
       "      <th>65</th>\n",
       "      <td>016_S_6934</td>\n",
       "      <td>1.0</td>\n",
       "      <td>1499632</td>\n",
       "      <td>2021-04-23</td>\n",
       "      <td>axial dti repeat_fa</td>\n",
       "      <td>1954.0</td>\n",
       "      <td>1.0</td>\n",
       "    </tr>\n",
       "  </tbody>\n",
       "</table>\n",
       "</div>"
      ],
      "text/plain": [
       "    subject_id  DIAGNOSIS  image_id    dti_date      dti_description PTDOBYY  \\\n",
       "65  016_S_6934        1.0   1499632  2021-04-23  axial dti repeat_fa  1954.0   \n",
       "\n",
       "   PTGENDER  \n",
       "65      1.0  "
      ]
     },
     "execution_count": 35,
     "metadata": {},
     "output_type": "execute_result"
    }
   ],
   "source": [
    "# danh sách các mẫu dữ liệu chụp lại\n",
    "df1 = df[df['dti_description'] == 'axial dti repeat_fa']\n",
    "df1"
   ]
  },
  {
   "cell_type": "code",
   "execution_count": 36,
   "id": "029aaaa9",
   "metadata": {},
   "outputs": [
    {
     "data": {
      "text/html": [
       "<div>\n",
       "<style scoped>\n",
       "    .dataframe tbody tr th:only-of-type {\n",
       "        vertical-align: middle;\n",
       "    }\n",
       "\n",
       "    .dataframe tbody tr th {\n",
       "        vertical-align: top;\n",
       "    }\n",
       "\n",
       "    .dataframe thead th {\n",
       "        text-align: right;\n",
       "    }\n",
       "</style>\n",
       "<table border=\"1\" class=\"dataframe\">\n",
       "  <thead>\n",
       "    <tr style=\"text-align: right;\">\n",
       "      <th></th>\n",
       "      <th>subject_id</th>\n",
       "      <th>DIAGNOSIS</th>\n",
       "      <th>image_id</th>\n",
       "      <th>dti_date</th>\n",
       "      <th>dti_description</th>\n",
       "      <th>PTDOBYY</th>\n",
       "      <th>PTGENDER</th>\n",
       "    </tr>\n",
       "  </thead>\n",
       "  <tbody>\n",
       "    <tr>\n",
       "      <th>66</th>\n",
       "      <td>016_S_6934</td>\n",
       "      <td>1.0</td>\n",
       "      <td>1499639</td>\n",
       "      <td>2021-04-23</td>\n",
       "      <td>axial dti_fa</td>\n",
       "      <td>1954.0</td>\n",
       "      <td>1.0</td>\n",
       "    </tr>\n",
       "  </tbody>\n",
       "</table>\n",
       "</div>"
      ],
      "text/plain": [
       "    subject_id  DIAGNOSIS  image_id    dti_date dti_description PTDOBYY  \\\n",
       "66  016_S_6934        1.0   1499639  2021-04-23    axial dti_fa  1954.0   \n",
       "\n",
       "   PTGENDER  \n",
       "66      1.0  "
      ]
     },
     "execution_count": 36,
     "metadata": {},
     "output_type": "execute_result"
    }
   ],
   "source": [
    "# lấy những ảnh bị lỗi phải chụp lại\n",
    "df2 = df[(df['subject_id'].isin(df1['subject_id']))]\n",
    "df2 = df2[df2['dti_description'] == 'axial dti_fa']\n",
    "df2"
   ]
  },
  {
   "cell_type": "code",
   "execution_count": 37,
   "id": "8feb41a3",
   "metadata": {},
   "outputs": [],
   "source": [
    "# lấy những ảnh loại axial dti_fa không bị lỗi\n",
    "df3 = df[df['dti_description'].isin(['axial dti_fa', 'axial dti repeat_fa'])]\n",
    "df3 = df3[~df3['image_id'].isin(df2['image_id'])]"
   ]
  },
  {
   "cell_type": "code",
   "execution_count": 38,
   "id": "c43f5a53",
   "metadata": {},
   "outputs": [
    {
     "data": {
      "text/plain": [
       "subject_id         163\n",
       "DIAGNOSIS          163\n",
       "image_id           163\n",
       "dti_date           163\n",
       "dti_description    163\n",
       "PTDOBYY            163\n",
       "PTGENDER           163\n",
       "dtype: int64"
      ]
     },
     "execution_count": 38,
     "metadata": {},
     "output_type": "execute_result"
    }
   ],
   "source": [
    "df3.count()\n"
   ]
  },
  {
   "cell_type": "code",
   "execution_count": null,
   "id": "9c1f5e6b",
   "metadata": {},
   "outputs": [],
   "source": []
  },
  {
   "cell_type": "code",
   "execution_count": 39,
   "id": "43a4f1cf",
   "metadata": {},
   "outputs": [],
   "source": [
    "# Tạo 1 df trống gồm các cột: subject_id, dti_description, dti_time, image_id\n",
    "dti_df = pd.DataFrame(columns=['subject_id', 'dti_description', 'dti_time', 'image_id'])"
   ]
  },
  {
   "cell_type": "code",
   "execution_count": 40,
   "id": "80900860",
   "metadata": {},
   "outputs": [],
   "source": [
    "data_dir = 'data/DTI' \n",
    "\n",
    "for f1 in os.listdir(data_dir):\n",
    "    if os.path.isdir(os.path.join(data_dir, f1)):\n",
    "        for f2 in os.listdir(os.path.join(data_dir, f1)):\n",
    "            if os.path.isdir(os.path.join(data_dir, f1, f2)):\n",
    "                for f3 in os.listdir(os.path.join(data_dir, f1, f2)):\n",
    "                    if os.path.isdir(os.path.join(data_dir, f1, f2, f3)):\n",
    "                        for f4 in os.listdir(os.path.join(data_dir, f1, f2, f3)):\n",
    "                            if os.path.isdir(os.path.join(data_dir, f1, f2, f3, f4)):\n",
    "                                dti_df = pd.concat([dti_df, pd.DataFrame({'subject_id': [f1], 'dti_description': [f2], 'dti_time': [f3], 'image_id': [f4]})], ignore_index=True)"
   ]
  },
  {
   "cell_type": "code",
   "execution_count": 41,
   "id": "24fb4c66",
   "metadata": {},
   "outputs": [
    {
     "data": {
      "text/html": [
       "<div>\n",
       "<style scoped>\n",
       "    .dataframe tbody tr th:only-of-type {\n",
       "        vertical-align: middle;\n",
       "    }\n",
       "\n",
       "    .dataframe tbody tr th {\n",
       "        vertical-align: top;\n",
       "    }\n",
       "\n",
       "    .dataframe thead th {\n",
       "        text-align: right;\n",
       "    }\n",
       "</style>\n",
       "<table border=\"1\" class=\"dataframe\">\n",
       "  <thead>\n",
       "    <tr style=\"text-align: right;\">\n",
       "      <th></th>\n",
       "      <th>subject_id</th>\n",
       "      <th>dti_description</th>\n",
       "      <th>dti_time</th>\n",
       "      <th>image_id</th>\n",
       "    </tr>\n",
       "  </thead>\n",
       "  <tbody>\n",
       "    <tr>\n",
       "      <th>0</th>\n",
       "      <td>002_S_0413</td>\n",
       "      <td>Axial_DTI_FA</td>\n",
       "      <td>2017-06-21_13_52_50.0</td>\n",
       "      <td>I863065</td>\n",
       "    </tr>\n",
       "    <tr>\n",
       "      <th>1</th>\n",
       "      <td>002_S_1155</td>\n",
       "      <td>Axial_DTI_FA</td>\n",
       "      <td>2017-04-24_13_50_31.0</td>\n",
       "      <td>I843518</td>\n",
       "    </tr>\n",
       "    <tr>\n",
       "      <th>2</th>\n",
       "      <td>002_S_1261</td>\n",
       "      <td>Axial_DTI_AP_Phase_FA</td>\n",
       "      <td>2017-03-15_11_52_35.0</td>\n",
       "      <td>I831090</td>\n",
       "    </tr>\n",
       "    <tr>\n",
       "      <th>3</th>\n",
       "      <td>002_S_1280</td>\n",
       "      <td>Axial_DTI_FA</td>\n",
       "      <td>2017-03-13_14_12_26.0</td>\n",
       "      <td>I829305</td>\n",
       "    </tr>\n",
       "    <tr>\n",
       "      <th>4</th>\n",
       "      <td>002_S_1280</td>\n",
       "      <td>Axial_DTI_FA</td>\n",
       "      <td>2017-03-13_14_19_47.0</td>\n",
       "      <td>I829315</td>\n",
       "    </tr>\n",
       "  </tbody>\n",
       "</table>\n",
       "</div>"
      ],
      "text/plain": [
       "   subject_id        dti_description               dti_time image_id\n",
       "0  002_S_0413           Axial_DTI_FA  2017-06-21_13_52_50.0  I863065\n",
       "1  002_S_1155           Axial_DTI_FA  2017-04-24_13_50_31.0  I843518\n",
       "2  002_S_1261  Axial_DTI_AP_Phase_FA  2017-03-15_11_52_35.0  I831090\n",
       "3  002_S_1280           Axial_DTI_FA  2017-03-13_14_12_26.0  I829305\n",
       "4  002_S_1280           Axial_DTI_FA  2017-03-13_14_19_47.0  I829315"
      ]
     },
     "execution_count": 41,
     "metadata": {},
     "output_type": "execute_result"
    }
   ],
   "source": [
    "dti_df.head()"
   ]
  },
  {
   "cell_type": "code",
   "execution_count": 42,
   "id": "c68fb6fc",
   "metadata": {},
   "outputs": [
    {
     "data": {
      "text/plain": [
       "subject_id         242\n",
       "dti_description    242\n",
       "dti_time           242\n",
       "image_id           242\n",
       "dtype: int64"
      ]
     },
     "execution_count": 42,
     "metadata": {},
     "output_type": "execute_result"
    }
   ],
   "source": [
    "dti_df.count()"
   ]
  },
  {
   "cell_type": "code",
   "execution_count": 43,
   "id": "673ac6d3",
   "metadata": {},
   "outputs": [
    {
     "data": {
      "text/plain": [
       "dti_description\n",
       "Axial_DTI_FA                        198\n",
       "Axial_MB_DTI_FA                      15\n",
       "Axial_MB_DTI_ColFA                   13\n",
       "Axial_MB_DTI_phase_noFatSatA          7\n",
       "Axial_DTI_Phase_Direction_P_A_FA      5\n",
       "Axial_DTI_AP_Phase_FA                 1\n",
       "Axial_DTI_PhaseAP__FA                 1\n",
       "Axial_DTI_REPEAT_FA                   1\n",
       "ep2d_DKI1_FA                          1\n",
       "Name: count, dtype: int64"
      ]
     },
     "execution_count": 43,
     "metadata": {},
     "output_type": "execute_result"
    }
   ],
   "source": [
    "dti_df.dti_description.value_counts()"
   ]
  },
  {
   "cell_type": "code",
   "execution_count": null,
   "id": "7b497545",
   "metadata": {},
   "outputs": [],
   "source": []
  },
  {
   "cell_type": "code",
   "execution_count": 44,
   "id": "5d4c87dd",
   "metadata": {},
   "outputs": [],
   "source": [
    "df3['image_id'] = 'I' + df3['image_id'].astype(str)"
   ]
  },
  {
   "cell_type": "code",
   "execution_count": 45,
   "id": "fb9988a3",
   "metadata": {},
   "outputs": [
    {
     "data": {
      "text/html": [
       "<div>\n",
       "<style scoped>\n",
       "    .dataframe tbody tr th:only-of-type {\n",
       "        vertical-align: middle;\n",
       "    }\n",
       "\n",
       "    .dataframe tbody tr th {\n",
       "        vertical-align: top;\n",
       "    }\n",
       "\n",
       "    .dataframe thead th {\n",
       "        text-align: right;\n",
       "    }\n",
       "</style>\n",
       "<table border=\"1\" class=\"dataframe\">\n",
       "  <thead>\n",
       "    <tr style=\"text-align: right;\">\n",
       "      <th></th>\n",
       "      <th>subject_id_x</th>\n",
       "      <th>dti_description_x</th>\n",
       "      <th>dti_time</th>\n",
       "      <th>image_id</th>\n",
       "      <th>subject_id_y</th>\n",
       "      <th>DIAGNOSIS</th>\n",
       "      <th>dti_date</th>\n",
       "      <th>dti_description_y</th>\n",
       "      <th>PTDOBYY</th>\n",
       "      <th>PTGENDER</th>\n",
       "    </tr>\n",
       "  </thead>\n",
       "  <tbody>\n",
       "    <tr>\n",
       "      <th>0</th>\n",
       "      <td>002_S_0413</td>\n",
       "      <td>Axial_DTI_FA</td>\n",
       "      <td>2017-06-21_13_52_50.0</td>\n",
       "      <td>I863065</td>\n",
       "      <td>002_S_0413</td>\n",
       "      <td>1.0</td>\n",
       "      <td>2017-06-21</td>\n",
       "      <td>axial dti_fa</td>\n",
       "      <td>1929.0</td>\n",
       "      <td>2.0</td>\n",
       "    </tr>\n",
       "    <tr>\n",
       "      <th>1</th>\n",
       "      <td>002_S_1155</td>\n",
       "      <td>Axial_DTI_FA</td>\n",
       "      <td>2017-04-24_13_50_31.0</td>\n",
       "      <td>I843518</td>\n",
       "      <td>002_S_1155</td>\n",
       "      <td>2.0</td>\n",
       "      <td>2017-04-24</td>\n",
       "      <td>axial dti_fa</td>\n",
       "      <td>1949.0</td>\n",
       "      <td>1.0</td>\n",
       "    </tr>\n",
       "    <tr>\n",
       "      <th>2</th>\n",
       "      <td>002_S_1280</td>\n",
       "      <td>Axial_DTI_FA</td>\n",
       "      <td>2017-03-13_14_12_26.0</td>\n",
       "      <td>I829305</td>\n",
       "      <td>002_S_1280</td>\n",
       "      <td>1.0</td>\n",
       "      <td>2017-03-13</td>\n",
       "      <td>axial dti_fa</td>\n",
       "      <td>1936.0</td>\n",
       "      <td>2.0</td>\n",
       "    </tr>\n",
       "    <tr>\n",
       "      <th>3</th>\n",
       "      <td>002_S_1280</td>\n",
       "      <td>Axial_DTI_FA</td>\n",
       "      <td>2017-03-13_14_19_47.0</td>\n",
       "      <td>I829315</td>\n",
       "      <td>002_S_1280</td>\n",
       "      <td>1.0</td>\n",
       "      <td>2017-03-13</td>\n",
       "      <td>axial dti_fa</td>\n",
       "      <td>1936.0</td>\n",
       "      <td>2.0</td>\n",
       "    </tr>\n",
       "    <tr>\n",
       "      <th>4</th>\n",
       "      <td>002_S_4225</td>\n",
       "      <td>Axial_DTI_FA</td>\n",
       "      <td>2018-11-12_10_38_43.0</td>\n",
       "      <td>I1075145</td>\n",
       "      <td>002_S_4225</td>\n",
       "      <td>3.0</td>\n",
       "      <td>2018-11-12</td>\n",
       "      <td>axial dti_fa</td>\n",
       "      <td>1941.0</td>\n",
       "      <td>1.0</td>\n",
       "    </tr>\n",
       "  </tbody>\n",
       "</table>\n",
       "</div>"
      ],
      "text/plain": [
       "  subject_id_x dti_description_x               dti_time  image_id  \\\n",
       "0   002_S_0413      Axial_DTI_FA  2017-06-21_13_52_50.0   I863065   \n",
       "1   002_S_1155      Axial_DTI_FA  2017-04-24_13_50_31.0   I843518   \n",
       "2   002_S_1280      Axial_DTI_FA  2017-03-13_14_12_26.0   I829305   \n",
       "3   002_S_1280      Axial_DTI_FA  2017-03-13_14_19_47.0   I829315   \n",
       "4   002_S_4225      Axial_DTI_FA  2018-11-12_10_38_43.0  I1075145   \n",
       "\n",
       "  subject_id_y  DIAGNOSIS    dti_date dti_description_y PTDOBYY PTGENDER  \n",
       "0   002_S_0413        1.0  2017-06-21      axial dti_fa  1929.0      2.0  \n",
       "1   002_S_1155        2.0  2017-04-24      axial dti_fa  1949.0      1.0  \n",
       "2   002_S_1280        1.0  2017-03-13      axial dti_fa  1936.0      2.0  \n",
       "3   002_S_1280        1.0  2017-03-13      axial dti_fa  1936.0      2.0  \n",
       "4   002_S_4225        3.0  2018-11-12      axial dti_fa  1941.0      1.0  "
      ]
     },
     "execution_count": 45,
     "metadata": {},
     "output_type": "execute_result"
    }
   ],
   "source": [
    "# chỉ lấy các mẫu dữ liệu thực sự tồn tại:\n",
    "\n",
    "df4 = pd.merge(dti_df, df3, on=['image_id'], how='inner')\n",
    "df4.head()"
   ]
  },
  {
   "cell_type": "code",
   "execution_count": 46,
   "id": "cf7f1645",
   "metadata": {},
   "outputs": [
    {
     "data": {
      "text/plain": [
       "subject_id_x         163\n",
       "dti_description_x    163\n",
       "dti_time             163\n",
       "image_id             163\n",
       "subject_id_y         163\n",
       "DIAGNOSIS            163\n",
       "dti_date             163\n",
       "dti_description_y    163\n",
       "PTDOBYY              163\n",
       "PTGENDER             163\n",
       "dtype: int64"
      ]
     },
     "execution_count": 46,
     "metadata": {},
     "output_type": "execute_result"
    }
   ],
   "source": [
    "df4.count()"
   ]
  },
  {
   "cell_type": "code",
   "execution_count": null,
   "id": "0f434b9e",
   "metadata": {},
   "outputs": [],
   "source": []
  },
  {
   "cell_type": "code",
   "execution_count": 47,
   "id": "10ac5b0c",
   "metadata": {},
   "outputs": [],
   "source": [
    "# đổi tên cột:\n",
    "df4 = df4.rename(columns={'subject_id_x': 'subject_id'})"
   ]
  },
  {
   "cell_type": "code",
   "execution_count": 48,
   "id": "118fabbf",
   "metadata": {},
   "outputs": [],
   "source": [
    "df4['dti_link'] = \"data\" + \"\\\\\" + \"DTI\" + \"\\\\\" + df4['subject_id'] + \"\\\\\" + df4['dti_description_x'] + \"\\\\\"  + df4['dti_time'] + \"\\\\\"  + df4['image_id']"
   ]
  },
  {
   "cell_type": "code",
   "execution_count": 49,
   "id": "617379db",
   "metadata": {},
   "outputs": [],
   "source": [
    "# xóa cột thừa:\n",
    "df4 = df4.drop(columns=['subject_id_y', 'dti_description_y', 'dti_description_x', 'image_id', 'dti_time'])"
   ]
  },
  {
   "cell_type": "code",
   "execution_count": 50,
   "id": "4a0db0c9",
   "metadata": {},
   "outputs": [
    {
     "data": {
      "text/html": [
       "<div>\n",
       "<style scoped>\n",
       "    .dataframe tbody tr th:only-of-type {\n",
       "        vertical-align: middle;\n",
       "    }\n",
       "\n",
       "    .dataframe tbody tr th {\n",
       "        vertical-align: top;\n",
       "    }\n",
       "\n",
       "    .dataframe thead th {\n",
       "        text-align: right;\n",
       "    }\n",
       "</style>\n",
       "<table border=\"1\" class=\"dataframe\">\n",
       "  <thead>\n",
       "    <tr style=\"text-align: right;\">\n",
       "      <th></th>\n",
       "      <th>subject_id</th>\n",
       "      <th>DIAGNOSIS</th>\n",
       "      <th>dti_date</th>\n",
       "      <th>PTDOBYY</th>\n",
       "      <th>PTGENDER</th>\n",
       "      <th>dti_link</th>\n",
       "    </tr>\n",
       "  </thead>\n",
       "  <tbody>\n",
       "    <tr>\n",
       "      <th>0</th>\n",
       "      <td>002_S_0413</td>\n",
       "      <td>1.0</td>\n",
       "      <td>2017-06-21</td>\n",
       "      <td>1929.0</td>\n",
       "      <td>2.0</td>\n",
       "      <td>data\\DTI\\002_S_0413\\Axial_DTI_FA\\2017-06-21_13...</td>\n",
       "    </tr>\n",
       "    <tr>\n",
       "      <th>1</th>\n",
       "      <td>002_S_1155</td>\n",
       "      <td>2.0</td>\n",
       "      <td>2017-04-24</td>\n",
       "      <td>1949.0</td>\n",
       "      <td>1.0</td>\n",
       "      <td>data\\DTI\\002_S_1155\\Axial_DTI_FA\\2017-04-24_13...</td>\n",
       "    </tr>\n",
       "    <tr>\n",
       "      <th>2</th>\n",
       "      <td>002_S_1280</td>\n",
       "      <td>1.0</td>\n",
       "      <td>2017-03-13</td>\n",
       "      <td>1936.0</td>\n",
       "      <td>2.0</td>\n",
       "      <td>data\\DTI\\002_S_1280\\Axial_DTI_FA\\2017-03-13_14...</td>\n",
       "    </tr>\n",
       "    <tr>\n",
       "      <th>3</th>\n",
       "      <td>002_S_1280</td>\n",
       "      <td>1.0</td>\n",
       "      <td>2017-03-13</td>\n",
       "      <td>1936.0</td>\n",
       "      <td>2.0</td>\n",
       "      <td>data\\DTI\\002_S_1280\\Axial_DTI_FA\\2017-03-13_14...</td>\n",
       "    </tr>\n",
       "    <tr>\n",
       "      <th>4</th>\n",
       "      <td>002_S_4225</td>\n",
       "      <td>3.0</td>\n",
       "      <td>2018-11-12</td>\n",
       "      <td>1941.0</td>\n",
       "      <td>1.0</td>\n",
       "      <td>data\\DTI\\002_S_4225\\Axial_DTI_FA\\2018-11-12_10...</td>\n",
       "    </tr>\n",
       "  </tbody>\n",
       "</table>\n",
       "</div>"
      ],
      "text/plain": [
       "   subject_id  DIAGNOSIS    dti_date PTDOBYY PTGENDER  \\\n",
       "0  002_S_0413        1.0  2017-06-21  1929.0      2.0   \n",
       "1  002_S_1155        2.0  2017-04-24  1949.0      1.0   \n",
       "2  002_S_1280        1.0  2017-03-13  1936.0      2.0   \n",
       "3  002_S_1280        1.0  2017-03-13  1936.0      2.0   \n",
       "4  002_S_4225        3.0  2018-11-12  1941.0      1.0   \n",
       "\n",
       "                                            dti_link  \n",
       "0  data\\DTI\\002_S_0413\\Axial_DTI_FA\\2017-06-21_13...  \n",
       "1  data\\DTI\\002_S_1155\\Axial_DTI_FA\\2017-04-24_13...  \n",
       "2  data\\DTI\\002_S_1280\\Axial_DTI_FA\\2017-03-13_14...  \n",
       "3  data\\DTI\\002_S_1280\\Axial_DTI_FA\\2017-03-13_14...  \n",
       "4  data\\DTI\\002_S_4225\\Axial_DTI_FA\\2018-11-12_10...  "
      ]
     },
     "execution_count": 50,
     "metadata": {},
     "output_type": "execute_result"
    }
   ],
   "source": [
    "df4.head()"
   ]
  },
  {
   "cell_type": "code",
   "execution_count": 51,
   "id": "591181c2",
   "metadata": {},
   "outputs": [
    {
     "data": {
      "text/plain": [
       "DIAGNOSIS\n",
       "1.0    104\n",
       "2.0     39\n",
       "3.0     20\n",
       "Name: count, dtype: int64"
      ]
     },
     "execution_count": 51,
     "metadata": {},
     "output_type": "execute_result"
    }
   ],
   "source": [
    "df4.DIAGNOSIS.value_counts()"
   ]
  },
  {
   "cell_type": "code",
   "execution_count": 52,
   "id": "65e3c79d",
   "metadata": {},
   "outputs": [
    {
     "data": {
      "text/plain": [
       "subject_id    163\n",
       "DIAGNOSIS     163\n",
       "dti_date      163\n",
       "PTDOBYY       163\n",
       "PTGENDER      163\n",
       "dti_link      163\n",
       "dtype: int64"
      ]
     },
     "execution_count": 52,
     "metadata": {},
     "output_type": "execute_result"
    }
   ],
   "source": [
    "df4.count()"
   ]
  },
  {
   "cell_type": "code",
   "execution_count": 53,
   "id": "4be355ff",
   "metadata": {},
   "outputs": [],
   "source": [
    "# lưu lại df1 vào file csv\n",
    "df4.to_csv('data/dti.csv', index=False)"
   ]
  },
  {
   "cell_type": "code",
   "execution_count": null,
   "id": "1c5605c1",
   "metadata": {},
   "outputs": [],
   "source": []
  },
  {
   "cell_type": "code",
   "execution_count": null,
   "id": "0faa998a",
   "metadata": {},
   "outputs": [],
   "source": []
  },
  {
   "cell_type": "code",
   "execution_count": null,
   "id": "f2aeeaf0",
   "metadata": {},
   "outputs": [],
   "source": []
  },
  {
   "cell_type": "code",
   "execution_count": null,
   "id": "08e5c0bd",
   "metadata": {},
   "outputs": [],
   "source": []
  },
  {
   "cell_type": "code",
   "execution_count": null,
   "id": "7ab28ad0",
   "metadata": {},
   "outputs": [],
   "source": []
  },
  {
   "cell_type": "code",
   "execution_count": null,
   "id": "317b3fac",
   "metadata": {},
   "outputs": [],
   "source": []
  },
  {
   "cell_type": "code",
   "execution_count": null,
   "id": "71ba602b",
   "metadata": {},
   "outputs": [],
   "source": []
  },
  {
   "cell_type": "code",
   "execution_count": null,
   "id": "1351c896",
   "metadata": {},
   "outputs": [],
   "source": []
  },
  {
   "cell_type": "code",
   "execution_count": null,
   "id": "940b2234",
   "metadata": {},
   "outputs": [],
   "source": []
  },
  {
   "cell_type": "code",
   "execution_count": null,
   "id": "979ff3ac",
   "metadata": {},
   "outputs": [],
   "source": []
  },
  {
   "cell_type": "code",
   "execution_count": null,
   "id": "16bbbf30",
   "metadata": {},
   "outputs": [],
   "source": []
  },
  {
   "cell_type": "code",
   "execution_count": null,
   "id": "ceb0f985",
   "metadata": {},
   "outputs": [],
   "source": []
  },
  {
   "cell_type": "code",
   "execution_count": null,
   "id": "1dee8744",
   "metadata": {},
   "outputs": [],
   "source": []
  }
 ],
 "metadata": {
  "kernelspec": {
   "display_name": "py310",
   "language": "python",
   "name": "python3"
  },
  "language_info": {
   "codemirror_mode": {
    "name": "ipython",
    "version": 3
   },
   "file_extension": ".py",
   "mimetype": "text/x-python",
   "name": "python",
   "nbconvert_exporter": "python",
   "pygments_lexer": "ipython3",
   "version": "3.10.16"
  }
 },
 "nbformat": 4,
 "nbformat_minor": 5
}

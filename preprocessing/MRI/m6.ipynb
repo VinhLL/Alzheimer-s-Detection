{
 "cells": [
  {
   "cell_type": "code",
   "execution_count": 37,
   "id": "e966722d",
   "metadata": {},
   "outputs": [],
   "source": [
    "import pandas as pd\n"
   ]
  },
  {
   "cell_type": "code",
   "execution_count": 38,
   "id": "81d836fe",
   "metadata": {},
   "outputs": [],
   "source": [
    "df = pd.read_csv(\"data/train.csv\")"
   ]
  },
  {
   "cell_type": "code",
   "execution_count": 39,
   "id": "32c11b98",
   "metadata": {},
   "outputs": [
    {
     "name": "stdout",
     "output_type": "stream",
     "text": [
      "<class 'pandas.core.frame.DataFrame'>\n",
      "RangeIndex: 98 entries, 0 to 97\n",
      "Data columns (total 5 columns):\n",
      " #   Column     Non-Null Count  Dtype  \n",
      "---  ------     --------------  -----  \n",
      " 0   diagnosis  98 non-null     float64\n",
      " 1   ptdobyy    98 non-null     float64\n",
      " 2   ptgender   98 non-null     float64\n",
      " 3   dti_link   98 non-null     object \n",
      " 4   mri_link   98 non-null     object \n",
      "dtypes: float64(3), object(2)\n",
      "memory usage: 4.0+ KB\n"
     ]
    }
   ],
   "source": [
    "df.info()"
   ]
  },
  {
   "cell_type": "code",
   "execution_count": 40,
   "id": "0393e03b",
   "metadata": {},
   "outputs": [
    {
     "data": {
      "text/html": [
       "<div>\n",
       "<style scoped>\n",
       "    .dataframe tbody tr th:only-of-type {\n",
       "        vertical-align: middle;\n",
       "    }\n",
       "\n",
       "    .dataframe tbody tr th {\n",
       "        vertical-align: top;\n",
       "    }\n",
       "\n",
       "    .dataframe thead th {\n",
       "        text-align: right;\n",
       "    }\n",
       "</style>\n",
       "<table border=\"1\" class=\"dataframe\">\n",
       "  <thead>\n",
       "    <tr style=\"text-align: right;\">\n",
       "      <th></th>\n",
       "      <th>diagnosis</th>\n",
       "      <th>ptdobyy</th>\n",
       "      <th>ptgender</th>\n",
       "      <th>dti_link</th>\n",
       "      <th>mri_link</th>\n",
       "    </tr>\n",
       "  </thead>\n",
       "  <tbody>\n",
       "    <tr>\n",
       "      <th>0</th>\n",
       "      <td>1.0</td>\n",
       "      <td>1936.0</td>\n",
       "      <td>2.0</td>\n",
       "      <td>data/DTI/002_S_1280/Axial_DTI_FA/2017-03-13_14...</td>\n",
       "      <td>data/MRI/002_S_1280/Accelerated_Sagittal_MPRAG...</td>\n",
       "    </tr>\n",
       "    <tr>\n",
       "      <th>1</th>\n",
       "      <td>1.0</td>\n",
       "      <td>1936.0</td>\n",
       "      <td>2.0</td>\n",
       "      <td>data/DTI/002_S_1280/Axial_DTI_FA/2017-03-13_14...</td>\n",
       "      <td>data/MRI/002_S_1280/Accelerated_Sagittal_MPRAG...</td>\n",
       "    </tr>\n",
       "    <tr>\n",
       "      <th>2</th>\n",
       "      <td>1.0</td>\n",
       "      <td>1944.0</td>\n",
       "      <td>1.0</td>\n",
       "      <td>data/DTI/002_S_4799/Axial_DTI_FA/2017-05-22_14...</td>\n",
       "      <td>data/MRI/002_S_4799/Accelerated_Sagittal_MPRAG...</td>\n",
       "    </tr>\n",
       "    <tr>\n",
       "      <th>3</th>\n",
       "      <td>1.0</td>\n",
       "      <td>1949.0</td>\n",
       "      <td>1.0</td>\n",
       "      <td>data/DTI/002_S_6009/Axial_DTI_FA/2017-04-17_11...</td>\n",
       "      <td>data/MRI/002_S_6009/Accelerated_Sagittal_MPRAG...</td>\n",
       "    </tr>\n",
       "    <tr>\n",
       "      <th>4</th>\n",
       "      <td>1.0</td>\n",
       "      <td>1952.0</td>\n",
       "      <td>2.0</td>\n",
       "      <td>data/DTI/002_S_6030/Axial_DTI_FA/2017-06-15_14...</td>\n",
       "      <td>data/MRI/002_S_6030/Accelerated_Sagittal_MPRAG...</td>\n",
       "    </tr>\n",
       "  </tbody>\n",
       "</table>\n",
       "</div>"
      ],
      "text/plain": [
       "   diagnosis  ptdobyy  ptgender  \\\n",
       "0        1.0   1936.0       2.0   \n",
       "1        1.0   1936.0       2.0   \n",
       "2        1.0   1944.0       1.0   \n",
       "3        1.0   1949.0       1.0   \n",
       "4        1.0   1952.0       2.0   \n",
       "\n",
       "                                            dti_link  \\\n",
       "0  data/DTI/002_S_1280/Axial_DTI_FA/2017-03-13_14...   \n",
       "1  data/DTI/002_S_1280/Axial_DTI_FA/2017-03-13_14...   \n",
       "2  data/DTI/002_S_4799/Axial_DTI_FA/2017-05-22_14...   \n",
       "3  data/DTI/002_S_6009/Axial_DTI_FA/2017-04-17_11...   \n",
       "4  data/DTI/002_S_6030/Axial_DTI_FA/2017-06-15_14...   \n",
       "\n",
       "                                            mri_link  \n",
       "0  data/MRI/002_S_1280/Accelerated_Sagittal_MPRAG...  \n",
       "1  data/MRI/002_S_1280/Accelerated_Sagittal_MPRAG...  \n",
       "2  data/MRI/002_S_4799/Accelerated_Sagittal_MPRAG...  \n",
       "3  data/MRI/002_S_6009/Accelerated_Sagittal_MPRAG...  \n",
       "4  data/MRI/002_S_6030/Accelerated_Sagittal_MPRAG...  "
      ]
     },
     "execution_count": 40,
     "metadata": {},
     "output_type": "execute_result"
    }
   ],
   "source": [
    "df.head()"
   ]
  },
  {
   "cell_type": "code",
   "execution_count": 41,
   "id": "150bab35",
   "metadata": {},
   "outputs": [
    {
     "data": {
      "text/plain": [
       "diagnosis\n",
       "1.0    66\n",
       "2.0    23\n",
       "3.0     9\n",
       "Name: count, dtype: int64"
      ]
     },
     "execution_count": 41,
     "metadata": {},
     "output_type": "execute_result"
    }
   ],
   "source": [
    "df.diagnosis.value_counts()"
   ]
  },
  {
   "cell_type": "code",
   "execution_count": 42,
   "id": "2e2197be",
   "metadata": {},
   "outputs": [
    {
     "data": {
      "text/html": [
       "<div>\n",
       "<style scoped>\n",
       "    .dataframe tbody tr th:only-of-type {\n",
       "        vertical-align: middle;\n",
       "    }\n",
       "\n",
       "    .dataframe tbody tr th {\n",
       "        vertical-align: top;\n",
       "    }\n",
       "\n",
       "    .dataframe thead th {\n",
       "        text-align: right;\n",
       "    }\n",
       "</style>\n",
       "<table border=\"1\" class=\"dataframe\">\n",
       "  <thead>\n",
       "    <tr style=\"text-align: right;\">\n",
       "      <th></th>\n",
       "      <th>diagnosis</th>\n",
       "      <th>ptdobyy</th>\n",
       "      <th>ptgender</th>\n",
       "      <th>dti_link</th>\n",
       "      <th>mri_link</th>\n",
       "    </tr>\n",
       "  </thead>\n",
       "  <tbody>\n",
       "    <tr>\n",
       "      <th>0</th>\n",
       "      <td>2.0</td>\n",
       "      <td>1949.0</td>\n",
       "      <td>1.0</td>\n",
       "      <td>data/DTI/002_S_1155/Axial_DTI_FA/2017-04-24_13...</td>\n",
       "      <td>data/MRI/002_S_1155/Accelerated_Sagittal_MPRAG...</td>\n",
       "    </tr>\n",
       "    <tr>\n",
       "      <th>1</th>\n",
       "      <td>2.0</td>\n",
       "      <td>1949.0</td>\n",
       "      <td>1.0</td>\n",
       "      <td>data/DTI/002_S_1155/Axial_DTI_FA/2017-04-24_13...</td>\n",
       "      <td>data/MRI/002_S_1155/Accelerated_Sagittal_MPRAG...</td>\n",
       "    </tr>\n",
       "    <tr>\n",
       "      <th>2</th>\n",
       "      <td>2.0</td>\n",
       "      <td>1952.0</td>\n",
       "      <td>1.0</td>\n",
       "      <td>data/DTI/016_S_6771/Axial_DTI_FA/2019-07-17_15...</td>\n",
       "      <td>data/MRI/016_S_6771/Accelerated_Sagittal_MPRAG...</td>\n",
       "    </tr>\n",
       "    <tr>\n",
       "      <th>3</th>\n",
       "      <td>2.0</td>\n",
       "      <td>1952.0</td>\n",
       "      <td>1.0</td>\n",
       "      <td>data/DTI/016_S_6771/Axial_DTI_FA/2019-07-17_15...</td>\n",
       "      <td>data/MRI/016_S_6771/Accelerated_Sagittal_MPRAG...</td>\n",
       "    </tr>\n",
       "    <tr>\n",
       "      <th>4</th>\n",
       "      <td>2.0</td>\n",
       "      <td>1952.0</td>\n",
       "      <td>1.0</td>\n",
       "      <td>data/DTI/016_S_6771/Axial_DTI_FA/2019-07-17_15...</td>\n",
       "      <td>data/MRI/016_S_6771/Accelerated_Sagittal_MPRAG...</td>\n",
       "    </tr>\n",
       "  </tbody>\n",
       "</table>\n",
       "</div>"
      ],
      "text/plain": [
       "   diagnosis  ptdobyy  ptgender  \\\n",
       "0        2.0   1949.0       1.0   \n",
       "1        2.0   1949.0       1.0   \n",
       "2        2.0   1952.0       1.0   \n",
       "3        2.0   1952.0       1.0   \n",
       "4        2.0   1952.0       1.0   \n",
       "\n",
       "                                            dti_link  \\\n",
       "0  data/DTI/002_S_1155/Axial_DTI_FA/2017-04-24_13...   \n",
       "1  data/DTI/002_S_1155/Axial_DTI_FA/2017-04-24_13...   \n",
       "2  data/DTI/016_S_6771/Axial_DTI_FA/2019-07-17_15...   \n",
       "3  data/DTI/016_S_6771/Axial_DTI_FA/2019-07-17_15...   \n",
       "4  data/DTI/016_S_6771/Axial_DTI_FA/2019-07-17_15...   \n",
       "\n",
       "                                            mri_link  \n",
       "0  data/MRI/002_S_1155/Accelerated_Sagittal_MPRAG...  \n",
       "1  data/MRI/002_S_1155/Accelerated_Sagittal_MPRAG...  \n",
       "2  data/MRI/016_S_6771/Accelerated_Sagittal_MPRAG...  \n",
       "3  data/MRI/016_S_6771/Accelerated_Sagittal_MPRAG...  \n",
       "4  data/MRI/016_S_6771/Accelerated_Sagittal_MPRAG...  "
      ]
     },
     "execution_count": 42,
     "metadata": {},
     "output_type": "execute_result"
    }
   ],
   "source": [
    "df1 = pd.read_csv(\"data/train_augmented.csv\")\n",
    "df1.head()"
   ]
  },
  {
   "cell_type": "code",
   "execution_count": 43,
   "id": "de17984c",
   "metadata": {},
   "outputs": [
    {
     "name": "stdout",
     "output_type": "stream",
     "text": [
      "<class 'pandas.core.frame.DataFrame'>\n",
      "RangeIndex: 36 entries, 0 to 35\n",
      "Data columns (total 5 columns):\n",
      " #   Column     Non-Null Count  Dtype  \n",
      "---  ------     --------------  -----  \n",
      " 0   diagnosis  36 non-null     float64\n",
      " 1   ptdobyy    36 non-null     float64\n",
      " 2   ptgender   36 non-null     float64\n",
      " 3   dti_link   36 non-null     object \n",
      " 4   mri_link   36 non-null     object \n",
      "dtypes: float64(3), object(2)\n",
      "memory usage: 1.5+ KB\n"
     ]
    }
   ],
   "source": [
    "df1.info()"
   ]
  },
  {
   "cell_type": "code",
   "execution_count": 44,
   "id": "eac86715",
   "metadata": {},
   "outputs": [
    {
     "data": {
      "text/plain": [
       "diagnosis\n",
       "2.0    19\n",
       "3.0    17\n",
       "Name: count, dtype: int64"
      ]
     },
     "execution_count": 44,
     "metadata": {},
     "output_type": "execute_result"
    }
   ],
   "source": [
    "df1.diagnosis.value_counts()   "
   ]
  },
  {
   "cell_type": "code",
   "execution_count": 45,
   "id": "2b1683bd",
   "metadata": {},
   "outputs": [],
   "source": [
    "df_merged = pd.concat([df, df1], ignore_index=True)"
   ]
  },
  {
   "cell_type": "code",
   "execution_count": 46,
   "id": "7b9ef7fd",
   "metadata": {},
   "outputs": [
    {
     "name": "stdout",
     "output_type": "stream",
     "text": [
      "<class 'pandas.core.frame.DataFrame'>\n",
      "RangeIndex: 134 entries, 0 to 133\n",
      "Data columns (total 5 columns):\n",
      " #   Column     Non-Null Count  Dtype  \n",
      "---  ------     --------------  -----  \n",
      " 0   diagnosis  134 non-null    float64\n",
      " 1   ptdobyy    134 non-null    float64\n",
      " 2   ptgender   134 non-null    float64\n",
      " 3   dti_link   134 non-null    object \n",
      " 4   mri_link   134 non-null    object \n",
      "dtypes: float64(3), object(2)\n",
      "memory usage: 5.4+ KB\n"
     ]
    }
   ],
   "source": [
    "df_merged.info()    "
   ]
  },
  {
   "cell_type": "code",
   "execution_count": 47,
   "id": "ea481299",
   "metadata": {},
   "outputs": [
    {
     "data": {
      "text/plain": [
       "diagnosis\n",
       "1.0    66\n",
       "2.0    42\n",
       "3.0    26\n",
       "Name: count, dtype: int64"
      ]
     },
     "execution_count": 47,
     "metadata": {},
     "output_type": "execute_result"
    }
   ],
   "source": [
    "df_merged.diagnosis.value_counts()"
   ]
  },
  {
   "cell_type": "code",
   "execution_count": 48,
   "id": "32e9e314",
   "metadata": {},
   "outputs": [],
   "source": [
    "# save\n",
    "df_merged.to_csv(\"data/train.csv\", index=False)"
   ]
  },
  {
   "cell_type": "code",
   "execution_count": null,
   "id": "1db1479b",
   "metadata": {},
   "outputs": [],
   "source": []
  },
  {
   "cell_type": "code",
   "execution_count": null,
   "id": "df9f3260",
   "metadata": {},
   "outputs": [],
   "source": []
  },
  {
   "cell_type": "code",
   "execution_count": null,
   "id": "c106b7ae",
   "metadata": {},
   "outputs": [],
   "source": []
  }
 ],
 "metadata": {
  "kernelspec": {
   "display_name": "py312",
   "language": "python",
   "name": "python3"
  },
  "language_info": {
   "codemirror_mode": {
    "name": "ipython",
    "version": 3
   },
   "file_extension": ".py",
   "mimetype": "text/x-python",
   "name": "python",
   "nbconvert_exporter": "python",
   "pygments_lexer": "ipython3",
   "version": "3.12.9"
  }
 },
 "nbformat": 4,
 "nbformat_minor": 5
}

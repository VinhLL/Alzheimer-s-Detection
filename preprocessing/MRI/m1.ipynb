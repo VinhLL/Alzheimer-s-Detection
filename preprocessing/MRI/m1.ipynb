{
 "cells": [
  {
   "cell_type": "code",
   "execution_count": 1,
   "id": "c26f6ac6",
   "metadata": {},
   "outputs": [],
   "source": [
    "import pandas as pd"
   ]
  },
  {
   "cell_type": "code",
   "execution_count": 2,
   "id": "a2dc7425",
   "metadata": {},
   "outputs": [
    {
     "data": {
      "text/html": [
       "<div>\n",
       "<style scoped>\n",
       "    .dataframe tbody tr th:only-of-type {\n",
       "        vertical-align: middle;\n",
       "    }\n",
       "\n",
       "    .dataframe tbody tr th {\n",
       "        vertical-align: top;\n",
       "    }\n",
       "\n",
       "    .dataframe thead th {\n",
       "        text-align: right;\n",
       "    }\n",
       "</style>\n",
       "<table border=\"1\" class=\"dataframe\">\n",
       "  <thead>\n",
       "    <tr style=\"text-align: right;\">\n",
       "      <th></th>\n",
       "      <th>DIAGNOSIS</th>\n",
       "      <th>PTDOBYY</th>\n",
       "      <th>PTGENDER</th>\n",
       "      <th>dti_link</th>\n",
       "      <th>mri_link</th>\n",
       "    </tr>\n",
       "  </thead>\n",
       "  <tbody>\n",
       "    <tr>\n",
       "      <th>0</th>\n",
       "      <td>1.0</td>\n",
       "      <td>1929.0</td>\n",
       "      <td>2.0</td>\n",
       "      <td>data\\DTI\\002_S_0413\\Axial_DTI_FA\\2017-06-21_13...</td>\n",
       "      <td>data\\MRI\\002_S_0413\\Accelerated_Sagittal_MPRAG...</td>\n",
       "    </tr>\n",
       "    <tr>\n",
       "      <th>1</th>\n",
       "      <td>2.0</td>\n",
       "      <td>1949.0</td>\n",
       "      <td>1.0</td>\n",
       "      <td>data\\DTI\\002_S_1155\\Axial_DTI_FA\\2017-04-24_13...</td>\n",
       "      <td>data\\MRI\\002_S_1155\\Accelerated_Sagittal_MPRAG...</td>\n",
       "    </tr>\n",
       "    <tr>\n",
       "      <th>2</th>\n",
       "      <td>1.0</td>\n",
       "      <td>1936.0</td>\n",
       "      <td>2.0</td>\n",
       "      <td>data\\DTI\\002_S_1280\\Axial_DTI_FA\\2017-03-13_14...</td>\n",
       "      <td>data\\MRI\\002_S_1280\\Accelerated_Sagittal_MPRAG...</td>\n",
       "    </tr>\n",
       "    <tr>\n",
       "      <th>3</th>\n",
       "      <td>1.0</td>\n",
       "      <td>1936.0</td>\n",
       "      <td>2.0</td>\n",
       "      <td>data\\DTI\\002_S_1280\\Axial_DTI_FA\\2017-03-13_14...</td>\n",
       "      <td>data\\MRI\\002_S_1280\\Accelerated_Sagittal_MPRAG...</td>\n",
       "    </tr>\n",
       "    <tr>\n",
       "      <th>4</th>\n",
       "      <td>3.0</td>\n",
       "      <td>1941.0</td>\n",
       "      <td>1.0</td>\n",
       "      <td>data\\DTI\\002_S_4225\\Axial_DTI_FA\\2018-11-12_10...</td>\n",
       "      <td>data\\MRI\\002_S_4225\\Accelerated_Sagittal_MPRAG...</td>\n",
       "    </tr>\n",
       "  </tbody>\n",
       "</table>\n",
       "</div>"
      ],
      "text/plain": [
       "   DIAGNOSIS  PTDOBYY  PTGENDER  \\\n",
       "0        1.0   1929.0       2.0   \n",
       "1        2.0   1949.0       1.0   \n",
       "2        1.0   1936.0       2.0   \n",
       "3        1.0   1936.0       2.0   \n",
       "4        3.0   1941.0       1.0   \n",
       "\n",
       "                                            dti_link  \\\n",
       "0  data\\DTI\\002_S_0413\\Axial_DTI_FA\\2017-06-21_13...   \n",
       "1  data\\DTI\\002_S_1155\\Axial_DTI_FA\\2017-04-24_13...   \n",
       "2  data\\DTI\\002_S_1280\\Axial_DTI_FA\\2017-03-13_14...   \n",
       "3  data\\DTI\\002_S_1280\\Axial_DTI_FA\\2017-03-13_14...   \n",
       "4  data\\DTI\\002_S_4225\\Axial_DTI_FA\\2018-11-12_10...   \n",
       "\n",
       "                                            mri_link  \n",
       "0  data\\MRI\\002_S_0413\\Accelerated_Sagittal_MPRAG...  \n",
       "1  data\\MRI\\002_S_1155\\Accelerated_Sagittal_MPRAG...  \n",
       "2  data\\MRI\\002_S_1280\\Accelerated_Sagittal_MPRAG...  \n",
       "3  data\\MRI\\002_S_1280\\Accelerated_Sagittal_MPRAG...  \n",
       "4  data\\MRI\\002_S_4225\\Accelerated_Sagittal_MPRAG...  "
      ]
     },
     "execution_count": 2,
     "metadata": {},
     "output_type": "execute_result"
    }
   ],
   "source": [
    "df = pd.read_csv('data/final.csv')\n",
    "df.head()"
   ]
  },
  {
   "cell_type": "code",
   "execution_count": 3,
   "id": "6848c803",
   "metadata": {},
   "outputs": [
    {
     "name": "stdout",
     "output_type": "stream",
     "text": [
      "<class 'pandas.core.frame.DataFrame'>\n",
      "RangeIndex: 172 entries, 0 to 171\n",
      "Data columns (total 5 columns):\n",
      " #   Column     Non-Null Count  Dtype  \n",
      "---  ------     --------------  -----  \n",
      " 0   DIAGNOSIS  172 non-null    float64\n",
      " 1   PTDOBYY    172 non-null    float64\n",
      " 2   PTGENDER   172 non-null    float64\n",
      " 3   dti_link   172 non-null    object \n",
      " 4   mri_link   172 non-null    object \n",
      "dtypes: float64(3), object(2)\n",
      "memory usage: 6.8+ KB\n"
     ]
    }
   ],
   "source": [
    "df.info()"
   ]
  },
  {
   "cell_type": "code",
   "execution_count": 4,
   "id": "30d857f6",
   "metadata": {},
   "outputs": [
    {
     "name": "stdout",
     "output_type": "stream",
     "text": [
      "Index(['DIAGNOSIS', 'PTDOBYY', 'PTGENDER', 'dti_link', 'mri_link'], dtype='object')\n"
     ]
    }
   ],
   "source": [
    "print(df.columns)"
   ]
  },
  {
   "cell_type": "code",
   "execution_count": 5,
   "id": "edae82f6",
   "metadata": {},
   "outputs": [
    {
     "name": "stdout",
     "output_type": "stream",
     "text": [
      "Index(['diagnosis', 'ptdobyy', 'ptgender', 'dti_link', 'mri_link'], dtype='object')\n"
     ]
    }
   ],
   "source": [
    "df.columns = df.columns.str.lower()\n",
    "print(df.columns)"
   ]
  },
  {
   "cell_type": "code",
   "execution_count": 6,
   "id": "cbb85a22",
   "metadata": {},
   "outputs": [],
   "source": [
    "df['dti_link'] = df['dti_link'].apply(lambda path: path.replace('\\\\', '/'))\n",
    "df['mri_link'] = df['mri_link'].apply(lambda path: path.replace('\\\\', '/'))"
   ]
  },
  {
   "cell_type": "code",
   "execution_count": 7,
   "id": "14f4a79b",
   "metadata": {},
   "outputs": [
    {
     "data": {
      "text/html": [
       "<div>\n",
       "<style scoped>\n",
       "    .dataframe tbody tr th:only-of-type {\n",
       "        vertical-align: middle;\n",
       "    }\n",
       "\n",
       "    .dataframe tbody tr th {\n",
       "        vertical-align: top;\n",
       "    }\n",
       "\n",
       "    .dataframe thead th {\n",
       "        text-align: right;\n",
       "    }\n",
       "</style>\n",
       "<table border=\"1\" class=\"dataframe\">\n",
       "  <thead>\n",
       "    <tr style=\"text-align: right;\">\n",
       "      <th></th>\n",
       "      <th>diagnosis</th>\n",
       "      <th>ptdobyy</th>\n",
       "      <th>ptgender</th>\n",
       "      <th>dti_link</th>\n",
       "      <th>mri_link</th>\n",
       "    </tr>\n",
       "  </thead>\n",
       "  <tbody>\n",
       "    <tr>\n",
       "      <th>0</th>\n",
       "      <td>1.0</td>\n",
       "      <td>1929.0</td>\n",
       "      <td>2.0</td>\n",
       "      <td>data/DTI/002_S_0413/Axial_DTI_FA/2017-06-21_13...</td>\n",
       "      <td>data/MRI/002_S_0413/Accelerated_Sagittal_MPRAG...</td>\n",
       "    </tr>\n",
       "    <tr>\n",
       "      <th>1</th>\n",
       "      <td>2.0</td>\n",
       "      <td>1949.0</td>\n",
       "      <td>1.0</td>\n",
       "      <td>data/DTI/002_S_1155/Axial_DTI_FA/2017-04-24_13...</td>\n",
       "      <td>data/MRI/002_S_1155/Accelerated_Sagittal_MPRAG...</td>\n",
       "    </tr>\n",
       "    <tr>\n",
       "      <th>2</th>\n",
       "      <td>1.0</td>\n",
       "      <td>1936.0</td>\n",
       "      <td>2.0</td>\n",
       "      <td>data/DTI/002_S_1280/Axial_DTI_FA/2017-03-13_14...</td>\n",
       "      <td>data/MRI/002_S_1280/Accelerated_Sagittal_MPRAG...</td>\n",
       "    </tr>\n",
       "    <tr>\n",
       "      <th>3</th>\n",
       "      <td>1.0</td>\n",
       "      <td>1936.0</td>\n",
       "      <td>2.0</td>\n",
       "      <td>data/DTI/002_S_1280/Axial_DTI_FA/2017-03-13_14...</td>\n",
       "      <td>data/MRI/002_S_1280/Accelerated_Sagittal_MPRAG...</td>\n",
       "    </tr>\n",
       "    <tr>\n",
       "      <th>4</th>\n",
       "      <td>3.0</td>\n",
       "      <td>1941.0</td>\n",
       "      <td>1.0</td>\n",
       "      <td>data/DTI/002_S_4225/Axial_DTI_FA/2018-11-12_10...</td>\n",
       "      <td>data/MRI/002_S_4225/Accelerated_Sagittal_MPRAG...</td>\n",
       "    </tr>\n",
       "  </tbody>\n",
       "</table>\n",
       "</div>"
      ],
      "text/plain": [
       "   diagnosis  ptdobyy  ptgender  \\\n",
       "0        1.0   1929.0       2.0   \n",
       "1        2.0   1949.0       1.0   \n",
       "2        1.0   1936.0       2.0   \n",
       "3        1.0   1936.0       2.0   \n",
       "4        3.0   1941.0       1.0   \n",
       "\n",
       "                                            dti_link  \\\n",
       "0  data/DTI/002_S_0413/Axial_DTI_FA/2017-06-21_13...   \n",
       "1  data/DTI/002_S_1155/Axial_DTI_FA/2017-04-24_13...   \n",
       "2  data/DTI/002_S_1280/Axial_DTI_FA/2017-03-13_14...   \n",
       "3  data/DTI/002_S_1280/Axial_DTI_FA/2017-03-13_14...   \n",
       "4  data/DTI/002_S_4225/Axial_DTI_FA/2018-11-12_10...   \n",
       "\n",
       "                                            mri_link  \n",
       "0  data/MRI/002_S_0413/Accelerated_Sagittal_MPRAG...  \n",
       "1  data/MRI/002_S_1155/Accelerated_Sagittal_MPRAG...  \n",
       "2  data/MRI/002_S_1280/Accelerated_Sagittal_MPRAG...  \n",
       "3  data/MRI/002_S_1280/Accelerated_Sagittal_MPRAG...  \n",
       "4  data/MRI/002_S_4225/Accelerated_Sagittal_MPRAG...  "
      ]
     },
     "execution_count": 7,
     "metadata": {},
     "output_type": "execute_result"
    }
   ],
   "source": [
    "df.head()"
   ]
  },
  {
   "cell_type": "code",
   "execution_count": 8,
   "id": "0b1ccb49",
   "metadata": {},
   "outputs": [
    {
     "data": {
      "text/html": [
       "<div>\n",
       "<style scoped>\n",
       "    .dataframe tbody tr th:only-of-type {\n",
       "        vertical-align: middle;\n",
       "    }\n",
       "\n",
       "    .dataframe tbody tr th {\n",
       "        vertical-align: top;\n",
       "    }\n",
       "\n",
       "    .dataframe thead th {\n",
       "        text-align: right;\n",
       "    }\n",
       "</style>\n",
       "<table border=\"1\" class=\"dataframe\">\n",
       "  <thead>\n",
       "    <tr style=\"text-align: right;\">\n",
       "      <th></th>\n",
       "      <th>diagnosis</th>\n",
       "      <th>ptdobyy</th>\n",
       "      <th>ptgender</th>\n",
       "      <th>dti_link</th>\n",
       "      <th>mri_link</th>\n",
       "    </tr>\n",
       "  </thead>\n",
       "  <tbody>\n",
       "    <tr>\n",
       "      <th>44</th>\n",
       "      <td>2.0</td>\n",
       "      <td>1948.0</td>\n",
       "      <td>1.0</td>\n",
       "      <td>data/DTI/022_S_5004/Axial_DTI_FA/2017-03-21_14...</td>\n",
       "      <td>data/MRI/022_S_5004/Accelerated_Sagittal_MPRAG...</td>\n",
       "    </tr>\n",
       "  </tbody>\n",
       "</table>\n",
       "</div>"
      ],
      "text/plain": [
       "    diagnosis  ptdobyy  ptgender  \\\n",
       "44        2.0   1948.0       1.0   \n",
       "\n",
       "                                             dti_link  \\\n",
       "44  data/DTI/022_S_5004/Axial_DTI_FA/2017-03-21_14...   \n",
       "\n",
       "                                             mri_link  \n",
       "44  data/MRI/022_S_5004/Accelerated_Sagittal_MPRAG...  "
      ]
     },
     "execution_count": 8,
     "metadata": {},
     "output_type": "execute_result"
    }
   ],
   "source": [
    "df[df['dti_link'].str.contains('022_S_5004')]"
   ]
  },
  {
   "cell_type": "code",
   "execution_count": 9,
   "id": "2d3a68ea",
   "metadata": {},
   "outputs": [],
   "source": [
    "df = df[~df['dti_link'].str.contains('022_S_5004')]\n"
   ]
  },
  {
   "cell_type": "code",
   "execution_count": 10,
   "id": "eafc05d9",
   "metadata": {},
   "outputs": [
    {
     "name": "stdout",
     "output_type": "stream",
     "text": [
      "<class 'pandas.core.frame.DataFrame'>\n",
      "Index: 171 entries, 0 to 171\n",
      "Data columns (total 5 columns):\n",
      " #   Column     Non-Null Count  Dtype  \n",
      "---  ------     --------------  -----  \n",
      " 0   diagnosis  171 non-null    float64\n",
      " 1   ptdobyy    171 non-null    float64\n",
      " 2   ptgender   171 non-null    float64\n",
      " 3   dti_link   171 non-null    object \n",
      " 4   mri_link   171 non-null    object \n",
      "dtypes: float64(3), object(2)\n",
      "memory usage: 8.0+ KB\n"
     ]
    }
   ],
   "source": [
    "df.info()"
   ]
  },
  {
   "cell_type": "code",
   "execution_count": 11,
   "id": "a0926d18",
   "metadata": {},
   "outputs": [],
   "source": [
    "# tạo cột subject_id\n",
    "\n",
    "df['subject_id'] = df['dti_link'].apply(lambda path: path.split('/')[2])"
   ]
  },
  {
   "cell_type": "code",
   "execution_count": 12,
   "id": "f22aa7ff",
   "metadata": {},
   "outputs": [
    {
     "data": {
      "text/plain": [
       "0    002_S_0413\n",
       "1    002_S_1155\n",
       "2    002_S_1280\n",
       "3    002_S_1280\n",
       "4    002_S_4225\n",
       "Name: subject_id, dtype: object"
      ]
     },
     "execution_count": 12,
     "metadata": {},
     "output_type": "execute_result"
    }
   ],
   "source": [
    "df.subject_id.head()"
   ]
  },
  {
   "cell_type": "code",
   "execution_count": 13,
   "id": "30296403",
   "metadata": {},
   "outputs": [
    {
     "data": {
      "text/html": [
       "<div>\n",
       "<style scoped>\n",
       "    .dataframe tbody tr th:only-of-type {\n",
       "        vertical-align: middle;\n",
       "    }\n",
       "\n",
       "    .dataframe tbody tr th {\n",
       "        vertical-align: top;\n",
       "    }\n",
       "\n",
       "    .dataframe thead th {\n",
       "        text-align: right;\n",
       "    }\n",
       "</style>\n",
       "<table border=\"1\" class=\"dataframe\">\n",
       "  <thead>\n",
       "    <tr style=\"text-align: right;\">\n",
       "      <th></th>\n",
       "      <th>diagnosis</th>\n",
       "      <th>ptdobyy</th>\n",
       "      <th>ptgender</th>\n",
       "      <th>dti_link</th>\n",
       "      <th>mri_link</th>\n",
       "      <th>subject_id</th>\n",
       "    </tr>\n",
       "  </thead>\n",
       "  <tbody>\n",
       "    <tr>\n",
       "      <th>0</th>\n",
       "      <td>1.0</td>\n",
       "      <td>1929.0</td>\n",
       "      <td>2.0</td>\n",
       "      <td>data/DTI/002_S_0413/Axial_DTI_FA/2017-06-21_13...</td>\n",
       "      <td>data/MRI/002_S_0413/Accelerated_Sagittal_MPRAG...</td>\n",
       "      <td>002_S_0413</td>\n",
       "    </tr>\n",
       "    <tr>\n",
       "      <th>1</th>\n",
       "      <td>2.0</td>\n",
       "      <td>1949.0</td>\n",
       "      <td>1.0</td>\n",
       "      <td>data/DTI/002_S_1155/Axial_DTI_FA/2017-04-24_13...</td>\n",
       "      <td>data/MRI/002_S_1155/Accelerated_Sagittal_MPRAG...</td>\n",
       "      <td>002_S_1155</td>\n",
       "    </tr>\n",
       "    <tr>\n",
       "      <th>2</th>\n",
       "      <td>1.0</td>\n",
       "      <td>1936.0</td>\n",
       "      <td>2.0</td>\n",
       "      <td>data/DTI/002_S_1280/Axial_DTI_FA/2017-03-13_14...</td>\n",
       "      <td>data/MRI/002_S_1280/Accelerated_Sagittal_MPRAG...</td>\n",
       "      <td>002_S_1280</td>\n",
       "    </tr>\n",
       "    <tr>\n",
       "      <th>3</th>\n",
       "      <td>1.0</td>\n",
       "      <td>1936.0</td>\n",
       "      <td>2.0</td>\n",
       "      <td>data/DTI/002_S_1280/Axial_DTI_FA/2017-03-13_14...</td>\n",
       "      <td>data/MRI/002_S_1280/Accelerated_Sagittal_MPRAG...</td>\n",
       "      <td>002_S_1280</td>\n",
       "    </tr>\n",
       "    <tr>\n",
       "      <th>4</th>\n",
       "      <td>3.0</td>\n",
       "      <td>1941.0</td>\n",
       "      <td>1.0</td>\n",
       "      <td>data/DTI/002_S_4225/Axial_DTI_FA/2018-11-12_10...</td>\n",
       "      <td>data/MRI/002_S_4225/Accelerated_Sagittal_MPRAG...</td>\n",
       "      <td>002_S_4225</td>\n",
       "    </tr>\n",
       "  </tbody>\n",
       "</table>\n",
       "</div>"
      ],
      "text/plain": [
       "   diagnosis  ptdobyy  ptgender  \\\n",
       "0        1.0   1929.0       2.0   \n",
       "1        2.0   1949.0       1.0   \n",
       "2        1.0   1936.0       2.0   \n",
       "3        1.0   1936.0       2.0   \n",
       "4        3.0   1941.0       1.0   \n",
       "\n",
       "                                            dti_link  \\\n",
       "0  data/DTI/002_S_0413/Axial_DTI_FA/2017-06-21_13...   \n",
       "1  data/DTI/002_S_1155/Axial_DTI_FA/2017-04-24_13...   \n",
       "2  data/DTI/002_S_1280/Axial_DTI_FA/2017-03-13_14...   \n",
       "3  data/DTI/002_S_1280/Axial_DTI_FA/2017-03-13_14...   \n",
       "4  data/DTI/002_S_4225/Axial_DTI_FA/2018-11-12_10...   \n",
       "\n",
       "                                            mri_link  subject_id  \n",
       "0  data/MRI/002_S_0413/Accelerated_Sagittal_MPRAG...  002_S_0413  \n",
       "1  data/MRI/002_S_1155/Accelerated_Sagittal_MPRAG...  002_S_1155  \n",
       "2  data/MRI/002_S_1280/Accelerated_Sagittal_MPRAG...  002_S_1280  \n",
       "3  data/MRI/002_S_1280/Accelerated_Sagittal_MPRAG...  002_S_1280  \n",
       "4  data/MRI/002_S_4225/Accelerated_Sagittal_MPRAG...  002_S_4225  "
      ]
     },
     "execution_count": 13,
     "metadata": {},
     "output_type": "execute_result"
    }
   ],
   "source": [
    "df.head()"
   ]
  },
  {
   "cell_type": "code",
   "execution_count": 14,
   "id": "da034dde",
   "metadata": {},
   "outputs": [],
   "source": [
    "def sample_by_label(df, label_col, counts, seed=42):\n",
    "    sampled = []\n",
    "    remaining = []\n",
    "    for label, n in counts.items():\n",
    "        subset = df[df[label_col] == label]\n",
    "        n_samples = min(len(subset), n)\n",
    "        sampled_part = subset.sample(n=n_samples, random_state=seed)\n",
    "        remaining_part = subset.drop(sampled_part.index)\n",
    "        sampled.append(sampled_part)\n",
    "        remaining.append(remaining_part)\n",
    "    return pd.concat(sampled), pd.concat(remaining)"
   ]
  },
  {
   "cell_type": "code",
   "execution_count": 15,
   "id": "bb841352",
   "metadata": {},
   "outputs": [
    {
     "name": "stdout",
     "output_type": "stream",
     "text": [
      "Test: diagnosis\n",
      "1.0    10\n",
      "2.0     5\n",
      "3.0     5\n",
      "Name: count, dtype: int64\n"
     ]
    }
   ],
   "source": [
    "test_counts = {1: 10, 2: 5, 3: 5}\n",
    "test_df, remaining_df = sample_by_label(df, 'diagnosis', test_counts)\n",
    "# Kiểm tra kết quả\n",
    "print(\"Test:\", test_df.diagnosis.value_counts())"
   ]
  },
  {
   "cell_type": "code",
   "execution_count": 16,
   "id": "8751b3fb",
   "metadata": {},
   "outputs": [
    {
     "name": "stdout",
     "output_type": "stream",
     "text": [
      "Test subject IDs: ['041_S_6785' '016_S_4951' '002_S_5178' '041_S_6786' '041_S_6192'\n",
      " '041_S_6226' '041_S_0679' '041_S_4874' '114_S_6429' '016_S_4952'\n",
      " '041_S_4513' '041_S_1418' '094_S_2238' '016_S_6789' '002_S_4225'\n",
      " '114_S_6347' '041_S_4271' '012_S_4094' '016_S_6800']\n"
     ]
    }
   ],
   "source": [
    "# lấy toàn bộ subject_id của test_df\n",
    "test_subject_ids = test_df['subject_id'].unique()\n",
    "print(\"Test subject IDs:\", test_subject_ids)\n",
    "\n",
    "# chuyển toàn bộ data của remaining_df có subject_id trong test_subject_ids sang test_df\n",
    "for subject_id in test_subject_ids:\n",
    "    subject_df = remaining_df[remaining_df['subject_id'] == subject_id]\n",
    "    if not subject_df.empty:\n",
    "        test_df = pd.concat([test_df, subject_df])\n",
    "        remaining_df = remaining_df[remaining_df['subject_id'] != subject_id]"
   ]
  },
  {
   "cell_type": "code",
   "execution_count": 17,
   "id": "93f1b5e1",
   "metadata": {},
   "outputs": [
    {
     "data": {
      "text/plain": [
       "diagnosis\n",
       "1.0    29\n",
       "2.0     9\n",
       "3.0     5\n",
       "Name: count, dtype: int64"
      ]
     },
     "execution_count": 17,
     "metadata": {},
     "output_type": "execute_result"
    }
   ],
   "source": [
    "test_df.diagnosis.value_counts()"
   ]
  },
  {
   "cell_type": "code",
   "execution_count": 18,
   "id": "37ede731",
   "metadata": {},
   "outputs": [
    {
     "name": "stdout",
     "output_type": "stream",
     "text": [
      "Val: diagnosis\n",
      "1.0    10\n",
      "2.0     5\n",
      "3.0     5\n",
      "Name: count, dtype: int64\n"
     ]
    }
   ],
   "source": [
    "val_counts = {1: 10, 2: 5, 3: 5}\n",
    "val_df, train_df = sample_by_label(remaining_df, 'diagnosis', val_counts)\n",
    "print(\"Val:\", val_df.diagnosis.value_counts())"
   ]
  },
  {
   "cell_type": "code",
   "execution_count": 19,
   "id": "e3bcbdec",
   "metadata": {},
   "outputs": [
    {
     "name": "stdout",
     "output_type": "stream",
     "text": [
      "Val subject IDs: ['041_S_4200' '002_S_0413' '036_S_4389' '024_S_5290' '041_S_4051'\n",
      " '016_S_6773' '041_S_6354' '002_S_6007' '016_S_6802' '941_S_4365'\n",
      " '041_S_5253' '137_S_6693' '041_S_6731' '016_S_6834' '036_S_4715'\n",
      " '041_S_4143' '012_S_6073' '137_S_4631' '016_S_6708']\n"
     ]
    }
   ],
   "source": [
    "# lấy toàn bộ subject_id của val_df\n",
    "val_subject_ids = val_df['subject_id'].unique()\n",
    "print(\"Val subject IDs:\", val_subject_ids)\n",
    "\n",
    "# chuyển toàn bộ data của train_df có subject_id trong val_subject_ids sang val_df\n",
    "for subject_id in val_subject_ids:\n",
    "    subject_df = train_df[train_df['subject_id'] == subject_id]\n",
    "    if not subject_df.empty:\n",
    "        val_df = pd.concat([val_df, subject_df])\n",
    "        train_df = train_df[train_df['subject_id'] != subject_id]"
   ]
  },
  {
   "cell_type": "code",
   "execution_count": 20,
   "id": "f5a641f8",
   "metadata": {},
   "outputs": [
    {
     "data": {
      "text/plain": [
       "diagnosis\n",
       "1.0    16\n",
       "2.0     8\n",
       "3.0     6\n",
       "Name: count, dtype: int64"
      ]
     },
     "execution_count": 20,
     "metadata": {},
     "output_type": "execute_result"
    }
   ],
   "source": [
    "val_df.diagnosis.value_counts()"
   ]
  },
  {
   "cell_type": "code",
   "execution_count": 21,
   "id": "32d606f4",
   "metadata": {},
   "outputs": [
    {
     "name": "stdout",
     "output_type": "stream",
     "text": [
      "Train: diagnosis\n",
      "1.0    66\n",
      "2.0    23\n",
      "3.0     9\n",
      "Name: count, dtype: int64\n",
      "Val: diagnosis\n",
      "1.0    16\n",
      "2.0     8\n",
      "3.0     6\n",
      "Name: count, dtype: int64\n",
      "Test: diagnosis\n",
      "1.0    29\n",
      "2.0     9\n",
      "3.0     5\n",
      "Name: count, dtype: int64\n"
     ]
    }
   ],
   "source": [
    "print(\"Train:\", train_df.diagnosis.value_counts())\n",
    "print(\"Val:\", val_df.diagnosis.value_counts())\n",
    "print(\"Test:\", test_df.diagnosis.value_counts())"
   ]
  },
  {
   "cell_type": "code",
   "execution_count": 22,
   "id": "6d88f2b9",
   "metadata": {},
   "outputs": [],
   "source": [
    "# xóa cột subject_id\n",
    "train_df = train_df.drop(columns=['subject_id'])\n",
    "val_df = val_df.drop(columns=['subject_id'])\n",
    "test_df = test_df.drop(columns=['subject_id'])"
   ]
  },
  {
   "cell_type": "code",
   "execution_count": 23,
   "id": "f9a9802e",
   "metadata": {},
   "outputs": [
    {
     "data": {
      "text/plain": [
       "Index(['diagnosis', 'ptdobyy', 'ptgender', 'dti_link', 'mri_link'], dtype='object')"
      ]
     },
     "execution_count": 23,
     "metadata": {},
     "output_type": "execute_result"
    }
   ],
   "source": [
    "train_df.columns"
   ]
  },
  {
   "cell_type": "code",
   "execution_count": 24,
   "id": "2656bb4d",
   "metadata": {},
   "outputs": [],
   "source": [
    "train_df.to_csv('data/train.csv', index=False)\n",
    "val_df.to_csv('data/val.csv', index=False)\n",
    "test_df.to_csv('data/test.csv', index=False)"
   ]
  },
  {
   "cell_type": "code",
   "execution_count": null,
   "id": "33dfa2cb",
   "metadata": {},
   "outputs": [],
   "source": []
  },
  {
   "cell_type": "code",
   "execution_count": null,
   "id": "943690b4",
   "metadata": {},
   "outputs": [],
   "source": []
  }
 ],
 "metadata": {
  "kernelspec": {
   "display_name": "Python 3",
   "language": "python",
   "name": "python3"
  },
  "language_info": {
   "codemirror_mode": {
    "name": "ipython",
    "version": 3
   },
   "file_extension": ".py",
   "mimetype": "text/x-python",
   "name": "python",
   "nbconvert_exporter": "python",
   "pygments_lexer": "ipython3",
   "version": "3.12.2"
  }
 },
 "nbformat": 4,
 "nbformat_minor": 5
}

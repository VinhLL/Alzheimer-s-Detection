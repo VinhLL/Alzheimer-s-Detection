{
 "cells": [
  {
   "cell_type": "code",
   "execution_count": 38,
   "id": "b9ca9ef3",
   "metadata": {},
   "outputs": [],
   "source": [
    "import pandas as pd\n",
    "import random"
   ]
  },
  {
   "cell_type": "code",
   "execution_count": 39,
   "id": "57b077ea",
   "metadata": {},
   "outputs": [],
   "source": [
    "df = pd.read_csv(\"data/train.csv\")"
   ]
  },
  {
   "cell_type": "code",
   "execution_count": 40,
   "id": "12d65c95",
   "metadata": {},
   "outputs": [
    {
     "name": "stdout",
     "output_type": "stream",
     "text": [
      "<class 'pandas.core.frame.DataFrame'>\n",
      "RangeIndex: 134 entries, 0 to 133\n",
      "Data columns (total 5 columns):\n",
      " #   Column     Non-Null Count  Dtype  \n",
      "---  ------     --------------  -----  \n",
      " 0   diagnosis  134 non-null    float64\n",
      " 1   ptdobyy    134 non-null    float64\n",
      " 2   ptgender   134 non-null    float64\n",
      " 3   dti_link   134 non-null    object \n",
      " 4   mri_link   134 non-null    object \n",
      "dtypes: float64(3), object(2)\n",
      "memory usage: 5.4+ KB\n"
     ]
    }
   ],
   "source": [
    "df.info()\n"
   ]
  },
  {
   "cell_type": "code",
   "execution_count": 41,
   "id": "30525301",
   "metadata": {},
   "outputs": [
    {
     "data": {
      "text/plain": [
       "diagnosis\n",
       "1.0    66\n",
       "2.0    42\n",
       "3.0    26\n",
       "Name: count, dtype: int64"
      ]
     },
     "execution_count": 41,
     "metadata": {},
     "output_type": "execute_result"
    }
   ],
   "source": [
    "df.diagnosis.value_counts()"
   ]
  },
  {
   "cell_type": "code",
   "execution_count": 42,
   "id": "0d09946e",
   "metadata": {},
   "outputs": [],
   "source": [
    "random.seed(42)"
   ]
  },
  {
   "cell_type": "code",
   "execution_count": 43,
   "id": "189c6f05",
   "metadata": {},
   "outputs": [],
   "source": [
    "# xóa 30% dữ liệu có nhẵn diagnosis = 1 trong df\n",
    "\n",
    "def remove_rows_with_diagnosis_1(df, percentage):\n",
    "    # Lấy chỉ số của các hàng có diagnosis = 1\n",
    "    indices_to_remove = df[df['diagnosis'] == 1].index.tolist()\n",
    "\n",
    "    # Tính số lượng hàng cần xóa\n",
    "    num_to_remove = int(len(indices_to_remove) * percentage)\n",
    "\n",
    "    # Chọn ngẫu nhiên các chỉ số để xóa\n",
    "    random_indices = random.sample(indices_to_remove, num_to_remove)\n",
    "\n",
    "    # Xóa các hàng tương ứng\n",
    "    df_dropped = df.drop(random_indices)\n",
    "\n",
    "    return df_dropped"
   ]
  },
  {
   "cell_type": "code",
   "execution_count": 44,
   "id": "45962c1d",
   "metadata": {},
   "outputs": [],
   "source": [
    "df = remove_rows_with_diagnosis_1(df, 0.3)"
   ]
  },
  {
   "cell_type": "code",
   "execution_count": 45,
   "id": "3b79b833",
   "metadata": {},
   "outputs": [
    {
     "data": {
      "text/plain": [
       "diagnosis\n",
       "1.0    47\n",
       "2.0    42\n",
       "3.0    26\n",
       "Name: count, dtype: int64"
      ]
     },
     "execution_count": 45,
     "metadata": {},
     "output_type": "execute_result"
    }
   ],
   "source": [
    "df.diagnosis.value_counts()"
   ]
  },
  {
   "cell_type": "code",
   "execution_count": 46,
   "id": "3e37c879",
   "metadata": {},
   "outputs": [],
   "source": [
    "# save df to csv\n",
    "df.to_csv(\"data/train.csv\", index=False)"
   ]
  },
  {
   "cell_type": "code",
   "execution_count": null,
   "id": "18f1585f",
   "metadata": {},
   "outputs": [],
   "source": []
  },
  {
   "cell_type": "code",
   "execution_count": null,
   "id": "36cc10e4",
   "metadata": {},
   "outputs": [],
   "source": []
  },
  {
   "cell_type": "code",
   "execution_count": null,
   "id": "c4dcb355",
   "metadata": {},
   "outputs": [],
   "source": []
  },
  {
   "cell_type": "code",
   "execution_count": null,
   "id": "2c1c7a37",
   "metadata": {},
   "outputs": [],
   "source": []
  }
 ],
 "metadata": {
  "kernelspec": {
   "display_name": "py312",
   "language": "python",
   "name": "python3"
  },
  "language_info": {
   "codemirror_mode": {
    "name": "ipython",
    "version": 3
   },
   "file_extension": ".py",
   "mimetype": "text/x-python",
   "name": "python",
   "nbconvert_exporter": "python",
   "pygments_lexer": "ipython3",
   "version": "3.12.9"
  }
 },
 "nbformat": 4,
 "nbformat_minor": 5
}
